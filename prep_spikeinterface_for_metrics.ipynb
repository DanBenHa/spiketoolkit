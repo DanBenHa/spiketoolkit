{
 "cells": [
  {
   "cell_type": "code",
   "execution_count": 1,
   "metadata": {},
   "outputs": [
    {
     "name": "stderr",
     "output_type": "stream",
     "text": [
      "13:22:19 [I] klustakwik KlustaKwik2 version 0.2.6\n",
      "/Users/colehurwitz/miniconda3/envs/spikeinterface/lib/python3.7/site-packages/networkx-2.2-py3.7.egg/networkx/classes/reportviews.py:95: DeprecationWarning: Using or importing the ABCs from 'collections' instead of from 'collections.abc' is deprecated, and in 3.8 it will stop working\n",
      "  from collections import Mapping, Set, Iterable\n"
     ]
    }
   ],
   "source": [
    "import spiketoolkit as st\n",
    "import spikeextractors as se\n",
    "import numpy as np\n",
    "import spikemetrics.metrics as metrics\n",
    "from spikemetrics.common import Epoch"
   ]
  },
  {
   "cell_type": "code",
   "execution_count": 2,
   "metadata": {},
   "outputs": [
    {
     "name": "stdout",
     "output_type": "stream",
     "text": [
      "Could not load plane information. Assuming probe is in yz plane\n"
     ]
    }
   ],
   "source": [
    "workshop_path = \"/Users/colehurwitz/\"\n",
    "# workshop_path = \"/afs/inf.ed.ac.uk/user/s17/s1727843/spiketutorials/Spike_sorting_workshop_2019/\"\n",
    "recording = se.MEArecRecordingExtractor(recording_path= workshop_path + \"recordings_36cells_four-tetrodes_30.0_10.0uV_20-06-2019_14_48.h5\")\n"
   ]
  },
  {
   "cell_type": "code",
   "execution_count": 3,
   "metadata": {},
   "outputs": [],
   "source": [
    "recording = se.load_probe_file(recording, workshop_path + 'tetrode_16.prb')"
   ]
  },
  {
   "cell_type": "code",
   "execution_count": 4,
   "metadata": {},
   "outputs": [
    {
     "data": {
      "text/plain": [
       "{'probe_file': None,\n",
       " 'adjacency_radius': None,\n",
       " 'threshold_strong_std_factor': 5,\n",
       " 'threshold_weak_std_factor': 2,\n",
       " 'detect_sign': -1,\n",
       " 'extract_s_before': 16,\n",
       " 'extract_s_after': 32,\n",
       " 'n_features_per_channel': 3,\n",
       " 'pca_n_waveforms_max': 10000,\n",
       " 'num_starting_clusters': 50}"
      ]
     },
     "execution_count": 4,
     "metadata": {},
     "output_type": "execute_result"
    }
   ],
   "source": [
    "st.sorters.KlustaSorter.default_params()"
   ]
  },
  {
   "cell_type": "code",
   "execution_count": null,
   "metadata": {},
   "outputs": [],
   "source": [
    "sorting = st.sorters.run_klusta(recording, threshold_weak_std_factor=1)"
   ]
  },
  {
   "cell_type": "code",
   "execution_count": null,
   "metadata": {},
   "outputs": [],
   "source": [
    "num_spikes = 0\n",
    "for unit_id in sorting.get_unit_ids():\n",
    "    num_spikes += len(sorting.get_unit_spike_train(unit_id))\n",
    "print(num_spikes)"
   ]
  },
  {
   "cell_type": "code",
   "execution_count": null,
   "metadata": {},
   "outputs": [],
   "source": [
    "st.postprocessing.export_to_phy(recording, sorting, output_folder='phy_results')"
   ]
  },
  {
   "cell_type": "code",
   "execution_count": null,
   "metadata": {},
   "outputs": [],
   "source": [
    "metric_info = st.postprocessing.get_quality_metric_data(recording, sorting, nPC=3, ms_before=1., ms_after=2., dtype=None, max_num_waveforms=np.inf, \n",
    "                                                        max_num_pca_waveforms=np.inf, save_waveforms=False, verbose=False)"
   ]
  },
  {
   "cell_type": "code",
   "execution_count": null,
   "metadata": {},
   "outputs": [],
   "source": [
    "spike_times = metric_info[0]\n",
    "spike_clusters = metric_info[1]\n",
    "channel_map = metric_info[2]\n",
    "pc_features = metric_info[3]\n",
    "pc_feature_ind = metric_info[4]"
   ]
  },
  {
   "cell_type": "code",
   "execution_count": null,
   "metadata": {},
   "outputs": [],
   "source": [
    "params = {\n",
    "          \"isi_threshold\" : 0.0015,\n",
    "          \"min_isi\" : 0.000166,\n",
    "          \"num_channels_to_compare\" : 13,\n",
    "          \"max_spikes_for_unit\" : 500,\n",
    "          \"max_spikes_for_nn\" : 10000,\n",
    "          \"n_neighbors\" : 4,\n",
    "          'n_silhouette' : 10000,\n",
    "          \"quality_metrics_output_file\" : \"metrics.csv\",\n",
    "          \"drift_metrics_interval_s\" : 51,\n",
    "          \"drift_metrics_min_spikes_per_interval\" : 10\n",
    "         }"
   ]
  },
  {
   "cell_type": "code",
   "execution_count": null,
   "metadata": {},
   "outputs": [],
   "source": [
    "epochs_dict = {\n",
    "    'red': (300000, 960000),\n",
    "    'blue': (0, 300000)\n",
    "}"
   ]
  },
  {
   "cell_type": "code",
   "execution_count": null,
   "metadata": {},
   "outputs": [],
   "source": [
    "epochs = []\n",
    "for key in list(epochs_dict.keys()):\n",
    "    epoch_name = key\n",
    "    epoch_start_frame = epochs_dict[key][0]\n",
    "    epoch_end_frame = epochs_dict[key][1]\n",
    "    epochs.append(Epoch(name=key, start_time=recording.frame_to_time(epoch_start_frame), end_time=recording.frame_to_time(epoch_end_frame)))\n",
    "epochs = sorted(epochs, key=lambda epoch: epoch.start_time)"
   ]
  },
  {
   "cell_type": "code",
   "execution_count": null,
   "metadata": {},
   "outputs": [],
   "source": [
    "metrics_pd = metrics.calculate_metrics(spike_times=spike_times, spike_clusters=spike_clusters, channel_map=channel_map, \\\n",
    "                                       pc_features=pc_features, pc_feature_ind=pc_feature_ind, params=params, epochs = None)"
   ]
  },
  {
   "cell_type": "code",
   "execution_count": null,
   "metadata": {},
   "outputs": [],
   "source": [
    "metrics_pd"
   ]
  },
  {
   "cell_type": "code",
   "execution_count": null,
   "metadata": {},
   "outputs": [],
   "source": []
  },
  {
   "cell_type": "code",
   "execution_count": null,
   "metadata": {},
   "outputs": [],
   "source": []
  }
 ],
 "metadata": {
  "kernelspec": {
   "display_name": "Python [conda env:spikeinterface] *",
   "language": "python",
   "name": "conda-env-spikeinterface-py"
  },
  "language_info": {
   "codemirror_mode": {
    "name": "ipython",
    "version": 3
   },
   "file_extension": ".py",
   "mimetype": "text/x-python",
   "name": "python",
   "nbconvert_exporter": "python",
   "pygments_lexer": "ipython3",
   "version": "3.7.2"
  }
 },
 "nbformat": 4,
 "nbformat_minor": 2
}
