{
 "cells": [
  {
   "cell_type": "code",
   "execution_count": 1,
   "metadata": {},
   "outputs": [
    {
     "name": "stderr",
     "output_type": "stream",
     "text": [
      "18:21:59 [I] klustakwik KlustaKwik2 version 0.2.6\n"
     ]
    }
   ],
   "source": [
    "import spiketoolkit as st\n",
    "import spikesorters as ss\n",
    "import spikeextractors as se\n",
    "import numpy as np\n",
    "import spikemetrics.metrics as metrics\n",
    "from spikemetrics.utils import Epoch"
   ]
  },
  {
   "cell_type": "code",
   "execution_count": 2,
   "metadata": {},
   "outputs": [
    {
     "name": "stdout",
     "output_type": "stream",
     "text": [
      "Could not load plane information. Assuming probe is in yz plane\n"
     ]
    }
   ],
   "source": [
    "# workshop_path = \"/Users/colehurwitz/spiketutorials/Spike_sorting_workshop_2019/\"\n",
    "workshop_path = \"/afs/inf.ed.ac.uk/user/s17/s1727843/spiketutorials/Spike_sorting_workshop_2019/\"\n",
    "recording = se.MEArecRecordingExtractor(recording_path= workshop_path + \"recordings_36cells_four-tetrodes_30.0_10.0uV_20-06-2019_14_48.h5\")\n"
   ]
  },
  {
   "cell_type": "code",
   "execution_count": 3,
   "metadata": {},
   "outputs": [],
   "source": [
    "recording = se.load_probe_file(recording, workshop_path + 'tetrode_16.prb')"
   ]
  },
  {
   "cell_type": "code",
   "execution_count": 4,
   "metadata": {},
   "outputs": [
    {
     "name": "stdout",
     "output_type": "stream",
     "text": [
      "Klusta units are not unique! Using unique unit ids\n"
     ]
    }
   ],
   "source": [
    "sorting = ss.run_klusta(recording)"
   ]
  },
  {
   "cell_type": "code",
   "execution_count": 5,
   "metadata": {},
   "outputs": [
    {
     "data": {
      "text/plain": [
       "30.0"
      ]
     },
     "execution_count": 5,
     "metadata": {},
     "output_type": "execute_result"
    }
   ],
   "source": [
    "recording.frame_to_time(recording.get_num_frames())"
   ]
  },
  {
   "cell_type": "code",
   "execution_count": 6,
   "metadata": {},
   "outputs": [],
   "source": [
    "metric_info = st.validation.validation_tools.get_quality_metric_data(recording, sorting, nPC=3, ms_before=1., ms_after=2., dtype=None, max_num_waveforms=np.inf, \n",
    "                                                        max_num_pca_waveforms=np.inf, save_features_props=False, verbose=False, seed=0)\n",
    "\n",
    "spike_times = metric_info[0]\n",
    "spike_clusters = metric_info[1]\n",
    "amplitudes = metric_info[2]\n",
    "pc_features = metric_info[3]\n",
    "pc_feature_ind = metric_info[4]"
   ]
  },
  {
   "cell_type": "code",
   "execution_count": 7,
   "metadata": {},
   "outputs": [],
   "source": [
    "metric_calculator = st.validation.qualitymetrics.MetricCalculator()"
   ]
  },
  {
   "cell_type": "code",
   "execution_count": 8,
   "metadata": {},
   "outputs": [],
   "source": [
    "params = metric_calculator.get_default_params_dict()"
   ]
  },
  {
   "cell_type": "code",
   "execution_count": 9,
   "metadata": {},
   "outputs": [],
   "source": [
    "start_epoch = Epoch(\"start\", 0, 15)\n",
    "end_epoch = Epoch(\"end\", 15, 30)\n",
    "epochs = [start_epoch, end_epoch]"
   ]
  },
  {
   "cell_type": "code",
   "execution_count": 10,
   "metadata": {},
   "outputs": [
    {
     "name": "stdout",
     "output_type": "stream",
     "text": [
      "Calculating isi violations\n",
      " ▒▒▒▒▒▒▒▒▒▒▒▒▒▒▒▒▒▒▒▒▒▒▒▒▒▒▒▒▒▒▒▒▒▒▒▒▒▒▒▒ 100% \n",
      "Calculating presence ratio\n",
      " ▒▒▒▒▒▒▒▒▒▒▒▒▒▒▒▒▒▒▒▒▒▒▒▒▒▒▒▒▒▒▒▒▒▒▒▒▒▒▒▒ 100% \n",
      "Calculating firing rate\n",
      " ▒▒▒▒▒▒▒▒▒▒▒▒▒▒▒▒▒▒▒▒▒▒▒▒▒▒▒▒▒▒▒▒▒▒▒▒▒▒▒▒ 100% \n",
      "Calculating amplitude cutoff\n",
      " ▒▒▒▒▒▒▒▒▒▒▒▒▒▒▒▒▒▒▒▒▒▒▒▒▒▒▒▒▒▒▒▒▒▒▒▒▒▒▒▒ 100% \n",
      "Calculating PC-based metrics\n",
      " ▒▒▒▒▒▒▒░░░░░░░░░░░░░░░░░░░░░░░░░░░░░░░░░ 19% "
     ]
    },
    {
     "name": "stderr",
     "output_type": "stream",
     "text": [
      "/afs/inf.ed.ac.uk/user/s17/s1727843/miniconda3/envs/spikeinterface/lib/python3.7/site-packages/scipy/stats/_distn_infrastructure.py:901: RuntimeWarning: invalid value encountered in greater\n",
      "  return (a < x) & (x < b)\n",
      "/afs/inf.ed.ac.uk/user/s17/s1727843/miniconda3/envs/spikeinterface/lib/python3.7/site-packages/scipy/stats/_distn_infrastructure.py:901: RuntimeWarning: invalid value encountered in less\n",
      "  return (a < x) & (x < b)\n",
      "/afs/inf.ed.ac.uk/user/s17/s1727843/miniconda3/envs/spikeinterface/lib/python3.7/site-packages/scipy/stats/_distn_infrastructure.py:1807: RuntimeWarning: invalid value encountered in greater_equal\n",
      "  cond2 = (x >= _b) & cond0\n"
     ]
    },
    {
     "name": "stdout",
     "output_type": "stream",
     "text": [
      " ▒▒▒▒▒▒▒▒▒▒▒▒▒░░░░░░░░░░░░░░░░░░░░░░░░░░░ 33% "
     ]
    },
    {
     "name": "stderr",
     "output_type": "stream",
     "text": [
      "/afs/inf.ed.ac.uk/user/s17/s1727843/miniconda3/envs/spikeinterface/lib/python3.7/site-packages/scipy/stats/_distn_infrastructure.py:901: RuntimeWarning: invalid value encountered in greater\n",
      "  return (a < x) & (x < b)\n",
      "/afs/inf.ed.ac.uk/user/s17/s1727843/miniconda3/envs/spikeinterface/lib/python3.7/site-packages/scipy/stats/_distn_infrastructure.py:901: RuntimeWarning: invalid value encountered in less\n",
      "  return (a < x) & (x < b)\n",
      "/afs/inf.ed.ac.uk/user/s17/s1727843/miniconda3/envs/spikeinterface/lib/python3.7/site-packages/scipy/stats/_distn_infrastructure.py:1807: RuntimeWarning: invalid value encountered in greater_equal\n",
      "  cond2 = (x >= _b) & cond0\n"
     ]
    },
    {
     "name": "stdout",
     "output_type": "stream",
     "text": [
      " ▒▒▒▒▒▒▒▒▒▒▒▒▒▒▒▒░░░░░░░░░░░░░░░░░░░░░░░░ 41% "
     ]
    },
    {
     "name": "stderr",
     "output_type": "stream",
     "text": [
      "/afs/inf.ed.ac.uk/user/s17/s1727843/miniconda3/envs/spikeinterface/lib/python3.7/site-packages/scipy/stats/_distn_infrastructure.py:901: RuntimeWarning: invalid value encountered in greater\n",
      "  return (a < x) & (x < b)\n",
      "/afs/inf.ed.ac.uk/user/s17/s1727843/miniconda3/envs/spikeinterface/lib/python3.7/site-packages/scipy/stats/_distn_infrastructure.py:901: RuntimeWarning: invalid value encountered in less\n",
      "  return (a < x) & (x < b)\n",
      "/afs/inf.ed.ac.uk/user/s17/s1727843/miniconda3/envs/spikeinterface/lib/python3.7/site-packages/scipy/stats/_distn_infrastructure.py:1807: RuntimeWarning: invalid value encountered in greater_equal\n",
      "  cond2 = (x >= _b) & cond0\n"
     ]
    },
    {
     "name": "stdout",
     "output_type": "stream",
     "text": [
      " ▒▒▒▒▒▒▒▒▒▒▒▒▒▒▒▒▒▒▒▒░░░░░░░░░░░░░░░░░░░░ 52% "
     ]
    },
    {
     "name": "stderr",
     "output_type": "stream",
     "text": [
      "/afs/inf.ed.ac.uk/user/s17/s1727843/miniconda3/envs/spikeinterface/lib/python3.7/site-packages/scipy/stats/_distn_infrastructure.py:901: RuntimeWarning: invalid value encountered in greater\n",
      "  return (a < x) & (x < b)\n",
      "/afs/inf.ed.ac.uk/user/s17/s1727843/miniconda3/envs/spikeinterface/lib/python3.7/site-packages/scipy/stats/_distn_infrastructure.py:901: RuntimeWarning: invalid value encountered in less\n",
      "  return (a < x) & (x < b)\n",
      "/afs/inf.ed.ac.uk/user/s17/s1727843/miniconda3/envs/spikeinterface/lib/python3.7/site-packages/scipy/stats/_distn_infrastructure.py:1807: RuntimeWarning: invalid value encountered in greater_equal\n",
      "  cond2 = (x >= _b) & cond0\n"
     ]
    },
    {
     "name": "stdout",
     "output_type": "stream",
     "text": [
      " ▒▒▒▒▒▒▒▒▒▒▒▒▒▒▒▒▒▒▒▒▒▒▒░░░░░░░░░░░░░░░░░ 59% "
     ]
    },
    {
     "name": "stderr",
     "output_type": "stream",
     "text": [
      "/afs/inf.ed.ac.uk/user/s17/s1727843/miniconda3/envs/spikeinterface/lib/python3.7/site-packages/scipy/stats/_distn_infrastructure.py:901: RuntimeWarning: invalid value encountered in greater\n",
      "  return (a < x) & (x < b)\n",
      "/afs/inf.ed.ac.uk/user/s17/s1727843/miniconda3/envs/spikeinterface/lib/python3.7/site-packages/scipy/stats/_distn_infrastructure.py:901: RuntimeWarning: invalid value encountered in less\n",
      "  return (a < x) & (x < b)\n",
      "/afs/inf.ed.ac.uk/user/s17/s1727843/miniconda3/envs/spikeinterface/lib/python3.7/site-packages/scipy/stats/_distn_infrastructure.py:1807: RuntimeWarning: invalid value encountered in greater_equal\n",
      "  cond2 = (x >= _b) & cond0\n"
     ]
    },
    {
     "name": "stdout",
     "output_type": "stream",
     "text": [
      " ▒▒▒▒▒▒▒▒▒▒▒▒▒▒▒▒▒▒▒▒▒▒▒▒▒▒▒▒▒▒▒▒▒▒▒▒▒░░░ 93% "
     ]
    },
    {
     "name": "stderr",
     "output_type": "stream",
     "text": [
      "/afs/inf.ed.ac.uk/user/s17/s1727843/miniconda3/envs/spikeinterface/lib/python3.7/site-packages/scipy/stats/_distn_infrastructure.py:901: RuntimeWarning: invalid value encountered in greater\n",
      "  return (a < x) & (x < b)\n",
      "/afs/inf.ed.ac.uk/user/s17/s1727843/miniconda3/envs/spikeinterface/lib/python3.7/site-packages/scipy/stats/_distn_infrastructure.py:901: RuntimeWarning: invalid value encountered in less\n",
      "  return (a < x) & (x < b)\n",
      "/afs/inf.ed.ac.uk/user/s17/s1727843/miniconda3/envs/spikeinterface/lib/python3.7/site-packages/scipy/stats/_distn_infrastructure.py:1807: RuntimeWarning: invalid value encountered in greater_equal\n",
      "  cond2 = (x >= _b) & cond0\n"
     ]
    },
    {
     "name": "stdout",
     "output_type": "stream",
     "text": [
      " ▒▒▒▒▒▒▒▒▒▒▒▒▒▒▒▒▒▒▒▒▒▒▒▒▒▒▒▒▒▒▒▒▒▒▒▒▒▒▒▒ 100% \n",
      "Calculating silhouette score\n",
      " ▒▒▒▒▒▒▒▒▒▒▒▒▒▒▒▒▒▒▒▒▒▒▒▒▒▒▒▒▒▒▒▒▒▒▒▒▒▒▒▒ 100% \n",
      "Calculating drift metrics\n",
      " ▒▒▒▒▒▒▒▒▒▒▒▒▒▒▒▒▒▒▒▒▒▒▒▒▒▒▒▒▒▒▒▒▒▒▒▒▒▒▒▒ 100% \n",
      "Calculating isi violations\n",
      " ▒▒▒▒▒▒▒▒▒▒▒▒▒▒▒▒▒▒▒▒▒▒▒▒▒▒▒▒▒▒▒▒▒▒▒▒▒▒▒▒ 100% \n",
      "Calculating presence ratio\n",
      " ▒▒▒▒▒▒▒▒▒▒▒▒▒▒▒▒▒▒▒▒▒▒▒▒▒▒▒▒▒▒▒▒▒▒▒▒▒▒▒▒ 100% \n",
      "Calculating firing rate\n",
      " ▒▒▒▒▒▒▒▒▒▒▒▒▒▒▒▒▒▒▒▒▒▒▒▒▒▒▒▒▒▒▒▒▒▒▒▒▒▒▒▒ 100% \n",
      "Calculating amplitude cutoff\n",
      " ▒▒▒▒▒▒▒▒▒▒▒▒▒▒▒▒▒░░░░░░░░░░░░░░░░░░░░░░░ 44% "
     ]
    },
    {
     "name": "stderr",
     "output_type": "stream",
     "text": [
      "/afs/inf.ed.ac.uk/user/s17/s1727843/miniconda3/envs/spikeinterface/lib/python3.7/site-packages/spikemetrics-0.1.0-py3.7.egg/spikemetrics/metrics.py:374: RuntimeWarning: All-NaN slice encountered\n"
     ]
    },
    {
     "name": "stdout",
     "output_type": "stream",
     "text": [
      " ▒▒▒▒▒▒▒▒▒▒▒▒▒▒▒▒▒▒▒▒▒▒▒▒▒▒▒▒▒▒▒▒▒▒▒▒▒▒▒▒ 100% \n",
      "Calculating PC-based metrics\n",
      " ▒▒▒▒▒▒▒░░░░░░░░░░░░░░░░░░░░░░░░░░░░░░░░░ 19% "
     ]
    },
    {
     "name": "stderr",
     "output_type": "stream",
     "text": [
      "/afs/inf.ed.ac.uk/user/s17/s1727843/miniconda3/envs/spikeinterface/lib/python3.7/site-packages/scipy/stats/_distn_infrastructure.py:901: RuntimeWarning: invalid value encountered in greater\n",
      "  return (a < x) & (x < b)\n",
      "/afs/inf.ed.ac.uk/user/s17/s1727843/miniconda3/envs/spikeinterface/lib/python3.7/site-packages/scipy/stats/_distn_infrastructure.py:901: RuntimeWarning: invalid value encountered in less\n",
      "  return (a < x) & (x < b)\n",
      "/afs/inf.ed.ac.uk/user/s17/s1727843/miniconda3/envs/spikeinterface/lib/python3.7/site-packages/scipy/stats/_distn_infrastructure.py:1807: RuntimeWarning: invalid value encountered in greater_equal\n",
      "  cond2 = (x >= _b) & cond0\n"
     ]
    },
    {
     "name": "stdout",
     "output_type": "stream",
     "text": [
      " ▒▒▒▒▒▒▒▒▒▒░░░░░░░░░░░░░░░░░░░░░░░░░░░░░░ 26% "
     ]
    },
    {
     "name": "stderr",
     "output_type": "stream",
     "text": [
      "/afs/inf.ed.ac.uk/user/s17/s1727843/miniconda3/envs/spikeinterface/lib/python3.7/site-packages/scipy/stats/_distn_infrastructure.py:901: RuntimeWarning: invalid value encountered in greater\n",
      "  return (a < x) & (x < b)\n",
      "/afs/inf.ed.ac.uk/user/s17/s1727843/miniconda3/envs/spikeinterface/lib/python3.7/site-packages/scipy/stats/_distn_infrastructure.py:901: RuntimeWarning: invalid value encountered in less\n",
      "  return (a < x) & (x < b)\n",
      "/afs/inf.ed.ac.uk/user/s17/s1727843/miniconda3/envs/spikeinterface/lib/python3.7/site-packages/scipy/stats/_distn_infrastructure.py:1807: RuntimeWarning: invalid value encountered in greater_equal\n",
      "  cond2 = (x >= _b) & cond0\n"
     ]
    },
    {
     "name": "stdout",
     "output_type": "stream",
     "text": [
      " ▒▒▒▒▒▒▒▒▒▒▒▒▒▒▒▒▒░░░░░░░░░░░░░░░░░░░░░░░ 44% "
     ]
    },
    {
     "name": "stderr",
     "output_type": "stream",
     "text": [
      "/afs/inf.ed.ac.uk/user/s17/s1727843/miniconda3/envs/spikeinterface/lib/python3.7/site-packages/scipy/stats/_distn_infrastructure.py:901: RuntimeWarning: invalid value encountered in greater\n",
      "  return (a < x) & (x < b)\n",
      "/afs/inf.ed.ac.uk/user/s17/s1727843/miniconda3/envs/spikeinterface/lib/python3.7/site-packages/scipy/stats/_distn_infrastructure.py:901: RuntimeWarning: invalid value encountered in less\n",
      "  return (a < x) & (x < b)\n",
      "/afs/inf.ed.ac.uk/user/s17/s1727843/miniconda3/envs/spikeinterface/lib/python3.7/site-packages/scipy/stats/_distn_infrastructure.py:1807: RuntimeWarning: invalid value encountered in greater_equal\n",
      "  cond2 = (x >= _b) & cond0\n"
     ]
    },
    {
     "name": "stdout",
     "output_type": "stream",
     "text": [
      " ▒▒▒▒▒▒▒▒▒▒▒▒▒▒▒▒▒▒▒▒▒▒░░░░░░░░░░░░░░░░░░ 56% "
     ]
    },
    {
     "name": "stderr",
     "output_type": "stream",
     "text": [
      "/afs/inf.ed.ac.uk/user/s17/s1727843/miniconda3/envs/spikeinterface/lib/python3.7/site-packages/scipy/stats/_distn_infrastructure.py:901: RuntimeWarning: invalid value encountered in greater\n",
      "  return (a < x) & (x < b)\n",
      "/afs/inf.ed.ac.uk/user/s17/s1727843/miniconda3/envs/spikeinterface/lib/python3.7/site-packages/scipy/stats/_distn_infrastructure.py:901: RuntimeWarning: invalid value encountered in less\n",
      "  return (a < x) & (x < b)\n",
      "/afs/inf.ed.ac.uk/user/s17/s1727843/miniconda3/envs/spikeinterface/lib/python3.7/site-packages/scipy/stats/_distn_infrastructure.py:1807: RuntimeWarning: invalid value encountered in greater_equal\n",
      "  cond2 = (x >= _b) & cond0\n"
     ]
    },
    {
     "name": "stdout",
     "output_type": "stream",
     "text": [
      " ▒▒▒▒▒▒▒▒▒▒▒▒▒▒▒▒▒▒▒▒▒▒▒▒▒▒▒▒░░░░░░░░░░░░ 70% "
     ]
    },
    {
     "name": "stderr",
     "output_type": "stream",
     "text": [
      "/afs/inf.ed.ac.uk/user/s17/s1727843/miniconda3/envs/spikeinterface/lib/python3.7/site-packages/scipy/stats/_distn_infrastructure.py:901: RuntimeWarning: invalid value encountered in greater\n",
      "  return (a < x) & (x < b)\n",
      "/afs/inf.ed.ac.uk/user/s17/s1727843/miniconda3/envs/spikeinterface/lib/python3.7/site-packages/scipy/stats/_distn_infrastructure.py:901: RuntimeWarning: invalid value encountered in less\n",
      "  return (a < x) & (x < b)\n",
      "/afs/inf.ed.ac.uk/user/s17/s1727843/miniconda3/envs/spikeinterface/lib/python3.7/site-packages/scipy/stats/_distn_infrastructure.py:1807: RuntimeWarning: invalid value encountered in greater_equal\n",
      "  cond2 = (x >= _b) & cond0\n"
     ]
    },
    {
     "name": "stdout",
     "output_type": "stream",
     "text": [
      " ▒▒▒▒▒▒▒▒▒▒▒▒▒▒▒▒▒▒▒▒▒▒▒▒▒▒▒▒▒▒▒▒▒▒▒░░░░░ 89% "
     ]
    },
    {
     "name": "stderr",
     "output_type": "stream",
     "text": [
      "/afs/inf.ed.ac.uk/user/s17/s1727843/miniconda3/envs/spikeinterface/lib/python3.7/site-packages/scipy/stats/_distn_infrastructure.py:901: RuntimeWarning: invalid value encountered in greater\n",
      "  return (a < x) & (x < b)\n",
      "/afs/inf.ed.ac.uk/user/s17/s1727843/miniconda3/envs/spikeinterface/lib/python3.7/site-packages/scipy/stats/_distn_infrastructure.py:901: RuntimeWarning: invalid value encountered in less\n",
      "  return (a < x) & (x < b)\n",
      "/afs/inf.ed.ac.uk/user/s17/s1727843/miniconda3/envs/spikeinterface/lib/python3.7/site-packages/scipy/stats/_distn_infrastructure.py:1807: RuntimeWarning: invalid value encountered in greater_equal\n",
      "  cond2 = (x >= _b) & cond0\n"
     ]
    },
    {
     "name": "stdout",
     "output_type": "stream",
     "text": [
      " ▒▒▒▒▒▒▒▒▒▒▒▒▒▒▒▒▒▒▒▒▒▒▒▒▒▒▒▒▒▒▒▒▒▒▒▒▒▒▒▒ 100% \n",
      "Calculating silhouette score\n",
      " ▒▒▒▒▒▒▒▒▒▒▒▒▒▒▒▒▒▒▒▒▒▒▒▒▒▒▒▒▒▒▒▒▒▒▒▒▒▒▒▒ 100% \n",
      "Calculating drift metrics\n",
      " ▒▒▒▒▒▒▒▒▒▒▒▒▒▒▒▒▒▒▒▒▒▒▒▒▒▒▒▒▒▒▒▒▒▒▒▒▒▒▒▒ 100% \n"
     ]
    },
    {
     "name": "stderr",
     "output_type": "stream",
     "text": [
      "/afs/inf.ed.ac.uk/user/s17/s1727843/miniconda3/envs/spikeinterface/lib/python3.7/site-packages/spikemetrics-0.1.0-py3.7.egg/spikemetrics/metrics.py:374: RuntimeWarning: All-NaN slice encountered\n"
     ]
    }
   ],
   "source": [
    "metrics_pd = metrics.calculate_metrics(spike_times=spike_times, spike_clusters=spike_clusters, amplitudes=amplitudes, \n",
    "                                       pc_features=pc_features, pc_feature_ind=pc_feature_ind, params=params, epochs = epochs, cluster_ids=sorting.get_unit_ids())"
   ]
  },
  {
   "cell_type": "code",
   "execution_count": 11,
   "metadata": {},
   "outputs": [],
   "source": [
    "metric_calculator.store_all_metric_data(recording, sorting, nPC=3, ms_before=1., ms_after=2., dtype=None, max_num_waveforms=np.inf, \\\n",
    "                                        max_num_pca_waveforms=np.inf, save_features_props=False)\n"
   ]
  },
  {
   "cell_type": "code",
   "execution_count": 12,
   "metadata": {},
   "outputs": [],
   "source": [
    "epoch_tuples = [(0, 15), (15, 30)]\n",
    "epoch_names = [\"start\", \"end\"]"
   ]
  },
  {
   "cell_type": "code",
   "execution_count": 13,
   "metadata": {},
   "outputs": [
    {
     "name": "stdout",
     "output_type": "stream",
     "text": [
      " ▒▒▒▒▒▒▒▒▒▒▒▒▒▒▒▒▒▒▒▒▒▒▒▒▒▒▒▒▒▒▒▒▒▒▒▒▒▒▒▒ 100% \n",
      " ▒▒▒▒▒▒▒▒▒▒▒▒▒▒▒▒▒▒▒▒▒▒▒▒▒▒▒▒▒▒▒▒▒▒▒▒▒▒▒▒ 100% \n",
      " ▒▒▒▒▒▒▒▒▒▒▒▒▒▒▒▒▒▒▒▒▒▒▒▒▒▒▒▒▒▒▒▒▒▒▒▒▒▒▒▒ 100% \n",
      " ▒▒▒▒▒▒▒▒▒▒▒▒▒▒▒▒▒▒▒▒▒▒▒▒▒▒▒▒▒▒▒▒▒▒▒▒▒▒▒▒ 100% \n",
      " ▒▒▒▒▒▒▒▒▒▒▒▒▒▒▒▒▒▒▒▒▒▒▒▒▒▒▒▒▒▒▒▒▒▒▒▒▒▒▒▒ 100% \n",
      " ▒▒▒▒▒▒▒▒▒▒▒▒▒▒▒▒▒▒▒▒▒▒▒▒▒▒▒▒▒▒▒▒▒▒▒▒▒▒▒▒ 100% \n",
      " ▒▒▒▒▒▒▒▒▒▒▒▒▒▒▒▒▒▒▒▒▒▒▒▒▒▒▒▒▒▒▒▒▒▒▒▒▒▒▒▒ 100% \n",
      " ▒▒▒▒▒▒▒▒▒▒▒▒▒▒▒▒▒▒▒▒▒▒▒▒▒▒▒▒▒▒▒▒▒▒▒▒▒▒▒▒ 100% \n",
      " ▒▒▒▒▒▒▒▒▒▒▒▒▒▒▒▒▒▒▒▒▒▒▒▒▒▒▒▒▒▒▒▒▒▒▒▒▒▒▒▒ 100% \n",
      " ▒▒▒▒▒▒▒▒▒▒▒▒▒▒▒▒▒▒▒▒▒▒▒▒▒▒▒▒▒▒▒▒▒▒▒▒▒▒▒▒ 100% \n",
      " ▒▒▒▒▒▒▒▒▒▒▒▒▒▒▒▒▒▒▒▒▒▒▒▒▒▒▒▒▒▒▒▒▒▒▒▒▒▒▒▒ 100% \n",
      " ▒▒▒▒░░░░░░░░░░░░░░░░░░░░░░░░░░░░░░░░░░░░ 11% "
     ]
    },
    {
     "name": "stderr",
     "output_type": "stream",
     "text": [
      "/afs/inf.ed.ac.uk/user/s17/s1727843/miniconda3/envs/spikeinterface/lib/python3.7/site-packages/spikemetrics-0.1.0-py3.7.egg/spikemetrics/metrics.py:374: RuntimeWarning: All-NaN slice encountered\n"
     ]
    },
    {
     "name": "stdout",
     "output_type": "stream",
     "text": [
      " ▒▒▒▒▒▒▒▒▒▒▒▒▒▒▒▒▒▒▒▒▒▒▒▒▒▒▒▒▒▒▒▒▒▒▒▒▒▒▒▒ 100% \n",
      " ▒▒▒▒▒▒▒▒▒▒▒▒▒▒▒▒▒▒▒▒▒▒▒▒▒▒░░░░░░░░░░░░░░ 67% "
     ]
    },
    {
     "name": "stderr",
     "output_type": "stream",
     "text": [
      "/afs/inf.ed.ac.uk/user/s17/s1727843/miniconda3/envs/spikeinterface/lib/python3.7/site-packages/spikemetrics-0.1.0-py3.7.egg/spikemetrics/metrics.py:374: RuntimeWarning: All-NaN slice encountered\n",
      "/afs/inf.ed.ac.uk/user/s17/s1727843/miniconda3/envs/spikeinterface/lib/python3.7/site-packages/scipy/stats/_distn_infrastructure.py:901: RuntimeWarning: invalid value encountered in greater\n",
      "  return (a < x) & (x < b)\n",
      "/afs/inf.ed.ac.uk/user/s17/s1727843/miniconda3/envs/spikeinterface/lib/python3.7/site-packages/scipy/stats/_distn_infrastructure.py:901: RuntimeWarning: invalid value encountered in less\n",
      "  return (a < x) & (x < b)\n",
      "/afs/inf.ed.ac.uk/user/s17/s1727843/miniconda3/envs/spikeinterface/lib/python3.7/site-packages/scipy/stats/_distn_infrastructure.py:1807: RuntimeWarning: invalid value encountered in greater_equal\n",
      "  cond2 = (x >= _b) & cond0\n"
     ]
    },
    {
     "name": "stdout",
     "output_type": "stream",
     "text": [
      " ▒▒▒▒▒▒▒▒▒▒▒▒▒▒▒▒▒▒▒▒▒▒▒▒▒▒▒▒▒▒▒▒▒▒▒▒▒▒▒▒ 100% \n",
      " ▒▒▒▒▒▒▒▒▒▒▒▒▒▒▒▒▒▒▒▒▒▒▒▒▒▒▒▒▒▒▒▒▒▒▒▒▒▒▒▒ 100% \n",
      " ▒▒▒▒▒▒▒▒▒▒▒▒▒▒▒▒▒▒▒▒▒▒▒▒▒▒▒▒▒▒▒▒▒▒▒▒▒▒▒▒ 100% \n",
      " ▒▒▒▒▒▒▒▒▒▒▒▒▒▒▒▒▒▒▒▒▒▒▒▒▒▒▒▒▒▒▒▒▒▒▒▒▒▒▒▒ 100% \n",
      " ▒▒▒▒▒▒▒▒▒▒▒▒▒▒▒▒▒▒▒▒▒▒▒▒▒▒▒▒▒▒▒▒▒▒▒▒▒▒▒▒ 100% \n",
      " ▒▒▒▒▒▒▒▒▒▒▒▒▒▒▒▒▒▒▒▒▒▒▒▒▒▒▒▒▒▒▒▒▒▒▒▒▒▒▒▒ 100% \n",
      " ▒▒▒▒▒▒▒▒▒▒▒▒▒▒▒▒▒▒▒▒▒▒▒▒▒▒▒▒▒▒▒▒▒▒▒▒▒▒▒▒ 100% \n",
      " ▒▒▒▒▒▒▒▒▒▒▒▒▒▒▒▒▒▒▒▒▒▒▒▒▒▒▒▒▒▒▒▒▒▒▒▒▒▒▒▒ 100% \n"
     ]
    }
   ],
   "source": [
    "firing_rates = metric_calculator.compute_firing_rates(unit_ids=None, epoch_tuples=epoch_tuples, epoch_names=epoch_names)\n",
    "\n",
    "num_spikes = metric_calculator.compute_num_spikes(unit_ids=None, epoch_tuples=epoch_tuples)\n",
    "\n",
    "isi_violations = metric_calculator.compute_isi_violations(isi_threshold=0.0015, min_isi=0.000166, unit_ids=None, epoch_tuples=epoch_tuples, epoch_names=epoch_names)\n",
    "\n",
    "presence_ratios = metric_calculator.compute_presence_ratios(unit_ids=None, epoch_tuples=epoch_tuples, epoch_names=epoch_names)\n",
    "\n",
    "max_drifts, cumulative_drifts = metric_calculator.compute_drift_metrics(drift_metrics_interval_s=51, drift_metrics_min_spikes_per_interval=10, unit_ids=None, \\\n",
    "                                                                        epoch_tuples=epoch_tuples)\n",
    "silhouette_scores = metric_calculator.compute_silhouette_score(unit_ids=None, epoch_tuples=epoch_tuples, epoch_names=epoch_names, seed=0)\n",
    "\n",
    "isolation_distances = metric_calculator.compute_isolation_distances(num_channels_to_compare=13, max_spikes_for_unit=500, unit_ids=None, epoch_tuples=epoch_tuples, epoch_names=epoch_names, seed=0)\n",
    "\n",
    "l_ratios = metric_calculator.compute_l_ratios(num_channels_to_compare=13, max_spikes_for_unit=500, unit_ids=None, epoch_tuples=epoch_tuples, epoch_names=epoch_names, seed=0)\n",
    "\n",
    "d_primes = metric_calculator.compute_d_primes(num_channels_to_compare=13, max_spikes_for_unit=500, unit_ids=None, epoch_tuples=epoch_tuples, epoch_names=epoch_names, seed=0)\n",
    "\n",
    "nn_hit_rates, nn_miss_rates = metric_calculator.compute_nn_metrics(num_channels_to_compare=13, max_spikes_for_unit=500, max_spikes_for_nn=10000, n_neighbors=4, unit_ids=None, epoch_tuples=epoch_tuples, epoch_names=epoch_names, seed=0)"
   ]
  },
  {
   "cell_type": "code",
   "execution_count": 14,
   "metadata": {},
   "outputs": [],
   "source": [
    "def nan_equal(a,b):\n",
    "    try:\n",
    "        np.testing.assert_equal(a,b)\n",
    "    except AssertionError:\n",
    "        return False\n",
    "    return True"
   ]
  },
  {
   "cell_type": "code",
   "execution_count": 15,
   "metadata": {},
   "outputs": [
    {
     "name": "stdout",
     "output_type": "stream",
     "text": [
      "True\n",
      "True\n",
      "True\n",
      "True\n",
      "True\n",
      "True\n",
      "True\n",
      "True\n",
      "True\n",
      "True\n",
      "True\n",
      "True\n"
     ]
    }
   ],
   "source": [
    "metrics_dict = metric_calculator.get_metrics_dict()\n",
    "\n",
    "print(nan_equal(np.asarray([np.hstack(epoch_metrics[1]) for epoch_metrics in metrics_dict['firing_rate']]).flatten(), np.asarray(metrics_pd['firing_rate'])))\n",
    "print(nan_equal(np.asarray([np.hstack(epoch_metrics[1]) for epoch_metrics in metrics_dict['num_spikes']]).flatten(), np.asarray(metrics_pd['num_spikes'])))\n",
    "print(nan_equal(np.asarray([np.hstack(epoch_metrics[1]) for epoch_metrics in metrics_dict['isi_viol']]).flatten(), np.asarray(metrics_pd['isi_viol'])))\n",
    "print(nan_equal(np.asarray([np.hstack(epoch_metrics[1]) for epoch_metrics in metrics_dict['presence_ratio']]).flatten(), np.asarray(metrics_pd['presence_ratio'])))\n",
    "print(nan_equal(np.asarray([np.hstack(epoch_metrics[1]) for epoch_metrics in metrics_dict['max_drift']]).flatten(), np.asarray(metrics_pd['max_drift'])))\n",
    "print(nan_equal(np.asarray([np.hstack(epoch_metrics[1]) for epoch_metrics in metrics_dict['cumulative_drift']]).flatten(), np.asarray(metrics_pd['cumulative_drift'])))\n",
    "print(nan_equal(np.asarray([np.hstack(epoch_metrics[1]) for epoch_metrics in metrics_dict['silhouette_score']]).flatten(), np.asarray(metrics_pd['silhouette_score'])))\n",
    "print(nan_equal(np.asarray([np.hstack(epoch_metrics[1]) for epoch_metrics in metrics_dict['isolation_distance']]).flatten(), np.asarray(metrics_pd['isolation_distance'])))\n",
    "print(nan_equal(np.asarray([np.hstack(epoch_metrics[1]) for epoch_metrics in metrics_dict['l_ratio']]).flatten(), np.asarray(metrics_pd['l_ratio'])))\n",
    "print(nan_equal(np.asarray([np.hstack(epoch_metrics[1]) for epoch_metrics in metrics_dict['d_prime']]).flatten(), np.asarray(metrics_pd['d_prime'])))\n",
    "print(nan_equal(np.asarray([np.hstack(epoch_metrics[1]) for epoch_metrics in metrics_dict['nn_hit_rate']]).flatten(), np.asarray(metrics_pd['nn_hit_rate'])))\n",
    "print(nan_equal(np.asarray([np.hstack(epoch_metrics[1]) for epoch_metrics in metrics_dict['nn_miss_rate']]).flatten(), np.asarray(metrics_pd['nn_miss_rate'])))"
   ]
  },
  {
   "cell_type": "code",
   "execution_count": 16,
   "metadata": {},
   "outputs": [
    {
     "data": {
      "text/plain": [
       "{'firing_rate': [(('start', 0, 15),\n",
       "   array([ 2.26827336,  5.20368594, 15.34420214,  1.53442021,  2.20155944,\n",
       "           1.46770629, 11.20793896, 13.94320977,  3.20226827,  4.26969103,\n",
       "           0.66713922,  9.00637952, 16.21148313,  2.00141767, 19.88074886,\n",
       "           2.53512905,  4.4698328 , 11.20793896,  3.33569612,  6.60467831,\n",
       "           7.20510362,  5.40382771,  1.40099237, 11.67493641, 15.2107743 ,\n",
       "          13.47621232, 11.74165034])),\n",
       "  (('end', 15, 30),\n",
       "   array([ 2.60109463,  3.80159984, 13.40564154,  1.66736835,  4.20176824,\n",
       "           0.86703154, 10.33768378, 15.40648356,  5.33557872,  4.06837878,\n",
       "           0.86703154,  8.47023122, 15.6732625 ,  2.26762096, 16.00673617,\n",
       "           3.06795777,  4.73532612,  8.27014702,  2.20092622,  6.4693892 ,\n",
       "           9.00378909,  5.66905239,  1.26719995, 11.73827319, 13.73911521,\n",
       "          12.53861   , 11.27141005]))],\n",
       " 'num_spikes': [(('0', 0, 15),\n",
       "   array([ 34.,  78., 230.,  23.,  33.,  22., 168., 209.,  48.,  64.,  10.,\n",
       "          135., 243.,  30., 298.,  38.,  67., 168.,  50.,  99., 108.,  81.,\n",
       "           21., 175., 228., 202., 176.])),\n",
       "  (('1', 15, 30),\n",
       "   array([ 39.,  57., 201.,  25.,  63.,  13., 155., 231.,  80.,  61.,  13.,\n",
       "          127., 235.,  34., 240.,  46.,  71., 124.,  33.,  97., 135.,  85.,\n",
       "           19., 176., 206., 188., 169.]))],\n",
       " 'isi_viol': [(('start', 0, 15),\n",
       "   array([14.58012073,  0.        ,  0.        ,  0.        ,  0.        ,\n",
       "           0.        ,  0.        ,  0.        ,  0.        ,  0.        ,\n",
       "           0.        ,  0.        ,  0.        ,  0.        ,  0.        ,\n",
       "           7.78144948,  0.        ,  0.        ,  0.        ,  0.        ,\n",
       "           0.48167066,  0.        ,  0.        ,  0.36690328,  0.        ,\n",
       "           0.        ,  0.36690328])),\n",
       "  (('end', 15, 30),\n",
       "   array([11.08446332,  0.        ,  0.        ,  0.        ,  0.        ,\n",
       "           0.        ,  0.        ,  0.        ,  0.        ,  0.        ,\n",
       "           0.        ,  0.        ,  0.        ,  0.        ,  0.09756637,\n",
       "           2.65587094,  0.        ,  0.        ,  0.        ,  0.        ,\n",
       "           0.61671582,  0.        ,  0.        ,  0.18142507,  0.        ,\n",
       "           0.        ,  0.59029686]))],\n",
       " 'presence_ratio': [(('start', 0, 15),\n",
       "   array([0.27, 0.54, 0.87, 0.22, 0.24, 0.19, 0.79, 0.91, 0.38, 0.42, 0.1 ,\n",
       "          0.75, 0.9 , 0.27, 0.92, 0.27, 0.48, 0.84, 0.36, 0.63, 0.64, 0.49,\n",
       "          0.2 , 0.81, 0.87, 0.9 , 0.84])),\n",
       "  (('end', 15, 30),\n",
       "   array([0.32, 0.42, 0.87, 0.19, 0.48, 0.12, 0.8 , 0.9 , 0.56, 0.47, 0.13,\n",
       "          0.7 , 0.92, 0.32, 0.89, 0.37, 0.49, 0.74, 0.27, 0.63, 0.7 , 0.56,\n",
       "          0.16, 0.8 , 0.83, 0.83, 0.84]))],\n",
       " 'max_drift': [(('0', 0, 15),\n",
       "   array([0., 0., 0., 0., 0., 0., 0., 0., 0., 0., 0., 0., 0., 0., 0., 0., 0.,\n",
       "          0., 0., 0., 0., 0., 0., 0., 0., 0., 0.])),\n",
       "  (('1', 15, 30),\n",
       "   array([0., 0., 0., 0., 0., 0., 0., 0., 0., 0., 0., 0., 0., 0., 0., 0., 0.,\n",
       "          0., 0., 0., 0., 0., 0., 0., 0., 0., 0.]))],\n",
       " 'cumulative_drift': [(('0', 0, 15),\n",
       "   array([0., 0., 0., 0., 0., 0., 0., 0., 0., 0., 0., 0., 0., 0., 0., 0., 0.,\n",
       "          0., 0., 0., 0., 0., 0., 0., 0., 0., 0.])),\n",
       "  (('1', 15, 30),\n",
       "   array([0., 0., 0., 0., 0., 0., 0., 0., 0., 0., 0., 0., 0., 0., 0., 0., 0.,\n",
       "          0., 0., 0., 0., 0., 0., 0., 0., 0., 0.]))],\n",
       " 'silhouette_score': [(('start', 0, 15),\n",
       "   array([       nan, 0.20382208, 0.33623047, 0.17819601, 0.08990093,\n",
       "          0.04844315, 0.12166758, 0.17017427, 0.22146037, 0.18427169,\n",
       "          0.37466562, 0.13330351, 0.27845878, 0.0545747 , 0.07963174,\n",
       "          0.32891089, 0.41720339, 0.18418945, 0.11103714, 0.22312201,\n",
       "          0.09354995, 0.31986844, 0.22108263, 0.15334419, 0.11169694,\n",
       "          0.11081531, 0.06825181])),\n",
       "  (('end', 15, 30),\n",
       "   array([        nan,  0.11218267,  0.33977508,  0.14702884,  0.1083754 ,\n",
       "           0.03001606,  0.09615928,  0.16497971,  0.24096662,  0.18610814,\n",
       "           0.19043263,  0.14270806,  0.32380152,  0.10932757,  0.0424878 ,\n",
       "           0.34732046,  0.48368501,  0.20394102, -0.00057819,  0.20844412,\n",
       "           0.08641669,  0.34554588,  0.22358467,  0.17947903,  0.10735503,\n",
       "           0.10460004,  0.06674557]))],\n",
       " 'isolation_distance': [(('start', 0, 15),\n",
       "   array([1.40000044e+01, 2.54418229e+01, 1.28620190e+02, 1.29886830e+15,\n",
       "          8.00970955e+01, 3.16130880e+14, 1.45575447e+02, 1.96168742e+02,\n",
       "          4.26869431e+02, 1.45909241e+02, 3.64030083e+14, 6.88814864e+01,\n",
       "          1.79592247e+02, 1.50426035e+15, 8.51507669e+01, 3.87568386e+13,\n",
       "          6.14618025e+02, 1.03977326e+02, 1.72016646e+03, 8.48814715e+01,\n",
       "          9.18430763e+01, 7.19699204e+02, 2.40936781e+14, 5.15468021e+01,\n",
       "          1.75616673e+02, 1.05967653e+02, 5.33829454e+01])),\n",
       "  (('end', 15, 30),\n",
       "   array([1.59287822e+01, 3.85246689e+01, 1.06089290e+02, 1.66017631e+15,\n",
       "          8.21884195e+01, 1.21150102e+15, 8.16049500e+01, 1.75984119e+02,\n",
       "          1.19754526e+02, 2.05765109e+02, 5.84766822e+14, 6.69859680e+01,\n",
       "          1.62599668e+02, 5.24730786e+14, 8.14300736e+01, 1.36572072e+02,\n",
       "          4.08939362e+02, 1.19728970e+02, 1.36972324e+16, 8.63613688e+01,\n",
       "          7.97720672e+01, 7.35592950e+02, 1.77572480e+14, 5.98542905e+01,\n",
       "          1.91532285e+02, 2.23925317e+02, 7.69493265e+01]))],\n",
       " 'l_ratio': [(('start', 0, 15),\n",
       "   array([9.80713378e-02, 3.75347545e-02, 9.79612799e-04,            nan,\n",
       "          6.36585230e-04,            nan, 1.08126370e-02, 4.63509195e-04,\n",
       "          0.00000000e+00, 1.22258971e-04,            nan, 2.50055177e-03,\n",
       "          1.42388461e-04,            nan, 2.43295810e-03,            nan,\n",
       "          1.00310300e-11, 6.07159576e-04, 1.21244506e-04, 2.16354921e-03,\n",
       "          2.84476118e-03, 2.36486000e-04,            nan, 2.84364185e-03,\n",
       "          6.97040778e-04, 1.74552113e-04, 1.16947134e-02])),\n",
       "  (('end', 15, 30),\n",
       "   array([8.53496142e-02, 3.09921114e-03, 4.87661604e-04,            nan,\n",
       "          3.27776424e-04,            nan, 1.45524583e-02, 1.77261518e-04,\n",
       "          2.36019046e-05, 1.06940043e-04,            nan, 3.22205728e-03,\n",
       "          1.38327225e-04,            nan, 2.80726752e-03, 1.42031819e-04,\n",
       "          0.00000000e+00, 8.57324592e-06,            nan, 1.08647146e-03,\n",
       "          2.58384070e-03, 7.89158487e-07,            nan, 4.40238370e-03,\n",
       "          1.35691919e-07, 3.39907621e-04, 3.09541719e-03]))],\n",
       " 'd_prime': [(('start', 0, 15),\n",
       "   array([ 2.44014171,  2.50682186,  4.61161764,  4.94501516,  3.74086167,\n",
       "           2.00547211,  4.8947784 ,  6.23407643,  6.17209264,  7.23253513,\n",
       "           3.7494411 ,  5.71084177,  3.14746537,  4.14542815,  4.51802232,\n",
       "           2.42675897, 10.53324948,  5.37360249,  8.55402159,  3.59387711,\n",
       "           4.78719022, 11.58179984,  2.4890767 ,  4.0103729 ,  6.6432533 ,\n",
       "           6.24331399,  3.83006766])),\n",
       "  (('end', 15, 30),\n",
       "   array([ 2.56359928,  2.53330199,  4.12587334,  3.75347119,  3.99703188,\n",
       "           1.74775916,  4.47950124,  5.43339437,  5.52243484,  7.66994724,\n",
       "           1.94755097,  5.47740726,  3.14021136,  3.94686693,  4.47192132,\n",
       "           3.35688019, 11.87581274,  5.50573555,  7.87121559,  3.29895352,\n",
       "           3.9218439 , 11.73201464,  3.46606752,  3.93171296,  6.83532439,\n",
       "           5.93551031,  4.31311946]))],\n",
       " 'nn_hit_rate': [(('start', 0, 15),\n",
       "   array([0.30392157, 0.84188034, 0.93913043, 0.56521739, 0.62626263,\n",
       "          0.54545455, 0.93849206, 0.96331738, 0.90972222, 0.93229167,\n",
       "          0.23333333, 0.87654321, 0.85048011, 0.53333333, 0.84004474,\n",
       "          0.34210526, 0.95024876, 0.82936508, 0.74      , 0.81818182,\n",
       "          0.83333333, 0.94650206, 0.15873016, 0.87619048, 0.95614035,\n",
       "          0.91254125, 0.83901515])),\n",
       "  (('end', 15, 30),\n",
       "   array([0.38461538, 0.67251462, 0.93200663, 0.57333333, 0.6984127 ,\n",
       "          0.33333333, 0.89032258, 0.95382395, 0.9       , 0.96174863,\n",
       "          0.33333333, 0.90026247, 0.87801418, 0.6372549 , 0.80972222,\n",
       "          0.52173913, 0.98122066, 0.8172043 , 0.61616162, 0.82474227,\n",
       "          0.84938272, 0.95686275, 0.31578947, 0.85037879, 0.95469256,\n",
       "          0.89184397, 0.86982249]))],\n",
       " 'nn_miss_rate': [(('start', 0, 15),\n",
       "   array([0.01056973, 0.01120897, 0.01535509, 0.00275056, 0.00606061,\n",
       "          0.00415887, 0.00834052, 0.01311866, 0.00278649, 0.00501452,\n",
       "          0.00101587, 0.006     , 0.01700111, 0.00362647, 0.03195067,\n",
       "          0.00955905, 0.00258649, 0.01336478, 0.00837209, 0.01050903,\n",
       "          0.0103909 , 0.00361806, 0.00657684, 0.01619938, 0.01153305,\n",
       "          0.01230012, 0.0142139 ])),\n",
       "  (('end', 15, 30),\n",
       "   array([0.01029601, 0.00991908, 0.01380539, 0.00326619, 0.00672783,\n",
       "          0.00512492, 0.02063896, 0.01752795, 0.00654695, 0.00549882,\n",
       "          0.00295139, 0.00441867, 0.01532235, 0.00359768, 0.01999311,\n",
       "          0.00891266, 0.00069192, 0.00861941, 0.00676329, 0.00812147,\n",
       "          0.01513514, 0.0024777 , 0.00379572, 0.01698514, 0.01049869,\n",
       "          0.01191151, 0.01346801]))]}"
      ]
     },
     "execution_count": 16,
     "metadata": {},
     "output_type": "execute_result"
    }
   ],
   "source": [
    "metric_calculator.metrics"
   ]
  },
  {
   "cell_type": "code",
   "execution_count": null,
   "metadata": {},
   "outputs": [],
   "source": []
  },
  {
   "cell_type": "code",
   "execution_count": null,
   "metadata": {},
   "outputs": [],
   "source": []
  },
  {
   "cell_type": "code",
   "execution_count": null,
   "metadata": {},
   "outputs": [],
   "source": []
  }
 ],
 "metadata": {
  "kernelspec": {
   "display_name": "Python [conda env:spikeinterface]",
   "language": "python",
   "name": "conda-env-spikeinterface-py"
  },
  "language_info": {
   "codemirror_mode": {
    "name": "ipython",
    "version": 3
   },
   "file_extension": ".py",
   "mimetype": "text/x-python",
   "name": "python",
   "nbconvert_exporter": "python",
   "pygments_lexer": "ipython3",
   "version": "3.7.1"
  }
 },
 "nbformat": 4,
 "nbformat_minor": 2
}
