{
 "cells": [
  {
   "cell_type": "markdown",
   "metadata": {},
   "source": [
    "# Basic example of Analyzer use and functions"
   ]
  },
  {
   "cell_type": "code",
   "execution_count": null,
   "metadata": {},
   "outputs": [],
   "source": [
    "# For development purposes, reload imported modules when source changes\n",
    "%load_ext autoreload\n",
    "%autoreload 2"
   ]
  },
  {
   "cell_type": "code",
   "execution_count": null,
   "metadata": {},
   "outputs": [],
   "source": [
    "import os\n",
    "import numpy as np\n",
    "import spikeinterface as si\n",
    "import spiketoolkit as stk\n",
    "import matplotlib.pylab as plt"
   ]
  },
  {
   "cell_type": "markdown",
   "metadata": {},
   "source": [
    "### Define local recording folder"
   ]
  },
  {
   "cell_type": "code",
   "execution_count": null,
   "metadata": {},
   "outputs": [],
   "source": [
    "#rec_folder = '/home/alessiob/Documents/Codes/MEArec/recordings/recordings_20cells_Neuropixels-128_10.0_10.0uV_28-09-2018:15:39'\n",
    "rec_folder = '/home/magland/src/mldevel/components/spikeforest/gen_synth_datasets/datasets/001_synth'"
   ]
  },
  {
   "cell_type": "markdown",
   "metadata": {},
   "source": [
    "Instantiate Input and Output Extractors for MEArec recordings"
   ]
  },
  {
   "cell_type": "code",
   "execution_count": null,
   "metadata": {},
   "outputs": [],
   "source": [
    "#input_ext = si.MEArecInputExtractor(recording_folder=rec_folder)\n",
    "#output_ext = si.MEArecOutputExtractor(recording_folder=rec_folder)\n",
    "input_ext=si.MdaInputExtractor(dataset_directory=rec_folder)\n",
    "output_ext=si.MdaOutputExtractor(firings_file=rec_folder+'/firings_true.mda')"
   ]
  },
  {
   "cell_type": "markdown",
   "metadata": {},
   "source": [
    "Create Analyzer object"
   ]
  },
  {
   "cell_type": "code",
   "execution_count": null,
   "metadata": {},
   "outputs": [],
   "source": [
    "analyze = stk.Analyzer(input_ext, output_ext)"
   ]
  },
  {
   "cell_type": "markdown",
   "metadata": {},
   "source": [
    "### Get Input and Output Extractor objects"
   ]
  },
  {
   "cell_type": "code",
   "execution_count": null,
   "metadata": {},
   "outputs": [],
   "source": [
    "ie = analyze.getInputExtractor()\n",
    "print(ie)"
   ]
  },
  {
   "cell_type": "code",
   "execution_count": null,
   "metadata": {},
   "outputs": [],
   "source": [
    "oe = analyze.getOutputExtractor()\n",
    "print(oe.getUnitIds())"
   ]
  },
  {
   "cell_type": "markdown",
   "metadata": {},
   "source": [
    "## Get waveforms, compute templates, compute max channel, and plot"
   ]
  },
  {
   "cell_type": "code",
   "execution_count": null,
   "metadata": {},
   "outputs": [],
   "source": [
    "wf = analyze.getUnitWaveforms(unit_ids=1)\n",
    "print(len(analyze._waveforms))"
   ]
  },
  {
   "cell_type": "code",
   "execution_count": null,
   "metadata": {},
   "outputs": [],
   "source": [
    "wf"
   ]
  },
  {
   "cell_type": "code",
   "execution_count": null,
   "metadata": {},
   "outputs": [],
   "source": [
    "import spikewidgets as sw"
   ]
  },
  {
   "cell_type": "code",
   "execution_count": null,
   "metadata": {},
   "outputs": [],
   "source": [
    "sw.UnitWaveformsWidget(input_extractor=input_ext,output_extractor=output_ext).plot()"
   ]
  },
  {
   "cell_type": "code",
   "execution_count": null,
   "metadata": {},
   "outputs": [],
   "source": [
    "template = analyze.computeUnitTemplate()\n",
    "print(len(analyze._templates))"
   ]
  },
  {
   "cell_type": "code",
   "execution_count": null,
   "metadata": {},
   "outputs": [],
   "source": [
    "max_chan = analyze.computeMaxChannel()\n",
    "print(len(analyze._maxchannels))"
   ]
  },
  {
   "cell_type": "code",
   "execution_count": null,
   "metadata": {},
   "outputs": [],
   "source": [
    "colors = plt.rcParams['axes.prop_cycle'].by_key()['color']\n",
    "for i in range(len(wf)):\n",
    "    plt.plot(wf[i][:, max_chan[i]].T, color=colors[np.mod(i, len(colors))], alpha = 0.1)\n",
    "    plt.plot(template[i][max_chan[i]], color=colors[np.mod(i, len(colors))], lw = 3)"
   ]
  },
  {
   "cell_type": "code",
   "execution_count": null,
   "metadata": {},
   "outputs": [],
   "source": [
    "for i in range(len(wf)):\n",
    "    plt.plot(template[i][max_chan[i]], color=colors[np.mod(i, len(colors))], lw = 3)"
   ]
  },
  {
   "cell_type": "code",
   "execution_count": null,
   "metadata": {},
   "outputs": [],
   "source": [
    "pca_scores, var = analyze.computePCAscores()"
   ]
  },
  {
   "cell_type": "code",
   "execution_count": null,
   "metadata": {},
   "outputs": [],
   "source": [
    "plt.plot(var, '*')"
   ]
  },
  {
   "cell_type": "code",
   "execution_count": null,
   "metadata": {},
   "outputs": [],
   "source": [
    "for i in range(len(wf)):\n",
    "    plt.plot(pca_scores[i][:, 0], pca_scores[i][:, 1], marker='*', ls='', color=colors[np.mod(i, len(colors))])"
   ]
  }
 ],
 "metadata": {
  "kernelspec": {
   "display_name": "Python 3",
   "language": "python",
   "name": "python3"
  },
  "language_info": {
   "codemirror_mode": {
    "name": "ipython",
    "version": 3
   },
   "file_extension": ".py",
   "mimetype": "text/x-python",
   "name": "python",
   "nbconvert_exporter": "python",
   "pygments_lexer": "ipython3",
   "version": "3.6.6"
  }
 },
 "nbformat": 4,
 "nbformat_minor": 2
}
