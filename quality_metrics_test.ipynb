{
 "cells": [
  {
   "cell_type": "code",
   "execution_count": 1,
   "metadata": {},
   "outputs": [],
   "source": [
    "import copy\n",
    "from collections import OrderedDict, defaultdict\n",
    "\n",
    "import numpy as np\n",
    "import pandas as pd\n",
    "from spikeextractors import RecordingExtractor, SortingExtractor\n",
    "import spikeextractors as se\n",
    "\n",
    "import spikemetrics.metrics as metrics\n",
    "import spiketoolkit as st\n",
    "from spikemetrics.utils import Epoch, printProgressBar\n",
    "from spiketoolkit.curation.thresholdcurator import ThresholdCurator\n",
    "import spiketoolkit as st\n",
    "\n",
    "from spiketoolkit.validation.validation_tools import (\n",
    "    get_all_metric_data,\n",
    "    get_amplitude_metric_data,\n",
    "    get_pca_metric_data,\n",
    "    get_spike_times_metrics_data,\n",
    ")"
   ]
  },
  {
   "cell_type": "code",
   "execution_count": 2,
   "metadata": {},
   "outputs": [],
   "source": [
    "from spiketoolkit.validation.amplitude_cutoff import AmplitudeCutoff\n",
    "from spiketoolkit.validation.metric_data import MetricData"
   ]
  },
  {
   "cell_type": "code",
   "execution_count": 3,
   "metadata": {},
   "outputs": [
    {
     "name": "stderr",
     "output_type": "stream",
     "text": [
      "/afs/inf.ed.ac.uk/user/s17/s1727843/miniconda3/envs/spikeinterface/lib/python3.7/site-packages/spikemetrics-0.1.3-py3.7.egg/spikemetrics/utils.py:407: RuntimeWarning: invalid value encountered in true_divide\n",
      "/afs/inf.ed.ac.uk/user/s17/s1727843/miniconda3/envs/spikeinterface/lib/python3.7/site-packages/numpy/lib/function_base.py:3405: RuntimeWarning: Invalid value encountered in median\n",
      "  r = func(a, **kwargs)\n",
      "/afs/inf.ed.ac.uk/user/s17/s1727843/miniconda3/envs/spikeinterface/lib/python3.7/site-packages/spikemetrics-0.1.3-py3.7.egg/spikemetrics/metrics.py:442: RuntimeWarning: All-NaN slice encountered\n"
     ]
    }
   ],
   "source": [
    "rec, sort = se.example_datasets.toy_example(duration=10, num_channels=4)\n",
    "mc = st.validation.MetricCalculator(sort, rec)\n",
    "mc.compute_all_metric_data()\n",
    "\n",
    "_ = mc.compute_metrics()\n",
    "metric_dict = mc.get_metrics_dict()\n",
    "assert type(mc._recording._recording).__name__ == 'BandpassFilterRecording' #check if filter by default\n",
    "assert 'firing_rate' in metric_dict.keys()\n",
    "assert 'num_spikes' in metric_dict.keys()\n",
    "assert 'isi_viol' in metric_dict.keys()\n",
    "assert 'presence_ratio' in metric_dict.keys()\n",
    "assert 'amplitude_cutoff' in metric_dict.keys()\n",
    "assert 'max_drift' in metric_dict.keys()\n",
    "assert 'cumulative_drift' in metric_dict.keys()\n",
    "assert 'silhouette_score' in metric_dict.keys()\n",
    "assert 'isolation_distance' in metric_dict.keys()\n",
    "assert 'l_ratio' in metric_dict.keys()\n",
    "assert 'd_prime' in metric_dict.keys()\n",
    "assert 'nn_hit_rate' in metric_dict.keys()\n",
    "assert 'nn_miss_rate' in metric_dict.keys()\n",
    "assert 'snr' in metric_dict.keys()\n",
    "assert mc.is_filtered()"
   ]
  },
  {
   "cell_type": "code",
   "execution_count": 4,
   "metadata": {},
   "outputs": [
    {
     "data": {
      "text/plain": [
       "[array([0.5       , 0.01176284, 0.01078261, 0.01035949, 0.01125141,\n",
       "        0.01125141, 0.5       , 0.5       , 0.33960919, 0.0103513 ])]"
      ]
     },
     "execution_count": 4,
     "metadata": {},
     "output_type": "execute_result"
    }
   ],
   "source": [
    "metric_dict['amplitude_cutoff']"
   ]
  },
  {
   "cell_type": "code",
   "execution_count": 5,
   "metadata": {},
   "outputs": [
    {
     "data": {
      "text/plain": [
       "[array([0.5       , 0.01176284, 0.01078261, 0.01035949, 0.01125141,\n",
       "        0.01125141, 0.5       , 0.5       , 0.33960919, 0.0103513 ])]"
      ]
     },
     "execution_count": 5,
     "metadata": {},
     "output_type": "execute_result"
    }
   ],
   "source": [
    "mc = MetricData(sorting=sort, recording=rec, apply_filter=True)\n",
    "mc.compute_amplitudes()\n",
    "ac = AmplitudeCutoff(metric_data=mc)\n",
    "ac.compute_metric()"
   ]
  },
  {
   "cell_type": "code",
   "execution_count": 8,
   "metadata": {},
   "outputs": [],
   "source": [
    "from spiketoolkit.validation.quality_metrics_new import compute_amplitude_cutoffs\n",
    "recording_params_dict = {'apply_filter':True,\n",
    "                         'freq_min':300,\n",
    "                         'freq_max':6000}"
   ]
  },
  {
   "cell_type": "code",
   "execution_count": 9,
   "metadata": {},
   "outputs": [
    {
     "data": {
      "text/plain": [
       "[array([0.5       , 0.01176284, 0.01078261, 0.01035949, 0.01125141,\n",
       "        0.01125141, 0.5       , 0.5       , 0.33960919, 0.0103513 ])]"
      ]
     },
     "execution_count": 9,
     "metadata": {},
     "output_type": "execute_result"
    }
   ],
   "source": [
    "compute_amplitude_cutoffs(sorting=sort, recording=rec, recording_params_dict=recording_params_dict)"
   ]
  },
  {
   "cell_type": "code",
   "execution_count": null,
   "metadata": {},
   "outputs": [],
   "source": []
  }
 ],
 "metadata": {
  "kernelspec": {
   "display_name": "Python [conda env:spikeinterface]",
   "language": "python",
   "name": "conda-env-spikeinterface-py"
  },
  "language_info": {
   "codemirror_mode": {
    "name": "ipython",
    "version": 3
   },
   "file_extension": ".py",
   "mimetype": "text/x-python",
   "name": "python",
   "nbconvert_exporter": "python",
   "pygments_lexer": "ipython3",
   "version": "3.7.1"
  }
 },
 "nbformat": 4,
 "nbformat_minor": 2
}
