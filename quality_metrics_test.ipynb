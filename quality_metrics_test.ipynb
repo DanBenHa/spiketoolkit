{
 "cells": [
  {
   "cell_type": "code",
   "execution_count": 2,
   "metadata": {},
   "outputs": [],
   "source": [
    "import copy\n",
    "from collections import OrderedDict, defaultdict\n",
    "\n",
    "import numpy as np\n",
    "import pandas as pd\n",
    "from spikeextractors import RecordingExtractor, SortingExtractor\n",
    "import spikeextractors as se\n",
    "\n",
    "import spikemetrics.metrics as metrics\n",
    "import spiketoolkit as st\n",
    "from spikemetrics.utils import Epoch, printProgressBar\n",
    "from spiketoolkit.curation.thresholdcurator import ThresholdCurator\n",
    "import spiketoolkit as st\n",
    "\n",
    "from spiketoolkit.validation.validation_tools import (\n",
    "    get_all_metric_data,\n",
    "    get_amplitude_metric_data,\n",
    "    get_pca_metric_data,\n",
    "    get_spike_times_metrics_data,\n",
    ")"
   ]
  },
  {
   "cell_type": "code",
   "execution_count": 3,
   "metadata": {},
   "outputs": [],
   "source": [
    "from spiketoolkit.validation.amplitude_cutoff import AmplitudeCutoff\n",
    "from spiketoolkit.validation.silhouette_score import SilhouetteScore\n",
    "from spiketoolkit.validation.metric_data import MetricData"
   ]
  },
  {
   "cell_type": "code",
   "execution_count": 5,
   "metadata": {},
   "outputs": [
    {
     "name": "stdout",
     "output_type": "stream",
     "text": [
      "[29.67841925 10.15195423  9.1909131   7.35585192 22.01176076 13.23867048\n",
      " 18.45353083 12.59974388 18.7941469   8.36582685 20.71627477 29.96496078\n",
      "  0.         29.47220134 21.87196629 11.39365855  3.03462835 21.77319164\n",
      "  0.24534576 22.80690026  5.80103974  3.45885215 21.74114571 26.43328632\n",
      " 20.16518809 18.08319006  9.90244773 26.8196004  26.0575038  18.4706259\n",
      " 27.17167633  2.35501588  9.91866056 20.25033058  0.37599014  0.21678125\n",
      "  8.70971615  9.3781417  20.13021455 19.81793931 11.96107244 29.79192442\n",
      " 19.74781448 20.07497503 21.81365858 12.1239882   0.30587965 21.02088474\n",
      " 19.08836409 26.88079452 10.43018091 26.57901315 17.83126433  0.51409661\n",
      " 27.17877094  6.32870281 12.42445267 26.99031299 26.64977921 27.7387401\n",
      " 17.41742349 22.39025275 21.84889509 14.25050754 29.75242486 19.65445116\n",
      " 19.97865187 12.88598804 12.59571292  0.12775986 29.69293266 21.48808809\n",
      " 18.9791222   4.1666477  12.93935713 29.70189871  0.16269346 21.78469811\n",
      "  0.23791523  8.26571093  2.50339384 10.33697858  2.66079593 10.03481323\n",
      " 13.11504005 22.06726451 29.72482506 19.79877291  3.42618076  2.4007299\n",
      "  3.12885426 17.98694279 21.02658253 27.18746161 19.85577876 20.13456252\n",
      " 19.92033442  0.34667436  0.36818701 13.06980522 20.10314421  0.24839834\n",
      "  0.28608257 27.36833257 27.05823282 21.39940484 12.37253704  2.06570392\n",
      " 29.84406546 10.06722913 21.14105403 21.86428368  8.46907534 26.67170637\n",
      "  3.15086031  2.96675059  9.79204611  2.86134887 17.53033982 25.91069298\n",
      " 23.37717162  7.61709663  8.51802771 12.78671655  3.29378446 21.36713443\n",
      " 20.30182524 21.61019603 26.92571196 29.70588942  9.15814529 12.05743564\n",
      "  0.23942267  0.40566085  9.86641095 19.76269071 26.79076451 11.91278367\n",
      " 26.57210283 29.87546343  0.32775385 10.14870269 10.31579552 10.33147821\n",
      " 29.75616578  0.35534324 29.62016977  2.9800419   9.47619803 17.01849873\n",
      "  9.60555391 21.8450939   0.19383645  0.41331302  0.33261713  2.28667577\n",
      "  3.38371212 10.1635047  10.16559608 15.12115233 10.88288593 19.4025023\n",
      "  3.79876748 19.83939247 17.46956629 19.12388027 12.51894546 12.84893537\n",
      " 27.64515584  0.15165583 21.63802324 29.60700536  2.60247379  3.02418054\n",
      " 19.79551078  3.42735064  8.23600564 19.61617536  1.99779085  0.40073068\n",
      "  0.20365084 19.87652167 12.7208421  20.7990187  29.65296749 29.6917984\n",
      "  0.28736579  0.34575084  9.6620863   8.02539435 11.78709116 29.86563917\n",
      " 17.63310905 18.36703741 12.58168903 12.26786054 29.75291763 10.39271719\n",
      "  9.93413861 11.84207485 18.26002382  8.92890802 19.85627843 26.81010137\n",
      " 29.75570492 19.8388149  27.94453573 26.01345986  0.31636675  0.41603963\n",
      " 20.1814668  17.02401001  3.02458199  7.27577763 29.68679342 18.40995347\n",
      " 18.98286693 29.65804123 11.85954307  9.61846748  0.23469458 10.23409423\n",
      " 10.46499509 26.12091652 29.78954844 18.02736692 26.27002645 10.42269825\n",
      " 19.68239775 19.88388029  8.20792078  7.22803977 26.34862832 10.35914691\n",
      " 11.12999038 29.73536045 19.83172302  9.61761553]\n"
     ]
    }
   ],
   "source": [
    "rec, sort = se.example_datasets.toy_example(duration=10, num_channels=4)\n",
    "mc = st.validation.MetricCalculator(sort, rec)\n",
    "mc.compute_all_metric_data()\n",
    "\n",
    "_ = mc.compute_metrics()\n",
    "metric_dict = mc.get_metrics_dict()\n",
    "assert type(mc._recording._recording).__name__ == 'BandpassFilterRecording' #check if filter by default\n",
    "assert 'firing_rate' in metric_dict.keys()\n",
    "assert 'num_spikes' in metric_dict.keys()\n",
    "assert 'isi_viol' in metric_dict.keys()\n",
    "assert 'presence_ratio' in metric_dict.keys()\n",
    "assert 'amplitude_cutoff' in metric_dict.keys()\n",
    "assert 'max_drift' in metric_dict.keys()\n",
    "assert 'cumulative_drift' in metric_dict.keys()\n",
    "assert 'silhouette_score' in metric_dict.keys()\n",
    "assert 'isolation_distance' in metric_dict.keys()\n",
    "assert 'l_ratio' in metric_dict.keys()\n",
    "assert 'd_prime' in metric_dict.keys()\n",
    "assert 'nn_hit_rate' in metric_dict.keys()\n",
    "assert 'nn_miss_rate' in metric_dict.keys()\n",
    "assert 'snr' in metric_dict.keys()\n",
    "assert mc.is_filtered()"
   ]
  },
  {
   "cell_type": "code",
   "execution_count": 6,
   "metadata": {},
   "outputs": [
    {
     "data": {
      "text/plain": [
       "[array([0.00995317, 0.0103513 , 0.01078261, 0.01293913, 0.0103513 ,\n",
       "        0.01964265, 0.01176284, 0.28449011, 0.00995317, 0.01126031])]"
      ]
     },
     "execution_count": 6,
     "metadata": {},
     "output_type": "execute_result"
    }
   ],
   "source": [
    "metric_dict['amplitude_cutoff']"
   ]
  },
  {
   "cell_type": "code",
   "execution_count": 7,
   "metadata": {},
   "outputs": [
    {
     "data": {
      "text/plain": [
       "[array([0.83948285, 0.4472968 , 0.4472968 , 0.50149362, 0.53611064,\n",
       "        0.19175726, 0.61725456, 0.15361216, 0.15361216, 0.19175726])]"
      ]
     },
     "execution_count": 7,
     "metadata": {},
     "output_type": "execute_result"
    }
   ],
   "source": [
    "metric_dict['silhouette_score']"
   ]
  },
  {
   "cell_type": "code",
   "execution_count": 8,
   "metadata": {},
   "outputs": [
    {
     "data": {
      "text/plain": [
       "[array([0.00995317, 0.0103513 , 0.01078261, 0.01293913, 0.0103513 ,\n",
       "        0.01964265, 0.01176284, 0.28449011, 0.00995317, 0.01126031])]"
      ]
     },
     "execution_count": 8,
     "metadata": {},
     "output_type": "execute_result"
    }
   ],
   "source": [
    "mc = MetricData(sorting=sort, recording=rec, apply_filter=True)\n",
    "mc.compute_amplitudes()\n",
    "ac = AmplitudeCutoff(metric_data=mc)\n",
    "ac.compute_metric()"
   ]
  },
  {
   "cell_type": "code",
   "execution_count": 9,
   "metadata": {},
   "outputs": [
    {
     "data": {
      "text/plain": [
       "[array([0.83948285, 0.4472968 , 0.4472968 , 0.50149362, 0.53611064,\n",
       "        0.19175726, 0.61725456, 0.15361216, 0.15361216, 0.19175726])]"
      ]
     },
     "execution_count": 9,
     "metadata": {},
     "output_type": "execute_result"
    }
   ],
   "source": [
    "mc = MetricData(sorting=sort, recording=rec, apply_filter=True)\n",
    "mc.compute_pca_scores()\n",
    "ss = SilhouetteScore(metric_data=mc)\n",
    "ss.compute_metric()"
   ]
  },
  {
   "cell_type": "code",
   "execution_count": 10,
   "metadata": {},
   "outputs": [
    {
     "data": {
      "text/plain": [
       "[array([0.83948285, 0.4472968 , 0.4472968 , 0.50149362, 0.53611064,\n",
       "        0.19175726, 0.61725456, 0.15361216, 0.15361216, 0.19175726])]"
      ]
     },
     "execution_count": 10,
     "metadata": {},
     "output_type": "execute_result"
    }
   ],
   "source": [
    "from spiketoolkit.validation.quality_metrics_new import compute_silhouette_scores\n",
    "recording_params_dict = {'apply_filter':True}\n",
    "compute_silhouette_scores(sorting=sort, recording=rec, recording_params_dict=recording_params_dict)"
   ]
  },
  {
   "cell_type": "code",
   "execution_count": 17,
   "metadata": {},
   "outputs": [],
   "source": [
    "from spiketoolkit.validation.quality_metrics_new import compute_amplitude_cutoffs\n",
    "recording_params_dict = {'apply_filter':True}"
   ]
  },
  {
   "cell_type": "code",
   "execution_count": 18,
   "metadata": {},
   "outputs": [
    {
     "data": {
      "text/plain": [
       "[array([0.01125141, 0.01125141, 0.5       , 0.3398721 , 0.5       ,\n",
       "        0.01232298, 0.5       , 0.01642139, 0.09820794, 0.01078261])]"
      ]
     },
     "execution_count": 18,
     "metadata": {},
     "output_type": "execute_result"
    }
   ],
   "source": [
    "compute_amplitude_cutoffs(sorting=sort, recording=rec, recording_params_dict=recording_params_dict)"
   ]
  },
  {
   "cell_type": "code",
   "execution_count": 19,
   "metadata": {},
   "outputs": [
    {
     "data": {
      "text/plain": [
       "False"
      ]
     },
     "execution_count": 19,
     "metadata": {},
     "output_type": "execute_result"
    }
   ],
   "source": [
    "not set(recording_params_dict.keys()).issubset(set(MetricData.recording_params_dict.keys()))"
   ]
  },
  {
   "cell_type": "code",
   "execution_count": 20,
   "metadata": {},
   "outputs": [
    {
     "data": {
      "text/plain": [
       "True"
      ]
     },
     "execution_count": 20,
     "metadata": {},
     "output_type": "execute_result"
    }
   ],
   "source": [
    "list(recording_params_dict.keys()) not in list(MetricData.recording_params_dict.keys())"
   ]
  },
  {
   "cell_type": "code",
   "execution_count": 21,
   "metadata": {},
   "outputs": [
    {
     "name": "stdout",
     "output_type": "stream",
     "text": [
      "[1, 2, 3, 4, 5, 6, 7, 8, 9, 10]\n",
      "[1, 2, 4, 6, 8, 9, 10]\n",
      "[array([0.01125141, 0.01125141, 0.3398721 , 0.01232298, 0.01642139,\n",
      "       0.09820794, 0.01078261])]\n"
     ]
    }
   ],
   "source": [
    "sorting_new = st.curation.threshold_amplitude_cutoff(sorting=sort, recording=rec, threshold=.4, threshold_sign='greater')\n",
    "print(sort.get_unit_ids())\n",
    "print(sorting_new.get_unit_ids())\n",
    "mc = st.validation.MetricCalculator(sorting_new, rec)\n",
    "mc.compute_all_metric_data()\n",
    "mc.compute_amplitude_cutoffs()\n",
    "print(mc.get_metrics_dict()['amplitude_cutoff'])"
   ]
  },
  {
   "cell_type": "code",
   "execution_count": 22,
   "metadata": {},
   "outputs": [],
   "source": [
    "from spiketoolkit.curation.threshold_metrics import threshold_amplitude_cutoffs"
   ]
  },
  {
   "cell_type": "code",
   "execution_count": 23,
   "metadata": {},
   "outputs": [
    {
     "data": {
      "text/plain": [
       "[array([0.01125141, 0.01125141, 0.3398721 , 0.01232298, 0.01642139,\n",
       "        0.09820794, 0.01078261])]"
      ]
     },
     "execution_count": 23,
     "metadata": {},
     "output_type": "execute_result"
    }
   ],
   "source": [
    "sorting_new = threshold_amplitude_cutoffs(sorting=sort, recording=rec, threshold=.4, threshold_sign='greater')\n",
    "compute_amplitude_cutoffs(sorting=sorting_new, recording=rec, recording_params_dict=recording_params_dict)"
   ]
  },
  {
   "cell_type": "code",
   "execution_count": null,
   "metadata": {},
   "outputs": [],
   "source": []
  }
 ],
 "metadata": {
  "kernelspec": {
   "display_name": "Python [conda env:spikeinterface] *",
   "language": "python",
   "name": "conda-env-spikeinterface-py"
  },
  "language_info": {
   "codemirror_mode": {
    "name": "ipython",
    "version": 3
   },
   "file_extension": ".py",
   "mimetype": "text/x-python",
   "name": "python",
   "nbconvert_exporter": "python",
   "pygments_lexer": "ipython3",
   "version": "3.7.2"
  }
 },
 "nbformat": 4,
 "nbformat_minor": 2
}
