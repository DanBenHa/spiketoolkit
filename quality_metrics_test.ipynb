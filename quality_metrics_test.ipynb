{
 "cells": [
  {
   "cell_type": "code",
   "execution_count": 1,
   "metadata": {},
   "outputs": [],
   "source": [
    "import copy\n",
    "from collections import OrderedDict, defaultdict\n",
    "\n",
    "import numpy as np\n",
    "import pandas as pd\n",
    "from spikeextractors import RecordingExtractor, SortingExtractor\n",
    "import spikeextractors as se\n",
    "\n",
    "import spikemetrics.metrics as metrics\n",
    "import spiketoolkit as st\n",
    "from spikemetrics.utils import Epoch, printProgressBar\n",
    "from spiketoolkit.curation.thresholdcurator import ThresholdCurator\n",
    "import spiketoolkit as st\n",
    "\n",
    "from spiketoolkit.validation.validation_tools import (\n",
    "    get_all_metric_data,\n",
    "    get_amplitude_metric_data,\n",
    "    get_pca_metric_data,\n",
    "    get_spike_times_metrics_data,\n",
    ")"
   ]
  },
  {
   "cell_type": "code",
   "execution_count": 12,
   "metadata": {},
   "outputs": [],
   "source": [
    "rec, sort = se.example_datasets.toy_example(duration=10, num_channels=4)"
   ]
  },
  {
   "cell_type": "code",
   "execution_count": 3,
   "metadata": {},
   "outputs": [],
   "source": [
    "mc = st.validation.MetricCalculator(sort, rec)\n",
    "mc.compute_all_metric_data(seed=0)\n",
    "\n",
    "_ = mc.compute_metrics(seed=0)\n",
    "metric_dict = mc.get_metrics_dict()\n",
    "assert type(mc._recording._recording).__name__ == 'BandpassFilterRecording' #check if filter by default\n",
    "assert 'firing_rate' in metric_dict.keys()\n",
    "assert 'num_spikes' in metric_dict.keys()\n",
    "assert 'isi_viol' in metric_dict.keys()\n",
    "assert 'presence_ratio' in metric_dict.keys()\n",
    "assert 'amplitude_cutoff' in metric_dict.keys()\n",
    "assert 'max_drift' in metric_dict.keys()\n",
    "assert 'cumulative_drift' in metric_dict.keys()\n",
    "assert 'silhouette_score' in metric_dict.keys()\n",
    "assert 'isolation_distance' in metric_dict.keys()\n",
    "assert 'l_ratio' in metric_dict.keys()\n",
    "assert 'd_prime' in metric_dict.keys()\n",
    "assert 'nn_hit_rate' in metric_dict.keys()\n",
    "assert 'nn_miss_rate' in metric_dict.keys()\n",
    "assert 'snr' in metric_dict.keys()\n",
    "assert mc.is_filtered()"
   ]
  },
  {
   "cell_type": "code",
   "execution_count": 4,
   "metadata": {},
   "outputs": [],
   "source": [
    "from spiketoolkit.validation.amplitude_cutoff import AmplitudeCutoff\n",
    "from spiketoolkit.validation.silhouette_score import SilhouetteScore\n",
    "from spiketoolkit.validation.metric_data import MetricData\n",
    "from spiketoolkit.validation.quality_metrics_new import compute_amplitude_cutoffs\n",
    "from spiketoolkit.validation.quality_metrics_new import compute_silhouette_scores\n",
    "\n",
    "from spiketoolkit.validation.num_spikes import NumSpikes\n",
    "from spiketoolkit.validation.quality_metrics_new import compute_num_spikes"
   ]
  },
  {
   "cell_type": "code",
   "execution_count": 5,
   "metadata": {},
   "outputs": [
    {
     "name": "stdout",
     "output_type": "stream",
     "text": [
      "num spikes\n",
      "[[ True  True  True  True  True  True  True  True  True  True]]\n",
      "[[ True  True  True  True  True  True  True  True  True  True]]\n",
      "amp cutoff\n",
      "[[ True  True  True  True  True  True  True  True  True  True]]\n",
      "[[ True  True  True  True  True  True  True  True  True  True]]\n",
      "silhouette score\n",
      "[[ True  True  True  True  True  True  True  True  True  True]]\n",
      "[[ True  True  True  True  True  True  True  True  True  True]]\n"
     ]
    }
   ],
   "source": [
    "#num spikes\n",
    "print(\"num spikes\")\n",
    "md = MetricData(sorting=sort, sampling_frequency=rec.get_sampling_frequency(), apply_filter=True)\n",
    "ns = NumSpikes(metric_data=md)\n",
    "ns_metric = compute_num_spikes(sorting=sort, sampling_frequency=rec.get_sampling_frequency())\n",
    "print(np.equal(ns.compute_metric(), metric_dict['num_spikes']))\n",
    "print(np.equal(ns_metric, metric_dict['num_spikes']))\n",
    "\n",
    "#amp cutoff\n",
    "print(\"amp cutoff\")\n",
    "md = MetricData(sorting=sort, recording=rec, apply_filter=True)\n",
    "md.compute_amplitudes(seed=0)\n",
    "ac = AmplitudeCutoff(metric_data=md)\n",
    "ac_metric = compute_amplitude_cutoffs(sorting=sort, recording=rec, seed=0)\n",
    "print(np.equal(ac.compute_metric(), metric_dict['amplitude_cutoff']))\n",
    "print(np.equal(ac_metric, metric_dict['amplitude_cutoff']))\n",
    "\n",
    "#silhouette score\n",
    "print(\"silhouette score\")\n",
    "md = MetricData(sorting=sort, recording=rec, apply_filter=True)\n",
    "md.compute_pca_scores(seed=0)\n",
    "ss = SilhouetteScore(metric_data=md)\n",
    "ss_metric = compute_silhouette_scores(sorting=sort, recording=rec, seed=0)\n",
    "print(np.equal(ss.compute_metric(seed=0), metric_dict['silhouette_score']))\n",
    "print(np.equal(ss_metric, metric_dict['silhouette_score']))"
   ]
  },
  {
   "cell_type": "code",
   "execution_count": 6,
   "metadata": {},
   "outputs": [],
   "source": [
    "from spiketoolkit.curation.threshold_metrics import threshold_amplitude_cutoffs\n",
    "from spiketoolkit.curation.threshold_metrics import threshold_silhouette_scores"
   ]
  },
  {
   "cell_type": "code",
   "execution_count": 7,
   "metadata": {},
   "outputs": [
    {
     "data": {
      "text/plain": [
       "<spiketoolkit.curation.thresholdcurator.ThresholdCurator at 0x120241128>"
      ]
     },
     "execution_count": 7,
     "metadata": {},
     "output_type": "execute_result"
    }
   ],
   "source": [
    "threshold_amplitude_cutoffs(sorting=sort, recording=rec, threshold=.4, threshold_sign='greater')"
   ]
  },
  {
   "cell_type": "code",
   "execution_count": 8,
   "metadata": {},
   "outputs": [
    {
     "name": "stdout",
     "output_type": "stream",
     "text": [
      "amp cutoff\n",
      "[[ True  True  True  True  True  True  True  True  True  True]]\n",
      "silhouette scores\n",
      "[[ True  True  True  True  True  True]]\n"
     ]
    }
   ],
   "source": [
    "#amp cutoff\n",
    "print(\"amp cutoff\")\n",
    "sorting_new = threshold_amplitude_cutoffs(sorting=sort, recording=rec, threshold=.4, threshold_sign='greater')\n",
    "sorting_old = st.curation.threshold_amplitude_cutoff(sorting=sort, recording=rec, threshold=.4, threshold_sign='greater')\n",
    "print(np.equal(compute_amplitude_cutoffs(sorting=sorting_new, recording=rec), compute_amplitude_cutoffs(sorting=sorting_old, recording=rec)))\n",
    "\n",
    "#silhouette scores\n",
    "print(\"silhouette scores\")\n",
    "sorting_new = threshold_silhouette_scores(sorting=sort, recording=rec, threshold=.4, threshold_sign='greater', seed=0)\n",
    "sorting_old = st.curation.threshold_silhouette_score(sorting=sort, recording=rec, threshold=.4, threshold_sign='greater', seed=0)\n",
    "print(np.equal(compute_silhouette_scores(sorting=sorting_new, recording=rec, seed=0), compute_silhouette_scores(sorting=sorting_old, recording=rec, seed=0)))"
   ]
  }
 ],
 "metadata": {
  "kernelspec": {
   "display_name": "Python [conda env:spikeinterface] *",
   "language": "python",
   "name": "conda-env-spikeinterface-py"
  },
  "language_info": {
   "codemirror_mode": {
    "name": "ipython",
    "version": 3
   },
   "file_extension": ".py",
   "mimetype": "text/x-python",
   "name": "python",
   "nbconvert_exporter": "python",
   "pygments_lexer": "ipython3",
   "version": "3.7.2"
  }
 },
 "nbformat": 4,
 "nbformat_minor": 2
}
