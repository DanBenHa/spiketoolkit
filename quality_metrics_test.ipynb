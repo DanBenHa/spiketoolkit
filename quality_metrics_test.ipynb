{
 "cells": [
  {
   "cell_type": "code",
   "execution_count": 1,
   "metadata": {},
   "outputs": [],
   "source": [
    "import copy\n",
    "from collections import OrderedDict, defaultdict\n",
    "\n",
    "import numpy as np\n",
    "import pandas as pd\n",
    "from spikeextractors import RecordingExtractor, SortingExtractor\n",
    "import spikeextractors as se\n",
    "\n",
    "import spikemetrics.metrics as metrics\n",
    "import spiketoolkit as st\n",
    "from spikemetrics.utils import Epoch, printProgressBar\n",
    "from spiketoolkit.curation.thresholdcurator import ThresholdCurator\n",
    "import spiketoolkit as st\n",
    "\n",
    "from spiketoolkit.validation.validation_tools import (\n",
    "    get_all_metric_data,\n",
    "    get_amplitude_metric_data,\n",
    "    get_pca_metric_data,\n",
    "    get_spike_times_metrics_data,\n",
    ")"
   ]
  },
  {
   "cell_type": "code",
   "execution_count": 2,
   "metadata": {},
   "outputs": [],
   "source": [
    "from spiketoolkit.validation.amplitude_cutoff import AmplitudeCutoff\n",
    "from spiketoolkit.validation.metric_data import MetricData"
   ]
  },
  {
   "cell_type": "code",
   "execution_count": 3,
   "metadata": {},
   "outputs": [],
   "source": [
    "rec, sort = se.example_datasets.toy_example(duration=10, num_channels=4)\n",
    "mc = st.validation.MetricCalculator(sort, rec)\n",
    "mc.compute_all_metric_data()\n",
    "\n",
    "_ = mc.compute_metrics()\n",
    "metric_dict = mc.get_metrics_dict()\n",
    "assert type(mc._recording._recording).__name__ == 'BandpassFilterRecording' #check if filter by default\n",
    "assert 'firing_rate' in metric_dict.keys()\n",
    "assert 'num_spikes' in metric_dict.keys()\n",
    "assert 'isi_viol' in metric_dict.keys()\n",
    "assert 'presence_ratio' in metric_dict.keys()\n",
    "assert 'amplitude_cutoff' in metric_dict.keys()\n",
    "assert 'max_drift' in metric_dict.keys()\n",
    "assert 'cumulative_drift' in metric_dict.keys()\n",
    "assert 'silhouette_score' in metric_dict.keys()\n",
    "assert 'isolation_distance' in metric_dict.keys()\n",
    "assert 'l_ratio' in metric_dict.keys()\n",
    "assert 'd_prime' in metric_dict.keys()\n",
    "assert 'nn_hit_rate' in metric_dict.keys()\n",
    "assert 'nn_miss_rate' in metric_dict.keys()\n",
    "assert 'snr' in metric_dict.keys()\n",
    "assert mc.is_filtered()"
   ]
  },
  {
   "cell_type": "code",
   "execution_count": 4,
   "metadata": {},
   "outputs": [
    {
     "data": {
      "text/plain": [
       "[array([0.01125141, 0.01125141, 0.5       , 0.3398721 , 0.5       ,\n",
       "        0.01232298, 0.5       , 0.01642139, 0.09820794, 0.01078261])]"
      ]
     },
     "execution_count": 4,
     "metadata": {},
     "output_type": "execute_result"
    }
   ],
   "source": [
    "metric_dict['amplitude_cutoff']"
   ]
  },
  {
   "cell_type": "code",
   "execution_count": 5,
   "metadata": {},
   "outputs": [
    {
     "data": {
      "text/plain": [
       "[array([0.01125141, 0.01125141, 0.5       , 0.3398721 , 0.5       ,\n",
       "        0.01232298, 0.5       , 0.01642139, 0.09820794, 0.01078261])]"
      ]
     },
     "execution_count": 5,
     "metadata": {},
     "output_type": "execute_result"
    }
   ],
   "source": [
    "mc = MetricData(sorting=sort, recording=rec, apply_filter=True)\n",
    "mc.compute_amplitudes()\n",
    "ac = AmplitudeCutoff(metric_data=mc)\n",
    "ac.compute_metric()"
   ]
  },
  {
   "cell_type": "code",
   "execution_count": 17,
   "metadata": {},
   "outputs": [],
   "source": [
    "from spiketoolkit.validation.quality_metrics_new import compute_amplitude_cutoffs\n",
    "recording_params_dict = {'apply_filter':True}"
   ]
  },
  {
   "cell_type": "code",
   "execution_count": 18,
   "metadata": {},
   "outputs": [
    {
     "data": {
      "text/plain": [
       "[array([0.01125141, 0.01125141, 0.5       , 0.3398721 , 0.5       ,\n",
       "        0.01232298, 0.5       , 0.01642139, 0.09820794, 0.01078261])]"
      ]
     },
     "execution_count": 18,
     "metadata": {},
     "output_type": "execute_result"
    }
   ],
   "source": [
    "compute_amplitude_cutoffs(sorting=sort, recording=rec, recording_params_dict=recording_params_dict)"
   ]
  },
  {
   "cell_type": "code",
   "execution_count": 19,
   "metadata": {},
   "outputs": [
    {
     "data": {
      "text/plain": [
       "False"
      ]
     },
     "execution_count": 19,
     "metadata": {},
     "output_type": "execute_result"
    }
   ],
   "source": [
    "not set(recording_params_dict.keys()).issubset(set(MetricData.recording_params_dict.keys()))"
   ]
  },
  {
   "cell_type": "code",
   "execution_count": 20,
   "metadata": {},
   "outputs": [
    {
     "data": {
      "text/plain": [
       "True"
      ]
     },
     "execution_count": 20,
     "metadata": {},
     "output_type": "execute_result"
    }
   ],
   "source": [
    "list(recording_params_dict.keys()) not in list(MetricData.recording_params_dict.keys())"
   ]
  },
  {
   "cell_type": "code",
   "execution_count": 21,
   "metadata": {},
   "outputs": [
    {
     "name": "stdout",
     "output_type": "stream",
     "text": [
      "[1, 2, 3, 4, 5, 6, 7, 8, 9, 10]\n",
      "[1, 2, 4, 6, 8, 9, 10]\n",
      "[array([0.01125141, 0.01125141, 0.3398721 , 0.01232298, 0.01642139,\n",
      "       0.09820794, 0.01078261])]\n"
     ]
    }
   ],
   "source": [
    "sorting_new = st.curation.threshold_amplitude_cutoff(sorting=sort, recording=rec, threshold=.4, threshold_sign='greater')\n",
    "print(sort.get_unit_ids())\n",
    "print(sorting_new.get_unit_ids())\n",
    "mc = st.validation.MetricCalculator(sorting_new, rec)\n",
    "mc.compute_all_metric_data()\n",
    "mc.compute_amplitude_cutoffs()\n",
    "print(mc.get_metrics_dict()['amplitude_cutoff'])"
   ]
  },
  {
   "cell_type": "code",
   "execution_count": 22,
   "metadata": {},
   "outputs": [],
   "source": [
    "from spiketoolkit.curation.threshold_metrics import threshold_amplitude_cutoffs"
   ]
  },
  {
   "cell_type": "code",
   "execution_count": 23,
   "metadata": {},
   "outputs": [
    {
     "data": {
      "text/plain": [
       "[array([0.01125141, 0.01125141, 0.3398721 , 0.01232298, 0.01642139,\n",
       "        0.09820794, 0.01078261])]"
      ]
     },
     "execution_count": 23,
     "metadata": {},
     "output_type": "execute_result"
    }
   ],
   "source": [
    "sorting_new = threshold_amplitude_cutoffs(sorting=sort, recording=rec, threshold=.4, threshold_sign='greater')\n",
    "compute_amplitude_cutoffs(sorting=sorting_new, recording=rec, recording_params_dict=recording_params_dict)"
   ]
  },
  {
   "cell_type": "code",
   "execution_count": null,
   "metadata": {},
   "outputs": [],
   "source": []
  }
 ],
 "metadata": {
  "kernelspec": {
   "display_name": "Python [conda env:spikeinterface]",
   "language": "python",
   "name": "conda-env-spikeinterface-py"
  },
  "language_info": {
   "codemirror_mode": {
    "name": "ipython",
    "version": 3
   },
   "file_extension": ".py",
   "mimetype": "text/x-python",
   "name": "python",
   "nbconvert_exporter": "python",
   "pygments_lexer": "ipython3",
   "version": "3.7.1"
  }
 },
 "nbformat": 4,
 "nbformat_minor": 2
}
