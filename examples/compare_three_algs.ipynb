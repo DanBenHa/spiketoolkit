{
 "cells": [
  {
   "cell_type": "code",
   "execution_count": 1,
   "metadata": {},
   "outputs": [
    {
     "name": "stdout",
     "output_type": "stream",
     "text": [
      "The autoreload extension is already loaded. To reload it, use:\n",
      "  %reload_ext autoreload\n"
     ]
    }
   ],
   "source": [
    "# For development purposes, reload imported modules when source changes\n",
    "%load_ext autoreload\n",
    "%autoreload 2\n",
    "\n",
    "import spikeinterface as si\n",
    "import spikewidgets as sw\n",
    "import spiketoolkit as st\n",
    "import os, sys"
   ]
  },
  {
   "cell_type": "code",
   "execution_count": 14,
   "metadata": {},
   "outputs": [],
   "source": [
    "# Create a toy example dataset\n",
    "recording,sorting_true=sw.example_datasets.toy_example1(duration=60)\n",
    "\n",
    "\n",
    "# MEArec\n",
    "#rec_folder = '/home/alessio/Documents/Codes/MEArec/data/recordings/recordings_20cells_Neuronexus-32_10.0_10.0uV_15-10-2018:21:52'\n",
    "#recording = si.MEArecRecordingExtractor(rec_folder)\n",
    "#sorting_true = si.MEArecSortingExtractor(rec_folder)"
   ]
  },
  {
   "cell_type": "code",
   "execution_count": null,
   "metadata": {},
   "outputs": [],
   "source": [
    "# View the filtered timeseries data\n",
    "filt=st.filters.bandpass_filter(recording,freq_min=300,freq_max=6000)\n",
    "sw.TimeseriesWidget(recording=filt,width=7,height=2.5).display()"
   ]
  },
  {
   "cell_type": "code",
   "execution_count": 4,
   "metadata": {},
   "outputs": [],
   "source": [
    "# Create a temporary working directory if needed\n",
    "if not os.path.exists('tmp'): os.mkdir('tmp')"
   ]
  },
  {
   "cell_type": "code",
   "execution_count": 10,
   "metadata": {},
   "outputs": [
    {
     "data": {
      "text/plain": [
       "'/home/alessio/Documents/Codes/spike_sorting/spiketoolkit/examples'"
      ]
     },
     "execution_count": 10,
     "metadata": {},
     "output_type": "execute_result"
    }
   ],
   "source": [
    "pwd"
   ]
  },
  {
   "cell_type": "code",
   "execution_count": null,
   "metadata": {},
   "outputs": [],
   "source": [
    "# Mountainsort4 spike sorting\n",
    "sorting_MS4=st.sorters.mountainsort4(\n",
    "    recording=recording,\n",
    "    detect_sign=-1,\n",
    "    adjacency_radius=-1\n",
    ")"
   ]
  },
  {
   "cell_type": "code",
   "execution_count": null,
   "metadata": {},
   "outputs": [],
   "source": [
    "# SpyKING Circus spike sorting\n",
    "sorting_SC=st.sorters.spyking_circus(\n",
    "    recording=recording,\n",
    "    adjacency_radius=50,\n",
    "    detect_sign='negative',\n",
    "    output_folder='tmp'\n",
    ")"
   ]
  },
  {
   "cell_type": "code",
   "execution_count": null,
   "metadata": {},
   "outputs": [],
   "source": [
    "# KiloSort spike sorting\n",
    "sorting_KS=st.sorters.kilosort_j(\n",
    "    recording=recording,\n",
    "    kilosort_src='/home/alessio/Documents/Codes/spike_sorting/KiloSort',\n",
    "    ironclust_src='/home/alessio/Documents/Codes/spike_sorting/ironclust',\n",
    "    tmpdir='tmp'\n",
    ")"
   ]
  },
  {
   "cell_type": "code",
   "execution_count": 15,
   "metadata": {},
   "outputs": [
    {
     "name": "stdout",
     "output_type": "stream",
     "text": [
      "Running KiloSort\n",
      "matlab -nosplash -nodisplay -r \"run /home/alessio/Documents/Codes/spike_sorting/spiketoolkit/examples/tmp/kilosort/kilosort_master.m; quit;\"\n",
      "\n",
      "\n",
      "Index exceeds matrix dimensions.\n",
      "\n",
      "                            < M A T L A B (R) >\n",
      "\n",
      "\n",
      "\n",
      "                  Copyright 1984-2017 The MathWorks, Inc.\n",
      "\n",
      "Error in fullMPMU (line 205)\n",
      "\n",
      "                   R2017a (9.2.0.556344) 64-bit (glnxa64)\n",
      "\n",
      "[~, isort]      = sort(st3(:,1), 'ascend');\n",
      "\n",
      "                               March 27, 2017\n",
      "\n",
      "\n",
      "\n",
      "\n",
      "\n",
      "Error in kilosort_master (line 22)\n",
      "\n",
      " \n",
      "\n",
      "rez                = fullMPMU(rez, DATA);% extract final spike times\n",
      "\n",
      "To get started, type one of these: helpwin, helpdesk, or demo.\n",
      "\n",
      "(overlapping extraction)\n",
      "\n",
      "For product information, visit www.mathworks.com.\n",
      "\n",
      "\n",
      "\n",
      " \n",
      "\n",
      "Error in run (line 86)\n",
      "\n",
      "Time   0s. Loading raw data... \n",
      "\n",
      "evalin('caller', [script ';']);\n",
      "\n",
      "Time   1s. Channel-whitening filters computed. \n",
      "\n",
      " \n",
      "\n",
      "Time   1s. Loading raw data and applying filters... \n",
      "\n",
      "Time 1.35. Whitened data written to disk... \n",
      "\n",
      "Time 1.35. Preprocessing complete!\n",
      "\n",
      "Time   2s. Optimizing templates ...\n",
      "\n",
      "Time 4.33, batch 1/168, mu 10.00, neg-err 0.633807, NTOT 27, n100 0, n200 0, n300 0, n400 0\n",
      "\n",
      "Time 40.89, batch 21/168, mu 10.00, neg-err 0.346770, NTOT 259, n100 0, n200 0, n300 0, n400 0\n",
      "\n",
      "\bTime 79.47, batch 41/168, mu 10.00, neg-err 0.161925, NTOT 158, n100 2, n200 2, n300 2, n400 2\n",
      "\n",
      "\bTime 117.35, batch 61/168, mu 10.00, neg-err 0.104814, NTOT 256, n100 4, n200 4, n300 4, n400 4\n",
      "\n",
      "Time 156.13, batch 81/168, mu 10.00, neg-err 0.103144, NTOT 193, n100 3, n200 3, n300 3, n400 3\n",
      "\n",
      "Time 193.28, batch 101/168, mu 10.00, neg-err 0.103144, NTOT 256, n100 4, n200 4, n300 4, n400 4\n",
      "\n",
      "\bTime 230.48, batch 121/168, mu 10.00, neg-err 0.103144, NTOT 256, n100 4, n200 4, n300 4, n400 4\n",
      "\n",
      "\bTime 267.70, batch 141/168, mu 10.00, neg-err 0.103144, NTOT 256, n100 4, n200 4, n300 4, n400 4\n",
      "\n",
      "\bTime 303.27, batch 161/168, mu 10.00, neg-err 0.103144, NTOT 256, n100 4, n200 4, n300 4, n400 4\n",
      "\n",
      "Time 316s. Running the final template matching pass...\n",
      "\n",
      "Time 318.34, batch 1/28,  NTOT 0\n",
      "\n",
      "Elapsed time:  379.55987882614136\n"
     ]
    },
    {
     "ename": "FileNotFoundError",
     "evalue": "[Errno 2] No such file or directory: '/home/alessio/Documents/Codes/spike_sorting/spiketoolkit/examples/tmp/kilosort/results/spike_times.npy'",
     "output_type": "error",
     "traceback": [
      "\u001b[0;31m---------------------------------------------------------------------------\u001b[0m",
      "\u001b[0;31mFileNotFoundError\u001b[0m                         Traceback (most recent call last)",
      "\u001b[0;32m<ipython-input-15-d6018bc7477c>\u001b[0m in \u001b[0;36m<module>\u001b[0;34m\u001b[0m\n\u001b[1;32m      3\u001b[0m     \u001b[0mkilosort_path\u001b[0m\u001b[0;34m=\u001b[0m\u001b[0;34m'/home/alessio/Documents/Codes/spike_sorting/KiloSort'\u001b[0m\u001b[0;34m,\u001b[0m\u001b[0;34m\u001b[0m\u001b[0m\n\u001b[1;32m      4\u001b[0m     \u001b[0mnpy_matlab_path\u001b[0m\u001b[0;34m=\u001b[0m\u001b[0;34m'/home/alessio/Documents/Codes/npy-matlab'\u001b[0m\u001b[0;34m,\u001b[0m\u001b[0;34m\u001b[0m\u001b[0m\n\u001b[0;32m----> 5\u001b[0;31m     \u001b[0moutput_folder\u001b[0m\u001b[0;34m=\u001b[0m\u001b[0;34m'tmp'\u001b[0m\u001b[0;34m\u001b[0m\u001b[0m\n\u001b[0m\u001b[1;32m      6\u001b[0m )\n",
      "\u001b[0;32m~/Documents/Codes/spike_sorting/spiketoolkit/spiketoolkit/sorters/kilosort/kilosort.py\u001b[0m in \u001b[0;36mkilosort\u001b[0;34m(recording, kilosort_path, npy_matlab_path, output_folder, useGPU, probe_file, file_name, spike_thresh, electrode_dimensions)\u001b[0m\n\u001b[1;32m    128\u001b[0m     \u001b[0mprint\u001b[0m\u001b[0;34m(\u001b[0m\u001b[0;34m'Elapsed time: '\u001b[0m\u001b[0;34m,\u001b[0m \u001b[0mtime\u001b[0m\u001b[0;34m.\u001b[0m\u001b[0mtime\u001b[0m\u001b[0;34m(\u001b[0m\u001b[0;34m)\u001b[0m \u001b[0;34m-\u001b[0m \u001b[0mt_start_proc\u001b[0m\u001b[0;34m)\u001b[0m\u001b[0;34m\u001b[0m\u001b[0m\n\u001b[1;32m    129\u001b[0m \u001b[0;34m\u001b[0m\u001b[0m\n\u001b[0;32m--> 130\u001b[0;31m     \u001b[0msorting\u001b[0m \u001b[0;34m=\u001b[0m \u001b[0msi\u001b[0m\u001b[0;34m.\u001b[0m\u001b[0mKiloSortSortingExtractor\u001b[0m\u001b[0;34m(\u001b[0m\u001b[0mjoin\u001b[0m\u001b[0;34m(\u001b[0m\u001b[0moutput_folder\u001b[0m\u001b[0;34m,\u001b[0m \u001b[0;34m'results'\u001b[0m\u001b[0;34m)\u001b[0m\u001b[0;34m)\u001b[0m\u001b[0;34m\u001b[0m\u001b[0m\n\u001b[0m\u001b[1;32m    131\u001b[0m     \u001b[0;32mreturn\u001b[0m \u001b[0msorting\u001b[0m\u001b[0;34m\u001b[0m\u001b[0m\n",
      "\u001b[0;32m~/Documents/Codes/spike_sorting/spikeinterface/spikeinterface/extractors/kilosortsortingextractor/kilosortsortingextractor.py\u001b[0m in \u001b[0;36m__init__\u001b[0;34m(self, kilosort_folder)\u001b[0m\n\u001b[1;32m      8\u001b[0m     \u001b[0;32mdef\u001b[0m \u001b[0m__init__\u001b[0m\u001b[0;34m(\u001b[0m\u001b[0mself\u001b[0m\u001b[0;34m,\u001b[0m \u001b[0mkilosort_folder\u001b[0m\u001b[0;34m)\u001b[0m\u001b[0;34m:\u001b[0m\u001b[0;34m\u001b[0m\u001b[0m\n\u001b[1;32m      9\u001b[0m         \u001b[0mSortingExtractor\u001b[0m\u001b[0;34m.\u001b[0m\u001b[0m__init__\u001b[0m\u001b[0;34m(\u001b[0m\u001b[0mself\u001b[0m\u001b[0;34m)\u001b[0m\u001b[0;34m\u001b[0m\u001b[0m\n\u001b[0;32m---> 10\u001b[0;31m         \u001b[0mspike_times\u001b[0m \u001b[0;34m=\u001b[0m \u001b[0mnp\u001b[0m\u001b[0;34m.\u001b[0m\u001b[0mload\u001b[0m\u001b[0;34m(\u001b[0m\u001b[0mjoin\u001b[0m\u001b[0;34m(\u001b[0m\u001b[0mkilosort_folder\u001b[0m\u001b[0;34m,\u001b[0m \u001b[0;34m'spike_times.npy'\u001b[0m\u001b[0;34m)\u001b[0m\u001b[0;34m)\u001b[0m\u001b[0;34m\u001b[0m\u001b[0m\n\u001b[0m\u001b[1;32m     11\u001b[0m         \u001b[0mspike_clusters\u001b[0m \u001b[0;34m=\u001b[0m \u001b[0mnp\u001b[0m\u001b[0;34m.\u001b[0m\u001b[0mload\u001b[0m\u001b[0;34m(\u001b[0m\u001b[0mjoin\u001b[0m\u001b[0;34m(\u001b[0m\u001b[0mkilosort_folder\u001b[0m\u001b[0;34m,\u001b[0m \u001b[0;34m'spike_clusters.npy'\u001b[0m\u001b[0;34m)\u001b[0m\u001b[0;34m)\u001b[0m\u001b[0;34m\u001b[0m\u001b[0m\n\u001b[1;32m     12\u001b[0m \u001b[0;34m\u001b[0m\u001b[0m\n",
      "\u001b[0;32m~/anaconda3/envs/spikeinterface/lib/python3.6/site-packages/numpy/lib/npyio.py\u001b[0m in \u001b[0;36mload\u001b[0;34m(file, mmap_mode, allow_pickle, fix_imports, encoding)\u001b[0m\n\u001b[1;32m    382\u001b[0m     \u001b[0mown_fid\u001b[0m \u001b[0;34m=\u001b[0m \u001b[0;32mFalse\u001b[0m\u001b[0;34m\u001b[0m\u001b[0m\n\u001b[1;32m    383\u001b[0m     \u001b[0;32mif\u001b[0m \u001b[0misinstance\u001b[0m\u001b[0;34m(\u001b[0m\u001b[0mfile\u001b[0m\u001b[0;34m,\u001b[0m \u001b[0mbasestring\u001b[0m\u001b[0;34m)\u001b[0m\u001b[0;34m:\u001b[0m\u001b[0;34m\u001b[0m\u001b[0m\n\u001b[0;32m--> 384\u001b[0;31m         \u001b[0mfid\u001b[0m \u001b[0;34m=\u001b[0m \u001b[0mopen\u001b[0m\u001b[0;34m(\u001b[0m\u001b[0mfile\u001b[0m\u001b[0;34m,\u001b[0m \u001b[0;34m\"rb\"\u001b[0m\u001b[0;34m)\u001b[0m\u001b[0;34m\u001b[0m\u001b[0m\n\u001b[0m\u001b[1;32m    385\u001b[0m         \u001b[0mown_fid\u001b[0m \u001b[0;34m=\u001b[0m \u001b[0;32mTrue\u001b[0m\u001b[0;34m\u001b[0m\u001b[0m\n\u001b[1;32m    386\u001b[0m     \u001b[0;32melif\u001b[0m \u001b[0mis_pathlib_path\u001b[0m\u001b[0;34m(\u001b[0m\u001b[0mfile\u001b[0m\u001b[0;34m)\u001b[0m\u001b[0;34m:\u001b[0m\u001b[0;34m\u001b[0m\u001b[0m\n",
      "\u001b[0;31mFileNotFoundError\u001b[0m: [Errno 2] No such file or directory: '/home/alessio/Documents/Codes/spike_sorting/spiketoolkit/examples/tmp/kilosort/results/spike_times.npy'"
     ]
    }
   ],
   "source": [
    "sorting_KS=st.sorters.kilosort(\n",
    "    recording=recording,\n",
    "    kilosort_path='/home/alessio/Documents/Codes/spike_sorting/KiloSort',\n",
    "    npy_matlab_path='/home/alessio/Documents/Codes/npy-matlab',\n",
    "    output_folder='tmp'\n",
    ")"
   ]
  },
  {
   "cell_type": "code",
   "execution_count": null,
   "metadata": {},
   "outputs": [],
   "source": [
    "sorting=st.sorters.klusta(\n",
    "        recording, # The recording extractor\n",
    "        output_folder='tmp',\n",
    "        probe_file=None,\n",
    "        file_name=None,\n",
    "        threshold_strong_std_factor=5,\n",
    "        threshold_weak_std_factor=2,\n",
    "        detect_spikes='negative',\n",
    "        extract_s_before=16,\n",
    "        extract_s_after=32,\n",
    "        n_features_per_channel=3,\n",
    "        pca_n_waveforms_max=10000,\n",
    "        num_starting_clusters=50\n",
    "        )"
   ]
  },
  {
   "cell_type": "code",
   "execution_count": null,
   "metadata": {},
   "outputs": [],
   "source": [
    "# IronClust spike sorting\n",
    "sorting_IC=st.sorters.ironclust(\n",
    "    recording=recording,\n",
    "    detect_sign=-1,\n",
    "    adjacency_radius=-1,\n",
    "    prm_template_name='tetrode_template.prm',\n",
    "    tmpdir='tmp',\n",
    "    ironclust_src='../ironclust'\n",
    ")"
   ]
  },
  {
   "cell_type": "code",
   "execution_count": null,
   "metadata": {},
   "outputs": [],
   "source": [
    "# Compute SNRs of true units\n",
    "snrs=sw.devel.compute_unit_snrs(recording=filt,sorting=sorting_true,unit_ids=sorting_true.getUnitIds())\n",
    "sorting_true.setUnitsProperty(property_name='SNR',values=snrs)"
   ]
  },
  {
   "cell_type": "code",
   "execution_count": null,
   "metadata": {},
   "outputs": [],
   "source": [
    "# Comparison MountainSort4 vs truth\n",
    "comparison_MS4=sw.SortingComparison(sorting_true,sorting_MS4)\n",
    "sw.SortingAccuracyWidget(sorting_comparison=comparison_MS4,property_name='SNR').plot()"
   ]
  },
  {
   "cell_type": "code",
   "execution_count": null,
   "metadata": {},
   "outputs": [],
   "source": [
    "# Comparison SpyKING Circus vs truth\n",
    "comparison_SC=sw.SortingComparison(sorting_true,sorting_SC)\n",
    "sw.SortingAccuracyWidget(sorting_comparison=comparison_SC,property_name='SNR').plot()"
   ]
  },
  {
   "cell_type": "code",
   "execution_count": null,
   "metadata": {},
   "outputs": [],
   "source": [
    "# Comparison IronClust vs truth\n",
    "comparison_IC=sw.SortingComparison(sorting_true,sorting_IC)\n",
    "sw.SortingAccuracyWidget(sorting_comparison=comparison_IC,property_name='SNR').plot()"
   ]
  },
  {
   "cell_type": "code",
   "execution_count": null,
   "metadata": {},
   "outputs": [],
   "source": []
  }
 ],
 "metadata": {
  "kernelspec": {
   "display_name": "Python 3",
   "language": "python",
   "name": "python3"
  },
  "language_info": {
   "codemirror_mode": {
    "name": "ipython",
    "version": 3
   },
   "file_extension": ".py",
   "mimetype": "text/x-python",
   "name": "python",
   "nbconvert_exporter": "python",
   "pygments_lexer": "ipython3",
   "version": "3.6.6"
  }
 },
 "nbformat": 4,
 "nbformat_minor": 2
}
