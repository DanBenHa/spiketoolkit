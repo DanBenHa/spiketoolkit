{
 "cells": [
  {
   "cell_type": "code",
   "execution_count": 20,
   "metadata": {},
   "outputs": [
    {
     "name": "stdout",
     "output_type": "stream",
     "text": [
      "The autoreload extension is already loaded. To reload it, use:\n",
      "  %reload_ext autoreload\n"
     ]
    }
   ],
   "source": [
    "# For development purposes, reload imported modules when source changes\n",
    "%load_ext autoreload\n",
    "%autoreload 2\n",
    "\n",
    "import spikeinterface as si\n",
    "import spikewidgets as sw\n",
    "import spiketoolkit as st\n",
    "import os, sys"
   ]
  },
  {
   "cell_type": "code",
   "execution_count": 54,
   "metadata": {},
   "outputs": [],
   "source": [
    "# Create a toy example dataset\n",
    "recording, sorting_true=sw.example_datasets.toy_example1(duration=60)\n",
    "\n",
    "\n",
    "# MEArec\n",
    "#rec_folder = '/home/alessio/Documents/Codes/MEArec/data/recordings/recordings_20cells_Neuronexus-32_10.0_10.0uV_15-10-2018:21:52'\n",
    "#recording = si.MEArecRecordingExtractor(rec_folder)\n",
    "#sorting_true = si.MEArecSortingExtractor(rec_folder)"
   ]
  },
  {
   "cell_type": "code",
   "execution_count": 3,
   "metadata": {},
   "outputs": [
    {
     "data": {
      "image/png": "[encoded data removed]",
      "text/plain": [
       "<Figure size 504x180 with 1 Axes>"
      ]
     },
     "metadata": {
      "needs_background": "light"
     },
     "output_type": "display_data"
    },
    {
     "data": {
      "application/vnd.jupyter.widget-view+json": {
       "model_id": "09aab07ede0d4c0a963bb7dcf693c670",
       "version_major": 2,
       "version_minor": 0
      },
      "text/plain": [
       "VBox(children=(HBox(children=(Button(icon='plus-square', layout=Layout(width='40px'), style=ButtonStyle(), too…"
      ]
     },
     "metadata": {},
     "output_type": "display_data"
    }
   ],
   "source": [
    "# View the filtered timeseries data\n",
    "filt=st.filters.bandpass_filter(recording,freq_min=300,freq_max=6000)\n",
    "sw.TimeseriesWidget(recording=filt,width=7,height=2.5).display()"
   ]
  },
  {
   "cell_type": "code",
   "execution_count": null,
   "metadata": {},
   "outputs": [],
   "source": [
    "# Create a temporary working directory if needed\n",
    "if not os.path.exists('tmp'): os.mkdir('tmp')"
   ]
  },
  {
   "cell_type": "code",
   "execution_count": null,
   "metadata": {},
   "outputs": [],
   "source": [
    "# Mountainsort4 spike sorting\n",
    "sorting_MS4=st.sorters.mountainsort4(\n",
    "    recording=recording,\n",
    "    detect_sign=-1,\n",
    "    adjacency_radius=-1\n",
    ")"
   ]
  },
  {
   "cell_type": "code",
   "execution_count": 5,
   "metadata": {},
   "outputs": [
    {
     "ename": "TypeError",
     "evalue": "spyking_circus() got an unexpected keyword argument 'useGPU'",
     "output_type": "error",
     "traceback": [
      "\u001b[0;31m---------------------------------------------------------------------------\u001b[0m",
      "\u001b[0;31mTypeError\u001b[0m                                 Traceback (most recent call last)",
      "\u001b[0;32m<ipython-input-5-66f198f21a99>\u001b[0m in \u001b[0;36m<module>\u001b[0;34m\u001b[0m\n\u001b[1;32m      5\u001b[0m     \u001b[0mdetect_sign\u001b[0m\u001b[0;34m=\u001b[0m\u001b[0;34m'negative'\u001b[0m\u001b[0;34m,\u001b[0m\u001b[0;34m\u001b[0m\u001b[0m\n\u001b[1;32m      6\u001b[0m     \u001b[0moutput_folder\u001b[0m\u001b[0;34m=\u001b[0m\u001b[0;34m'tmp'\u001b[0m\u001b[0;34m,\u001b[0m\u001b[0;34m\u001b[0m\u001b[0m\n\u001b[0;32m----> 7\u001b[0;31m     \u001b[0museGPU\u001b[0m\u001b[0;34m=\u001b[0m\u001b[0;32mFalse\u001b[0m\u001b[0;34m,\u001b[0m\u001b[0;34m\u001b[0m\u001b[0m\n\u001b[0m\u001b[1;32m      8\u001b[0m )\n",
      "\u001b[0;31mTypeError\u001b[0m: spyking_circus() got an unexpected keyword argument 'useGPU'"
     ]
    }
   ],
   "source": [
    "# SpyKING Circus spike sorting\n",
    "sorting_SC=st.sorters.spyking_circus(\n",
    "    recording=recording,\n",
    "    adjacency_radius=50,\n",
    "    detect_sign='negative',\n",
    "    output_folder='tmp',\n",
    ")"
   ]
  },
  {
   "cell_type": "code",
   "execution_count": 7,
   "metadata": {},
   "outputs": [
    {
     "name": "stdout",
     "output_type": "stream",
     "text": [
      "Reading timeseries header...\n",
      "Num. channels = 4, Num. timepoints = 3600000, duration = 2.0 minutes\n",
      "Creating argfile.txt file...\n",
      "Running kilosort...\n",
      "matlab -nosplash -nodisplay -r \"addpath('/home/alessio/Documents/Codes/spike_sorting/spiketoolkit/spiketoolkit/sorters/old/kilosort_j');  p_kilosort('/home/alessio/Documents/Codes/spike_sorting/KiloSort', '/home/alessio/Documents/Codes/spike_sorting/ironclust', 'tmp', 'tmp/kilosort_dataset/raw.mda', 'tmp/kilosort_dataset/geom.csv', 'tmp/firings.mda', 'tmp/kilosort_dataset/argfile.txt', 0); quit;\"\n",
      "\n",
      "\n",
      "Index exceeds matrix dimensions.\n",
      "\n",
      "                            < M A T L A B (R) >\n",
      "\n",
      "\n",
      "\n",
      "                  Copyright 1984-2017 The MathWorks, Inc.\n",
      "\n",
      "Error in fullMPMU (line 205)\n",
      "\n",
      "                   R2017a (9.2.0.556344) 64-bit (glnxa64)\n",
      "\n",
      "[~, isort]      = sort(st3(:,1), 'ascend');\n",
      "\n",
      "                               March 27, 2017\n",
      "\n",
      "\n",
      "\n",
      "\n",
      "\n",
      "Error in p_kilosort (line 18)\n",
      "\n",
      " \n",
      "\n",
      "rez                = fullMPMU(rez, DATA);% extract final spike times\n",
      "\n",
      "To get started, type one of these: helpwin, helpdesk, or demo.\n",
      "\n",
      "(overlapping extraction)\n",
      "\n",
      "For product information, visit www.mathworks.com.\n",
      "\n",
      " \n",
      "\n",
      " \n",
      "\n",
      "Running kilosort on tmp/kilosort_dataset/raw.mda\n",
      "\n",
      "Time   0s. Loading raw data... \n",
      "\n",
      "Time   1s. Channel-whitening filters computed. \n",
      "\n",
      "Time   1s. Loading raw data and applying filters... \n",
      "\n",
      "Time 5.34. Whitened data written to disk... \n",
      "\n",
      "Time 5.34. Preprocessing complete!\n",
      "\n",
      "Time   6s. Optimizing templates ...\n",
      "\n",
      "Time 6.36, batch 1/168, mu 0.00, neg-err NaN, NTOT 0, n100 0, n200 0, n300 0, n400 0\n",
      "\n",
      "\bTime 19.50, batch 21/168, mu 0.00, neg-err NaN, NTOT 0, n100 0, n200 0, n300 0, n400 0\n",
      "\n",
      "\bTime 35.92, batch 41/168, mu 0.00, neg-err NaN, NTOT 128, n100 4, n200 4, n300 4, n400 4\n",
      "\n",
      "\bTime 49.51, batch 61/168, mu 0.00, neg-err NaN, NTOT 128, n100 4, n200 4, n300 4, n400 4\n",
      "\n",
      "\bTime 62.67, batch 81/168, mu 0.00, neg-err NaN, NTOT 128, n100 4, n200 4, n300 4, n400 4\n",
      "\n",
      "\bTime 76.50, batch 101/168, mu 0.00, neg-err NaN, NTOT 128, n100 4, n200 4, n300 4, n400 4\n",
      "\n",
      "Time 90.22, batch 121/168, mu 0.00, neg-err NaN, NTOT 128, n100 4, n200 4, n300 4, n400 4\n",
      "\n",
      "Time 103.67, batch 141/168, mu 0.00, neg-err NaN, NTOT 128, n100 4, n200 4, n300 4, n400 4\n",
      "\n",
      "\bTime 116.93, batch 161/168, mu 0.00, neg-err NaN, NTOT 128, n100 4, n200 4, n300 4, n400 4\n",
      "\n",
      "Time 122s. Running the final template matching pass...\n",
      "\n",
      "Time 122.74, batch 1/28,  NTOT 0\n",
      "\n",
      ">> \n"
     ]
    }
   ],
   "source": [
    "# KiloSort (old) spike sorting\n",
    "sorting_KS=st.sorters.kilosort_j(\n",
    "    recording=recording,\n",
    "    kilosort_src='/home/alessio/Documents/Codes/spike_sorting/KiloSort',\n",
    "    ironclust_src='/home/alessio/Documents/Codes/spike_sorting/ironclust',\n",
    "    tmpdir='tmp',\n",
    "    useGPU=False,\n",
    ")"
   ]
  },
  {
   "cell_type": "code",
   "execution_count": null,
   "metadata": {},
   "outputs": [],
   "source": [
    "# KiloSort spike sorting\n",
    "sorting_KS2=st.sorters.kilosort(\n",
    "    recording=recording,\n",
    "    kilosort_path='/home/alessio/Documents/Codes/spike_sorting/KiloSort',\n",
    "    npy_matlab_path='/home/alessio/Documents/Codes/npy-matlab',\n",
    "    output_folder='tmp'\n",
    ")"
   ]
  },
  {
   "cell_type": "code",
   "execution_count": null,
   "metadata": {},
   "outputs": [],
   "source": [
    "# Klusta spike sorting\n",
    "sorting=st.sorters.klusta(\n",
    "        recording, # The recording extractor\n",
    "        output_folder='tmp',\n",
    "        )"
   ]
  },
  {
   "cell_type": "code",
   "execution_count": null,
   "metadata": {},
   "outputs": [],
   "source": [
    "# IronClust spike sorting\n",
    "sorting_IC=st.sorters.ironclust(\n",
    "    recording=recording,\n",
    "    detect_sign=-1,\n",
    "    adjacency_radius=-1,\n",
    "    prm_template_name='tetrode_template.prm',\n",
    "    tmpdir='tmp',\n",
    "    ironclust_src='../ironclust'\n",
    ")"
   ]
  },
  {
   "cell_type": "code",
   "execution_count": null,
   "metadata": {},
   "outputs": [],
   "source": [
    "# Compute SNRs of true units\n",
    "snrs=sw.devel.compute_unit_snrs(recording=filt,sorting=sorting_true,unit_ids=sorting_true.getUnitIds())\n",
    "sorting_true.setUnitsProperty(property_name='SNR',values=snrs)"
   ]
  },
  {
   "cell_type": "code",
   "execution_count": null,
   "metadata": {},
   "outputs": [],
   "source": [
    "# Comparison MountainSort4 vs truth\n",
    "comparison_MS4=sw.SortingComparison(sorting_true,sorting_MS4)\n",
    "sw.SortingAccuracyWidget(sorting_comparison=comparison_MS4,property_name='SNR').plot()"
   ]
  },
  {
   "cell_type": "code",
   "execution_count": null,
   "metadata": {},
   "outputs": [],
   "source": [
    "# Comparison SpyKING Circus vs truth\n",
    "comparison_SC=sw.SortingComparison(sorting_true,sorting_SC)\n",
    "sw.SortingAccuracyWidget(sorting_comparison=comparison_SC,property_name='SNR').plot()"
   ]
  },
  {
   "cell_type": "code",
   "execution_count": null,
   "metadata": {},
   "outputs": [],
   "source": [
    "# Comparison IronClust vs truth\n",
    "comparison_IC=sw.SortingComparison(sorting_true,sorting_IC)\n",
    "sw.SortingAccuracyWidget(sorting_comparison=comparison_IC,property_name='SNR').plot()"
   ]
  },
  {
   "cell_type": "code",
   "execution_count": null,
   "metadata": {},
   "outputs": [],
   "source": [
    "# Comparison KS KS2\n",
    "SC=st.comparison.SortingComparison(sorting_KS, sorting_KS2, delta_tp=10)"
   ]
  },
  {
   "cell_type": "code",
   "execution_count": null,
   "metadata": {},
   "outputs": [],
   "source": [
    "sw.SortingComparisonTable(SC).display()"
   ]
  },
  {
   "cell_type": "code",
   "execution_count": null,
   "metadata": {},
   "outputs": [],
   "source": [
    "st.exportToPhy(recording, sorting_true, output_folder='phytmp')"
   ]
  }
 ],
 "metadata": {
  "kernelspec": {
   "display_name": "Python 3",
   "language": "python",
   "name": "python3"
  },
  "language_info": {
   "codemirror_mode": {
    "name": "ipython",
    "version": 3
   },
   "file_extension": ".py",
   "mimetype": "text/x-python",
   "name": "python",
   "nbconvert_exporter": "python",
   "pygments_lexer": "ipython3",
   "version": "3.6.6"
  }
 },
 "nbformat": 4,
 "nbformat_minor": 2
}
