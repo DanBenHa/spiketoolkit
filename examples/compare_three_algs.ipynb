{
 "cells": [
  {
   "cell_type": "code",
   "execution_count": null,
   "metadata": {},
   "outputs": [],
   "source": [
    "# For development purposes, reload imported modules when source changes\n",
    "%load_ext autoreload\n",
    "%autoreload 2\n",
    "\n",
    "import spikeinterface as si\n",
    "import spikewidgets as sw\n",
    "import spiketoolkit as st\n",
    "import os, sys"
   ]
  },
  {
   "cell_type": "code",
   "execution_count": null,
   "metadata": {},
   "outputs": [],
   "source": [
    "# Create a toy example dataset\n",
    "recording,sorting_true=sw.example_datasets.toy_example1(duration=600)"
   ]
  },
  {
   "cell_type": "code",
   "execution_count": null,
   "metadata": {},
   "outputs": [],
   "source": [
    "# View the filtered timeseries data\n",
    "filt=sw.lazyfilters.bandpass_filter(recording,freq_min=300,freq_max=6000)\n",
    "sw.TimeseriesWidget(recording=filt,width=7,height=2.5).display()"
   ]
  },
  {
   "cell_type": "code",
   "execution_count": null,
   "metadata": {},
   "outputs": [],
   "source": [
    "# Create a temporary working directory if needed\n",
    "if not os.path.exists('tmp'): os.mkdir('tmp')"
   ]
  },
  {
   "cell_type": "code",
   "execution_count": null,
   "metadata": {},
   "outputs": [],
   "source": [
    "# Mountainsort4 spike sorting\n",
    "sorting_MS4=st.sorters.mountainsort4(\n",
    "    recording=recording,\n",
    "    detect_sign=-1,\n",
    "    adjacency_radius=-1\n",
    ")"
   ]
  },
  {
   "cell_type": "code",
   "execution_count": null,
   "metadata": {},
   "outputs": [],
   "source": [
    "# SpyKING Circus spike sorting\n",
    "sorting_SC=st.sorters.spyking_circus(\n",
    "    recording=recording,\n",
    "    adjacency_radius=50,\n",
    "    detect_sign=-1,\n",
    "    tmpdir='tmp'\n",
    ")"
   ]
  },
  {
   "cell_type": "code",
   "execution_count": null,
   "metadata": {},
   "outputs": [],
   "source": [
    "# IronClust spike sorting\n",
    "sorting_IC=st.sorters.ironclust(\n",
    "    recording=recording,\n",
    "    detect_sign=-1,\n",
    "    adjacency_radius=-1,\n",
    "    prm_template_name='tetrode_template.prm',\n",
    "    tmpdir='tmp',\n",
    "    ironclust_src='../ironclust'\n",
    ")"
   ]
  },
  {
   "cell_type": "code",
   "execution_count": null,
   "metadata": {},
   "outputs": [],
   "source": [
    "# Compute SNRs of true units\n",
    "snrs=sw.devel.compute_unit_snrs(recording=filt,sorting=sorting_true,unit_ids=sorting_true.getUnitIds())\n",
    "sorting_true.setUnitProperty(unit_id=sorting_true.getUnitIds(),property_name='SNR',value=snrs)"
   ]
  },
  {
   "cell_type": "code",
   "execution_count": null,
   "metadata": {},
   "outputs": [],
   "source": [
    "# Comparison MountainSort4 vs truth\n",
    "comparison_MS4=sw.SortingComparison(sorting_true,sorting_MS4)\n",
    "sw.SortingAccuracyWidget(sorting_comparison=comparison_MS4,property_name='SNR').plot()"
   ]
  },
  {
   "cell_type": "code",
   "execution_count": null,
   "metadata": {},
   "outputs": [],
   "source": [
    "# Comparison SpyKING Circus vs truth\n",
    "comparison_SC=sw.SortingComparison(sorting_true,sorting_SC)\n",
    "sw.SortingAccuracyWidget(sorting_comparison=comparison_SC,property_name='SNR').plot()"
   ]
  },
  {
   "cell_type": "code",
   "execution_count": null,
   "metadata": {},
   "outputs": [],
   "source": [
    "# Comparison IronClust vs truth\n",
    "comparison_IC=sw.SortingComparison(sorting_true,sorting_IC)\n",
    "sw.SortingAccuracyWidget(sorting_comparison=comparison_IC,property_name='SNR').plot()"
   ]
  },
  {
   "cell_type": "code",
   "execution_count": null,
   "metadata": {},
   "outputs": [],
   "source": []
  }
 ],
 "metadata": {
  "kernelspec": {
   "display_name": "Python 3",
   "language": "python",
   "name": "python3"
  },
  "language_info": {
   "codemirror_mode": {
    "name": "ipython",
    "version": 3
   },
   "file_extension": ".py",
   "mimetype": "text/x-python",
   "name": "python",
   "nbconvert_exporter": "python",
   "pygments_lexer": "ipython3",
   "version": "3.6.6"
  }
 },
 "nbformat": 4,
 "nbformat_minor": 2
}
