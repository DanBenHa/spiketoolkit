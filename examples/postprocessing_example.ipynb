{
 "cells": [
  {
   "cell_type": "code",
   "execution_count": 1,
   "metadata": {},
   "outputs": [
    {
     "name": "stdout",
     "output_type": "stream",
     "text": [
      "The autoreload extension is already loaded. To reload it, use:\n",
      "  %reload_ext autoreload\n"
     ]
    }
   ],
   "source": [
    "%load_ext autoreload\n",
    "%autoreload 2"
   ]
  },
  {
   "cell_type": "code",
   "execution_count": 8,
   "metadata": {},
   "outputs": [],
   "source": [
    "import spikeextractors as se\n",
    "import spiketoolkit as st\n",
    "import spikewidgets as sw\n",
    "import time\n",
    "import numpy as np\n",
    "import matplotlib.pylab as plt"
   ]
  },
  {
   "cell_type": "code",
   "execution_count": 9,
   "metadata": {},
   "outputs": [],
   "source": [
    "recording, sorting = se.example_datasets.toy_example1(num_channels=4, duration=30)"
   ]
  },
  {
   "cell_type": "code",
   "execution_count": 10,
   "metadata": {},
   "outputs": [
    {
     "name": "stdout",
     "output_type": "stream",
     "text": [
      "Using 6 workers.\n",
      "Using tmpdir: /tmp/tmppunn8yev\n",
      "Num. workers = 6\n",
      "Preparing /tmp/tmppunn8yev/timeseries.hdf5...\n",
      "Preparing neighborhood sorters (M=4, N=900000)...\n",
      "Neighboorhood of channel 3 has 4 channels.\n",
      "Neighboorhood of channel 0 has 4 channels.\n",
      "Neighboorhood of channel 1 has 4 channels.\n",
      "Detecting events on channel 2 (phase1)...\n",
      "Neighboorhood of channel 2 has 4 channels.\n",
      "Detecting events on channel 1 (phase1)...\n",
      "Detecting events on channel 4 (phase1)...\n",
      "Detecting events on channel 3 (phase1)...\n",
      "Elapsed time for detect on neighborhood: 0:00:00.176103\n",
      "Num events detected on channel 2 (phase1): 643\n",
      "Computing PCA features for channel 2 (phase1)...\n",
      "Elapsed time for detect on neighborhood: 0:00:00.168457\n",
      "Num events detected on channel 1 (phase1): 704\n",
      "Computing PCA features for channel 1 (phase1)...\n",
      "Elapsed time for detect on neighborhood: 0:00:00.173672\n",
      "Num events detected on channel 4 (phase1): 1032\n",
      "Computing PCA features for channel 4 (phase1)...\n",
      "Elapsed time for detect on neighborhood: 0:00:00.177136\n",
      "Num events detected on channel 3 (phase1): 762\n",
      "Computing PCA features for channel 3 (phase1)...\n",
      "Clustering for channel 2 (phase1)...\n",
      "Clustering for channel 1 (phase1)...\n",
      "Found 7 clusters for channel 2 (phase1)...\n",
      "Computing templates for channel 2 (phase1)...\n",
      "Clustering for channel 4 (phase1)...\n",
      "Re-assigning events for channel 2 (phase1)...\n",
      "Found 7 clusters for channel 4 (phase1)...\n",
      "Computing templates for channel 4 (phase1)...\n",
      "Re-assigning events for channel 4 (phase1)...\n",
      "Found 5 clusters for channel 1 (phase1)...\n",
      "Computing templates for channel 1 (phase1)...\n",
      "Re-assigning events for channel 1 (phase1)...\n",
      "Clustering for channel 3 (phase1)...\n",
      "Found 8 clusters for channel 3 (phase1)...\n",
      "Computing templates for channel 3 (phase1)...\n",
      "Re-assigning events for channel 3 (phase1)...\n",
      "Re-assigning 7 events from 3 to 2 with dt=-3 (k=5)\n",
      "Neighboorhood of channel 3 has 4 channels.\n",
      "Neighboorhood of channel 2 has 4 channels.\n",
      "Computing PCA features for channel 4 (phase2)...\n",
      "Computing PCA features for channel 3 (phase2)...\n",
      "No duplicate events found for channel 3 in phase2\n",
      "No duplicate events found for channel 2 in phase2\n",
      "Neighboorhood of channel 1 has 4 channels.\n",
      "Computing PCA features for channel 2 (phase2)...\n",
      "No duplicate events found for channel 1 in phase2\n",
      "Neighboorhood of channel 0 has 4 channels.\n",
      "Computing PCA features for channel 1 (phase2)...\n",
      "No duplicate events found for channel 0 in phase2\n",
      "Clustering for channel 3 (phase2)...\n",
      "Found 4 clusters for channel 3 (phase2)...\n",
      "Clustering for channel 4 (phase2)...\n",
      "Found 3 clusters for channel 4 (phase2)...\n",
      "Clustering for channel 1 (phase2)...\n",
      "Found 3 clusters for channel 1 (phase2)...\n",
      "Clustering for channel 2 (phase2)...\n",
      "Found 4 clusters for channel 2 (phase2)...\n",
      "Preparing output...\n",
      "Done with ms4alg.\n",
      "Cleaning tmpdir::::: /tmp/tmppunn8yev\n",
      "Elapsed time:  4.7356767654418945\n"
     ]
    }
   ],
   "source": [
    "sorting_ms4 = st.sorters.mountainsort4(recording=recording, adjacency_radius=10)"
   ]
  },
  {
   "cell_type": "code",
   "execution_count": 11,
   "metadata": {},
   "outputs": [
    {
     "name": "stdout",
     "output_type": "stream",
     "text": [
      "[73, 71, 72, 70, 68, 73, 73, 71, 70, 69]\n"
     ]
    }
   ],
   "source": [
    "print([len(sorting.getUnitSpikeTrain(i)) for i in sorting.getUnitIds()])"
   ]
  },
  {
   "cell_type": "code",
   "execution_count": 12,
   "metadata": {},
   "outputs": [
    {
     "data": {
      "text/plain": [
       "[3]"
      ]
     },
     "execution_count": 12,
     "metadata": {},
     "output_type": "execute_result"
    }
   ],
   "source": [
    "sorting_ms4.getUnitIds()"
   ]
  },
  {
   "cell_type": "code",
   "execution_count": 13,
   "metadata": {},
   "outputs": [],
   "source": [
    "rec_f = st.preprocessing.bandpass_filter(recording)"
   ]
  },
  {
   "cell_type": "code",
   "execution_count": 21,
   "metadata": {},
   "outputs": [
    {
     "name": "stdout",
     "output_type": "stream",
     "text": [
      "[3]\n",
      "Waveform 1/1\n",
      "0.003336668014526367\n"
     ]
    }
   ],
   "source": [
    "ts = time.time()\n",
    "wf = st.postprocessing.getUnitWaveforms(rec_f, sorting_ms4, verbose=True)\n",
    "print(time.time()-ts)"
   ]
  },
  {
   "cell_type": "code",
   "execution_count": 26,
   "metadata": {},
   "outputs": [
    {
     "data": {
      "text/plain": [
       "['waveforms']"
      ]
     },
     "execution_count": 26,
     "metadata": {},
     "output_type": "execute_result"
    }
   ],
   "source": [
    "sorting_ms4.getUnitSpikeFeatureNames()"
   ]
  },
  {
   "cell_type": "code",
   "execution_count": 27,
   "metadata": {},
   "outputs": [
    {
     "name": "stdout",
     "output_type": "stream",
     "text": [
      "Using 'waveforms' features\n"
     ]
    }
   ],
   "source": [
    "templates = st.postprocessing.getUnitTemplate(recording, sorting_ms4)"
   ]
  },
  {
   "cell_type": "code",
   "execution_count": null,
   "metadata": {},
   "outputs": [],
   "source": [
    "sorting_ms4.getUnitPropertyNames()"
   ]
  },
  {
   "cell_type": "code",
   "execution_count": null,
   "metadata": {},
   "outputs": [],
   "source": [
    "max_chan = st.postprocessing.getUnitMaxChannel(recording, sorting_ms4)"
   ]
  },
  {
   "cell_type": "code",
   "execution_count": null,
   "metadata": {},
   "outputs": [],
   "source": [
    "sorting.getUnitPropertyNames()"
   ]
  },
  {
   "cell_type": "code",
   "execution_count": null,
   "metadata": {},
   "outputs": [],
   "source": [
    "pca_scores = st.postprocessing.computePCAScores(recording, sorting_ms4)"
   ]
  },
  {
   "cell_type": "code",
   "execution_count": null,
   "metadata": {},
   "outputs": [],
   "source": [
    "snr = st.postprocessing.computeUnitSNR(recording, sorting)"
   ]
  },
  {
   "cell_type": "code",
   "execution_count": null,
   "metadata": {},
   "outputs": [],
   "source": [
    "print(sorting.getUnitPropertyNames())\n",
    "print(sorting.getUnitSpikeFeatureNames())"
   ]
  }
 ],
 "metadata": {
  "kernelspec": {
   "display_name": "Python 3",
   "language": "python",
   "name": "python3"
  },
  "language_info": {
   "codemirror_mode": {
    "name": "ipython",
    "version": 3
   },
   "file_extension": ".py",
   "mimetype": "text/x-python",
   "name": "python",
   "nbconvert_exporter": "python",
   "pygments_lexer": "ipython3",
   "version": "3.5.6"
  }
 },
 "nbformat": 4,
 "nbformat_minor": 2
}
