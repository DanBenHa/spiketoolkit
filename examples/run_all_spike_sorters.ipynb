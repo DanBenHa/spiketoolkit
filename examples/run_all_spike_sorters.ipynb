{
 "cells": [
  {
   "cell_type": "code",
   "execution_count": null,
   "metadata": {},
   "outputs": [],
   "source": [
    "# For development purposes, reload imported modules when source changes\n",
    "%load_ext autoreload\n",
    "%autoreload 2\n",
    "\n",
    "import spikeextractors as se\n",
    "import spikewidgets as sw\n",
    "import spiketoolkit as st\n",
    "import os, sys"
   ]
  },
  {
   "cell_type": "code",
   "execution_count": null,
   "metadata": {},
   "outputs": [],
   "source": [
    "# Create a toy example dataset\n",
    "recording, sorting_true=sw.example_datasets.toy_example1(duration=600)"
   ]
  },
  {
   "cell_type": "code",
   "execution_count": null,
   "metadata": {},
   "outputs": [],
   "source": [
    "# View the filtered timeseries data\n",
    "filt=st.filters.bandpass_filter(recording,freq_min=300,freq_max=6000)\n",
    "sw.TimeseriesWidget(recording=filt,width=7,height=2.5).display()"
   ]
  },
  {
   "cell_type": "code",
   "execution_count": null,
   "metadata": {},
   "outputs": [],
   "source": [
    "# Create a temporary working directory if needed\n",
    "if not os.path.exists('tmp'): os.mkdir('tmp')"
   ]
  },
  {
   "cell_type": "code",
   "execution_count": null,
   "metadata": {},
   "outputs": [],
   "source": [
    "# Mountainsort4 spike sorting\n",
    "sorting_MS4=st.sorters.mountainsort4(\n",
    "    recording=recording,\n",
    "    detect_sign=-1,\n",
    "    adjacency_radius=-1\n",
    ")"
   ]
  },
  {
   "cell_type": "code",
   "execution_count": null,
   "metadata": {},
   "outputs": [],
   "source": [
    "# SpyKING Circus spike sorting\n",
    "sorting_SC=st.sorters.spyking_circus(\n",
    "    recording=recording,\n",
    "    adjacency_radius=50,\n",
    "    detect_sign=-1,\n",
    "    output_folder='tmp',\n",
    ")"
   ]
  },
  {
   "cell_type": "code",
   "execution_count": null,
   "metadata": {},
   "outputs": [],
   "source": [
    "# KiloSort spike sorting (KILOSORT_PATH and NPY_MATLAB_PATH can be set as environment variables)\n",
    "sorting_KS=st.sorters.kilosort(\n",
    "    recording=recording,\n",
    "    output_folder='tmp',\n",
    "    kilosort_path='../../KiloSort/',\n",
    "    npy_matlab_path='../../../npy-matlab/'\n",
    ")"
   ]
  },
  {
   "cell_type": "code",
   "execution_count": null,
   "metadata": {},
   "outputs": [],
   "source": [
    "# Klusta spike sorting\n",
    "sorting_KL=st.sorters.klusta(\n",
    "        recording, # The recording extractor\n",
    "        output_folder='tmp',\n",
    "        )"
   ]
  },
  {
   "cell_type": "code",
   "execution_count": null,
   "metadata": {},
   "outputs": [],
   "source": [
    "# IronClust spike sorting (IRONCLUST_PATH can be set as environment variables)\n",
    "sorting_IC=st.sorters.ironclust(\n",
    "    recording=recording,\n",
    "    detect_sign=-1,\n",
    "    adjacency_radius=-1,\n",
    "    prm_template_name='tetrode_template.prm',\n",
    "    ironclust_path='../../ironclust',\n",
    "    tmpdir='tmp',\n",
    ")"
   ]
  },
  {
   "cell_type": "code",
   "execution_count": null,
   "metadata": {},
   "outputs": [],
   "source": [
    "sorting_true.getUnitIds()"
   ]
  },
  {
   "cell_type": "code",
   "execution_count": null,
   "metadata": {},
   "outputs": [],
   "source": [
    "# Compute SNRs of true units\n",
    "snrs=st.computeUnitSNR(recording=filt, sorting=sorting_true, unit_ids=sorting_true.getUnitIds(), max_num_waveforms=100)\n",
    "sorting_true.setUnitsProperty(property_name='SNR',values=snrs)"
   ]
  },
  {
   "cell_type": "code",
   "execution_count": null,
   "metadata": {},
   "outputs": [],
   "source": [
    "# Comparison MountainSort4 vs truth\n",
    "comparison_MS4=st.comparison.SortingComparison(sorting_true,sorting_MS4)\n",
    "sw.SortingAccuracyWidget(sorting_comparison=comparison_MS4, property_name='SNR').plot()"
   ]
  },
  {
   "cell_type": "code",
   "execution_count": null,
   "metadata": {},
   "outputs": [],
   "source": [
    "# Comparison KiloSort vs truth\n",
    "comparison_KS=st.comparison.SortingComparison(sorting_true,sorting_KS)\n",
    "sw.SortingAccuracyWidget(sorting_comparison=comparison_KS, property_name='SNR').plot()"
   ]
  },
  {
   "cell_type": "code",
   "execution_count": null,
   "metadata": {},
   "outputs": [],
   "source": [
    "# Comparison SpyKING Circus vs truth\n",
    "comparison_SC=st.comparison.SortingComparison(sorting_true,sorting_SC)\n",
    "sw.SortingAccuracyWidget(sorting_comparison=comparison_SC, property_name='SNR').plot()"
   ]
  },
  {
   "cell_type": "code",
   "execution_count": null,
   "metadata": {},
   "outputs": [],
   "source": [
    "# Comparison Klusta vs truth\n",
    "comparison_KL=st.comparison.SortingComparison(sorting_true,sorting_KL)\n",
    "sw.SortingAccuracyWidget(sorting_comparison=comparison_KL, property_name='SNR').plot()"
   ]
  },
  {
   "cell_type": "code",
   "execution_count": null,
   "metadata": {},
   "outputs": [],
   "source": [
    "# Comparison IronClust vs truth\n",
    "comparison_IC=st.comparison.SortingComparison(sorting_true,sorting_IC)\n",
    "sw.SortingAccuracyWidget(sorting_comparison=comparison_IC, property_name='SNR').plot()"
   ]
  },
  {
   "cell_type": "code",
   "execution_count": null,
   "metadata": {},
   "outputs": [],
   "source": [
    "sw.SortingComparisonTable(comparison_MS4).display()"
   ]
  },
  {
   "cell_type": "code",
   "execution_count": null,
   "metadata": {},
   "outputs": [],
   "source": [
    "sw.SortingComparisonTable(comparison_KS).display()"
   ]
  },
  {
   "cell_type": "code",
   "execution_count": null,
   "metadata": {},
   "outputs": [],
   "source": [
    "sw.SortingComparisonTable(comparison_SC).display()"
   ]
  },
  {
   "cell_type": "code",
   "execution_count": null,
   "metadata": {},
   "outputs": [],
   "source": [
    "sw.SortingComparisonTable(comparison_KL).display()"
   ]
  },
  {
   "cell_type": "code",
   "execution_count": null,
   "metadata": {},
   "outputs": [],
   "source": [
    "sw.SortingComparisonTable(comparison_IC).display()"
   ]
  },
  {
   "cell_type": "code",
   "execution_count": null,
   "metadata": {},
   "outputs": [],
   "source": [
    "comparison_KL.plotConfusionMatrix()"
   ]
  },
  {
   "cell_type": "code",
   "execution_count": null,
   "metadata": {},
   "outputs": [],
   "source": [
    "# You can use Phy to manually curate the sorting output of any spike sorter\n",
    "st.exportToPhy(recording, sorting_MS4, output_folder='mountainsort')"
   ]
  },
  {
   "cell_type": "code",
   "execution_count": null,
   "metadata": {},
   "outputs": [],
   "source": [
    "sorting_M4_curated = si.PhysortingExtractor('mountainsort/')"
   ]
  }
 ],
 "metadata": {
  "kernelspec": {
   "display_name": "Python 3",
   "language": "python",
   "name": "python3"
  },
  "language_info": {
   "codemirror_mode": {
    "name": "ipython",
    "version": 3
   },
   "file_extension": ".py",
   "mimetype": "text/x-python",
   "name": "python",
   "nbconvert_exporter": "python",
   "pygments_lexer": "ipython3",
   "version": "3.6.6"
  }
 },
 "nbformat": 4,
 "nbformat_minor": 2
}
