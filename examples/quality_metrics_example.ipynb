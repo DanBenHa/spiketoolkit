{
 "cells": [
  {
   "cell_type": "markdown",
   "metadata": {},
   "source": [
    "# Quality Metrics and Curation\n",
    "\n",
    "In this notebook, we introduce different methods for evaluating sorted results and also some basic curation tools."
   ]
  },
  {
   "cell_type": "code",
   "execution_count": null,
   "metadata": {},
   "outputs": [],
   "source": [
    "import spiketoolkit as st\n",
    "import spikesorters as ss\n",
    "import spikeextractors as se\n",
    "import numpy as np\n",
    "import spikemetrics.metrics as metrics\n",
    "from spikemetrics.utils import Epoch\n",
    "from collections import OrderedDict"
   ]
  },
  {
   "cell_type": "markdown",
   "metadata": {},
   "source": [
    "Here we load in a 4 tetrode recording simulated by MEArec"
   ]
  },
  {
   "cell_type": "code",
   "execution_count": null,
   "metadata": {},
   "outputs": [],
   "source": [
    "data_path = \"Spike_sorting_workshop_2019/\"\n",
    "recording = se.MEArecRecordingExtractor(recording_path= data_path + \"recordings_36cells_four-tetrodes_30.0_10.0uV_20-06-2019_14_48.h5\")\n"
   ]
  },
  {
   "cell_type": "markdown",
   "metadata": {},
   "source": [
    "We load a probe file in for electrode locations and groups"
   ]
  },
  {
   "cell_type": "code",
   "execution_count": null,
   "metadata": {},
   "outputs": [],
   "source": [
    "recording = se.load_probe_file(recording, data_path + 'tetrode_16.prb')"
   ]
  },
  {
   "cell_type": "markdown",
   "metadata": {},
   "source": [
    "Now we sort with a popular sorter, Klusta."
   ]
  },
  {
   "cell_type": "code",
   "execution_count": null,
   "metadata": {},
   "outputs": [],
   "source": [
    "sorting = ss.run_klusta(recording)"
   ]
  },
  {
   "cell_type": "markdown",
   "metadata": {},
   "source": [
    "## Quality Metrics\n",
    "\n",
    "Here we create a metric calculator, a python object that is able to calculate and store a variety of quality metrics for sorted result."
   ]
  },
  {
   "cell_type": "code",
   "execution_count": null,
   "metadata": {},
   "outputs": [],
   "source": [
    "epoch_tuples = None#[(0.0, 15.0), (15.0, 30.0)]\n",
    "epoch_names = None#[\"start\", \"end\"]\n",
    "unit_ids = sorting.get_unit_ids()\n",
    "\n",
    "metric_calculator = st.validation.qualitymetrics.MetricCalculator(sorting, sampling_frequency=sorting.get_sampling_frequency(), unit_ids=unit_ids, \\\n",
    "                                                                  epoch_tuples=epoch_tuples, epoch_names=epoch_names)\n"
   ]
  },
  {
   "cell_type": "markdown",
   "metadata": {},
   "source": [
    "Here we store the data needed for calculating all of the quality metrics in SpikeInterface "
   ]
  },
  {
   "cell_type": "code",
   "execution_count": null,
   "metadata": {},
   "outputs": [],
   "source": [
    "metric_calculator.store_all_metric_data(recording, nPC=3, ms_before=1., ms_after=2., dtype=None, max_num_waveforms=np.inf, \\\n",
    "                                        amp_method='absolute', amp_peak='both', amp_frames_before=3, amp_frames_after=3, \\\n",
    "                                        max_num_pca_waveforms=np.inf, save_features_props=False, seed=0)"
   ]
  },
  {
   "cell_type": "markdown",
   "metadata": {},
   "source": [
    "We can calculate all of the metrics separately using the metric calculator"
   ]
  },
  {
   "cell_type": "code",
   "execution_count": null,
   "metadata": {},
   "outputs": [],
   "source": [
    "firing_rates = metric_calculator.compute_firing_rates()\n",
    "\n",
    "num_spikes = metric_calculator.compute_num_spikes()\n",
    "\n",
    "presence_ratios = metric_calculator.compute_presence_ratios()\n",
    "\n",
    "isi_violations = metric_calculator.compute_isi_violations(isi_threshold=0.0015, min_isi=0.000166)\n",
    "\n",
    "amplitude_cutoffs = metric_calculator.compute_amplitude_cutoffs()\n",
    "\n",
    "max_drifts, cumulative_drifts = metric_calculator.compute_drift_metrics(drift_metrics_interval_s=51, drift_metrics_min_spikes_per_interval=10)\n",
    "\n",
    "silhouette_scores = metric_calculator.compute_silhouette_score(seed=0)\n",
    "\n",
    "isolation_distances = metric_calculator.compute_isolation_distances(num_channels_to_compare=13, max_spikes_for_unit=500, seed=0)\n",
    "\n",
    "l_ratios = metric_calculator.compute_l_ratios(num_channels_to_compare=13, max_spikes_for_unit=500, seed=0)\n",
    "\n",
    "d_primes = metric_calculator.compute_d_primes(num_channels_to_compare=13, max_spikes_for_unit=500, seed=0)\n",
    "\n",
    "nn_hit_rates, nn_miss_rates = metric_calculator.compute_nn_metrics(num_channels_to_compare=13, max_spikes_for_unit=500, max_spikes_for_nn=10000, n_neighbors=4, seed=0)"
   ]
  },
  {
   "cell_type": "markdown",
   "metadata": {},
   "source": [
    "We can also calculate all of the metrics in one function"
   ]
  },
  {
   "cell_type": "code",
   "execution_count": null,
   "metadata": {},
   "outputs": [],
   "source": [
    "metric_names = ['firing_rate', 'num_spikes', 'isi_viol', 'presence_ratio', 'amplitude_cutoff', 'snr', 'max_drift', 'cumulative_drift', 'silhouette_score', 'isolation_distance', \\\n",
    "                'l_ratio', 'd_prime', 'nn_hit_rate', 'nn_miss_rate']\n",
    "\n",
    "metrics_epochs = metric_calculator.compute_metrics(isi_threshold=0.0015, min_isi=0.000166, drift_metrics_interval_s=51, \\\n",
    "                                                   drift_metrics_min_spikes_per_interval=10, max_spikes_for_silhouette=10000, \\\n",
    "                                                   num_channels_to_compare=13, max_spikes_for_unit=500, max_spikes_for_nn=10000, \\\n",
    "                                                   n_neighbors=4, metric_names=metric_names, seed=0)"
   ]
  },
  {
   "cell_type": "markdown",
   "metadata": {},
   "source": [
    "We can now view the dataframe created by the metric calculator"
   ]
  },
  {
   "cell_type": "code",
   "execution_count": null,
   "metadata": {},
   "outputs": [],
   "source": [
    "metric_calculator.get_metrics_df()"
   ]
  },
  {
   "cell_type": "markdown",
   "metadata": {},
   "source": [
    "## Curation\n",
    "\n",
    "Here we introduce some basic curation that can be done on the sorted dataset (thresholding based on simple metrics)."
   ]
  },
  {
   "cell_type": "markdown",
   "metadata": {},
   "source": [
    "We can exclude units from a sorted dataset by their number of spikes"
   ]
  },
  {
   "cell_type": "code",
   "execution_count": null,
   "metadata": {},
   "outputs": [],
   "source": [
    "sorting_curated = st.curation.threshold_num_spikes(sorting, threshold=100, threshold_sign='less')\n",
    "print(\"Num units after thresholding by min spikes\", len(sorting_curated.get_unit_ids()))"
   ]
  },
  {
   "cell_type": "markdown",
   "metadata": {},
   "source": [
    "We can exclude units from a sorted dataset by their firing rate"
   ]
  },
  {
   "cell_type": "code",
   "execution_count": null,
   "metadata": {},
   "outputs": [],
   "source": [
    "sorting_curated = st.curation.threshold_firing_rate(sorting, threshold=15.0, threshold_sign='greater')\n",
    "print(\"Num units after thresholding by firing rate\", len(sorting_curated.get_unit_ids()))"
   ]
  },
  {
   "cell_type": "markdown",
   "metadata": {},
   "source": [
    "We can exclude units from a sorted dataset by their signal-to-noise ratio"
   ]
  },
  {
   "cell_type": "code",
   "execution_count": null,
   "metadata": {},
   "outputs": [],
   "source": [
    "sorting_curated = st.curation.threshold_snr(sorting, recording, threshold=8.0, threshold_sign='less', snr_mode='mad', snr_noise_duration=10.0, max_snr_waveforms=1000)\n",
    "print(\"Num units after thresholding by snr\", len(sorting_curated.get_unit_ids()))"
   ]
  },
  {
   "cell_type": "markdown",
   "metadata": {},
   "source": [
    "We can exclude units from a sorted dataset by their isi violations"
   ]
  },
  {
   "cell_type": "code",
   "execution_count": null,
   "metadata": {},
   "outputs": [],
   "source": [
    "sorting_curated = st.curation.threshold_isi_violations(sorting, threshold=5, threshold_sign='greater', isi_threshold=0.0015, min_isi=0.000166)\n",
    "print(\"Num units after thresholding by isi violations\", len(sorting_curated.get_unit_ids()))"
   ]
  },
  {
   "cell_type": "markdown",
   "metadata": {},
   "source": [
    "Rather than recomputing metrics for each curation, the user can pass in a metric calculator which already has the pre-computed metrics. These metrics can then be used immediately for the thresholding."
   ]
  },
  {
   "cell_type": "code",
   "execution_count": null,
   "metadata": {},
   "outputs": [],
   "source": [
    "sorting_curated = st.curation.threshold_num_spikes(sorting, threshold=100, threshold_sign='less', metric_calculator=metric_calculator)\n",
    "print(\"Num units after thresholding by min spikes\", len(sorting_curated.get_unit_ids()))\n",
    "sorting_curated = st.curation.threshold_firing_rate(sorting, threshold=15.0, threshold_sign='greater', metric_calculator=metric_calculator)\n",
    "print(\"Num units after thresholding by firing rate\", len(sorting_curated.get_unit_ids()))\n",
    "sorting_curated = st.curation.threshold_snr(sorting, recording, threshold=8.0, threshold_sign='less', snr_mode='mad', snr_noise_duration=10.0, \\\n",
    "                                                max_snr_waveforms=1000, metric_calculator=metric_calculator)\n",
    "print(\"Num units after thresholding by snr\", len(sorting_curated.get_unit_ids()))\n",
    "sorting_curated = st.curation.threshold_isi_violations(sorting, threshold=5, threshold_sign='greater', isi_threshold=0.0015, min_isi=0.000166, \\\n",
    "                                                           metric_calculator=metric_calculator)\n",
    "print(\"Num units after thresholding by isi violations\", len(sorting_curated.get_unit_ids()))"
   ]
  }
 ],
 "metadata": {
  "kernelspec": {
   "display_name": "Python [conda env:spikeinterface]",
   "language": "python",
   "name": "conda-env-spikeinterface-py"
  },
  "language_info": {
   "codemirror_mode": {
    "name": "ipython",
    "version": 3
   },
   "file_extension": ".py",
   "mimetype": "text/x-python",
   "name": "python",
   "nbconvert_exporter": "python",
   "pygments_lexer": "ipython3",
   "version": "3.7.1"
  }
 },
 "nbformat": 4,
 "nbformat_minor": 2
}
