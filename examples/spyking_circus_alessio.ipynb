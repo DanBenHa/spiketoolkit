{
 "cells": [
  {
   "cell_type": "code",
   "execution_count": null,
   "metadata": {},
   "outputs": [],
   "source": [
    "%load_ext autoreload\n",
    "%autoreload 2"
   ]
  },
  {
   "cell_type": "code",
   "execution_count": null,
   "metadata": {},
   "outputs": [],
   "source": [
    "import spikeinterface as si\n",
    "import spiketoolkit as st\n",
    "import spikewidgets as sw\n",
    "import os"
   ]
  },
  {
   "cell_type": "code",
   "execution_count": null,
   "metadata": {},
   "outputs": [],
   "source": [
    "# Create a synthetic example\n",
    "recording,sorting_true=sw.example_datasets.toy_example1(duration=600)\n",
    "\n",
    "# MEArec\n",
    "# rec_folder = '/home/alessiob/Documents/Codes/MEArec/data/recordings/recordings_20cells_Neuronexus-32_30.0_10.0uV_12-10-2018:15:18'\n",
    "# recording = si.MEArecRecordingExtractor(rec_folder)\n",
    "# sorting_true = si.MEArecSortingExtractor(rec_folder)"
   ]
  },
  {
   "cell_type": "code",
   "execution_count": null,
   "metadata": {},
   "outputs": [],
   "source": [
    "# Alessio's version\n",
    "sorting=st.sorters.spyking_circus(\n",
    "        recording,\n",
    "        output_folder='.',  # Temporary working directory\n",
    "        probe_file=None,\n",
    "        file_name=None,\n",
    "        detect_sign='negative',  # 'negative' - 'positive' - 'both'\n",
    "        adjacency_radius=100,  # Channel neighborhood adjacency radius corresponding to geom file\n",
    "        spike_thresh=6,  # Threshold for detection\n",
    "        template_width_ms=3,  # Spyking circus parameter\n",
    "        filter=True,\n",
    "        merge_spikes=True,\n",
    "        n_cores=None,\n",
    "#         electrode_dimensions=[1,2],\n",
    "        whitening_max_elts=1000,  # I believe it relates to subsampling and affects compute time\n",
    "        clustering_max_elts=10000,  # I believe it relates to subsampling and affects compute time\n",
    "        )"
   ]
  },
  {
   "cell_type": "code",
   "execution_count": null,
   "metadata": {},
   "outputs": [],
   "source": [
    "# Jeremy's version\n",
    "sorting_j=st.sorters.spyking_circus_j(\n",
    "    recording=recording,\n",
    "    tmpdir=os.getcwd(),\n",
    "    detect_sign=-1,\n",
    "    adjacency_radius=50\n",
    ")"
   ]
  },
  {
   "cell_type": "code",
   "execution_count": null,
   "metadata": {},
   "outputs": [],
   "source": [
    "# Compare with ground truth\n",
    "SC=sw.SortingComparison(sorting,sorting_true)\n",
    "sw.SortingComparisonTable(SC).display()"
   ]
  },
  {
   "cell_type": "code",
   "execution_count": null,
   "metadata": {},
   "outputs": [],
   "source": [
    "# Compare with ground truth\n",
    "SC=sw.SortingComparison(sorting_j,sorting_true)\n",
    "sw.SortingComparisonTable(SC).display()"
   ]
  },
  {
   "cell_type": "code",
   "execution_count": null,
   "metadata": {},
   "outputs": [],
   "source": [
    "len(sorting.getUnitIds())"
   ]
  },
  {
   "cell_type": "code",
   "execution_count": null,
   "metadata": {},
   "outputs": [],
   "source": [
    "len(sorting_j.getUnitIds())"
   ]
  }
 ],
 "metadata": {
  "kernelspec": {
   "display_name": "Python 3",
   "language": "python",
   "name": "python3"
  },
  "language_info": {
   "codemirror_mode": {
    "name": "ipython",
    "version": 3
   },
   "file_extension": ".py",
   "mimetype": "text/x-python",
   "name": "python",
   "nbconvert_exporter": "python",
   "pygments_lexer": "ipython3",
   "version": "3.6.6"
  }
 },
 "nbformat": 4,
 "nbformat_minor": 2
}
