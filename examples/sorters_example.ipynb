{
 "cells": [
  {
   "cell_type": "markdown",
   "metadata": {},
   "source": [
    "# SORTERS MODULE\n",
    "\n",
    "This notebook shows how to use the spiketoolkit.sorters module to:\n",
    "1. check available sorters\n",
    "2. check and set sorters parameters\n",
    "3. run sorters\n",
    "4. use the spike sorter launcher\n",
    "5. spike sort by property"
   ]
  },
  {
   "cell_type": "code",
   "execution_count": null,
   "metadata": {},
   "outputs": [],
   "source": [
    "# For development purposes, reload imported modules when source changes\n",
    "%load_ext autoreload\n",
    "%autoreload 2\n",
    "\n",
    "import spikeextractors as se\n",
    "import spiketoolkit as st\n",
    "import spikewidgets as sw\n",
    "import os\n",
    "import time\n",
    "from pprint import pprint"
   ]
  },
  {
   "cell_type": "markdown",
   "metadata": {},
   "source": [
    "### Create a toy example dataset"
   ]
  },
  {
   "cell_type": "code",
   "execution_count": null,
   "metadata": {},
   "outputs": [],
   "source": [
    "recording, sorting_true = se.example_datasets.toy_example(duration=60)"
   ]
  },
  {
   "cell_type": "markdown",
   "metadata": {},
   "source": [
    "## 1) Check available sorters"
   ]
  },
  {
   "cell_type": "code",
   "execution_count": null,
   "metadata": {},
   "outputs": [],
   "source": [
    "print(st.sorters.available_sorters())"
   ]
  },
  {
   "cell_type": "markdown",
   "metadata": {},
   "source": [
    "This will list the sorters installed in the machine. Each spike sorter is implemented in a class. To access the class names you can run:"
   ]
  },
  {
   "cell_type": "code",
   "execution_count": null,
   "metadata": {},
   "outputs": [],
   "source": [
    "st.sorters.installed_sorter_list"
   ]
  },
  {
   "cell_type": "markdown",
   "metadata": {},
   "source": [
    "## 2) Check and set sorters parameters\n",
    "\n",
    "To check which parameters are available for each spike sorter you can run:"
   ]
  },
  {
   "cell_type": "code",
   "execution_count": null,
   "metadata": {},
   "outputs": [],
   "source": [
    "default_ms4_params = st.sorters.Mountainsort4Sorter.default_params()\n",
    "pprint(default_ms4_params)"
   ]
  },
  {
   "cell_type": "markdown",
   "metadata": {},
   "source": [
    "Parameters can be changed either by passing a full dictionary, or by passing single arguments."
   ]
  },
  {
   "cell_type": "code",
   "execution_count": null,
   "metadata": {},
   "outputs": [],
   "source": [
    "# Mountainsort4 spike sorting\n",
    "default_ms4_params['detect_threshold'] = 4\n",
    "default_ms4_params['curation'] = False\n",
    "\n",
    "# parameters set by params dictionary\n",
    "sorting_MS4 = st.sorters.run_mountainsort4(recording=recording, **default_ms4_params, \n",
    "                                           output_folder='tmp_MS4')"
   ]
  },
  {
   "cell_type": "code",
   "execution_count": null,
   "metadata": {},
   "outputs": [],
   "source": [
    "# parameters set by params dictionary\n",
    "sorting_MS4_10 = st.sorters.run_mountainsort4(recording=recording, detect_threshold=10, \n",
    "                                           output_folder='tmp_MS4')"
   ]
  },
  {
   "cell_type": "code",
   "execution_count": null,
   "metadata": {},
   "outputs": [],
   "source": [
    "print('Units found with threshold = 4:', sorting_MS4.get_unit_ids())\n",
    "print('Units found with threshold = 10:', sorting_MS4_10.get_unit_ids())"
   ]
  },
  {
   "cell_type": "markdown",
   "metadata": {},
   "source": [
    "## 3) Run sorters"
   ]
  },
  {
   "cell_type": "code",
   "execution_count": null,
   "metadata": {},
   "outputs": [],
   "source": [
    "# SpyKING Circus spike sorting\n",
    "sorting_SC = st.sorters.run_spykingcircus(recording, output_folder='tmp_SC')\n",
    "print('Units found with Spyking Circus:', sorting_SC.get_unit_ids())"
   ]
  },
  {
   "cell_type": "code",
   "execution_count": null,
   "metadata": {},
   "outputs": [],
   "source": [
    "# KiloSort spike sorting (KILOSORT_PATH and NPY_MATLAB_PATH can be set as environment variables)\n",
    "sorting_KS = st.sorters.run_kilosort(recording, output_folder='tmp_KS')\n",
    "print('Units found with Kilosort:', sorting_KS.get_unit_ids())"
   ]
  },
  {
   "cell_type": "code",
   "execution_count": null,
   "metadata": {},
   "outputs": [],
   "source": [
    "# Kilosort2 spike sorting (KILOSORT2_PATH and NPY_MATLAB_PATH can be set as environment variables)\n",
    "sorting_KS2 = st.sorters.run_kilosort2(recording, output_folder='tmp_KS2')\n",
    "print('Units found with Kilosort2', sorting_KS2.get_unit_ids())"
   ]
  },
  {
   "cell_type": "code",
   "execution_count": null,
   "metadata": {},
   "outputs": [],
   "source": [
    "# Klusta spike sorting\n",
    "sorting_KL = st.sorters.run_klusta(recording, output_folder='tmp_KL')\n",
    "print('Units found with Klusta:', sorting_KL.get_unit_ids())"
   ]
  },
  {
   "cell_type": "code",
   "execution_count": null,
   "metadata": {},
   "outputs": [],
   "source": [
    "# IronClust spike sorting (IRONCLUST_PATH can be set as environment variables)\n",
    "sorting_IC = st.sorters.run_ironclust(recording, output_folder='tmp_IC')\n",
    "print('Units found with Ironclust:', sorting_IC.get_unit_ids())"
   ]
  },
  {
   "cell_type": "code",
   "execution_count": null,
   "metadata": {},
   "outputs": [],
   "source": [
    "# Tridesclous spike sorting\n",
    "sorting_TDC = st.sorters.run_tridesclous(recording, output_folder='tmp_TDC')\n",
    "print('Units found with Tridesclous:', sorting_TDC.get_unit_ids())"
   ]
  },
  {
   "cell_type": "markdown",
   "metadata": {},
   "source": [
    "## 4) Use the spike sorter launcher\n",
    "\n",
    "The launcher enables to call any spike sorter with the same functions: `run_sorter` and `run_sorters`.\n",
    "For running multiple sorters on the same recording extractor or a collection of them, the `run_sorters` function can be used."
   ]
  },
  {
   "cell_type": "code",
   "execution_count": null,
   "metadata": {},
   "outputs": [],
   "source": [
    "st.sorters.run_sorters?"
   ]
  },
  {
   "cell_type": "code",
   "execution_count": null,
   "metadata": {},
   "outputs": [],
   "source": [
    "recording_list = [recording]\n",
    "sorter_list = ['klusta', 'mountainsort4', 'tridesclous']"
   ]
  },
  {
   "cell_type": "code",
   "execution_count": null,
   "metadata": {},
   "outputs": [],
   "source": [
    "sorting_output = st.sorters.run_sorters(sorter_list, recording_list, working_folder='working')"
   ]
  },
  {
   "cell_type": "code",
   "execution_count": null,
   "metadata": {},
   "outputs": [],
   "source": [
    "for sorter, extractor in sorting_output['recording_0'].items():\n",
    "    print(sorter, extractor.get_unit_ids())"
   ]
  },
  {
   "cell_type": "markdown",
   "metadata": {},
   "source": [
    "## 5) Spike sort by property\n",
    "\n",
    "Sometimes, you might want to sort your data depending on a specific property of your recording channels.\n",
    "\n",
    "For example, when using multiple tetrodes, a good idea is to sort each tetrode separately. In this case, channels belonging to the same tetrode will be in the same 'group'. Alternatively, for long silicon probes, such as Neuropixels, you could sort different areas separately, for example hippocampus and thalamus. \n",
    "\n",
    "All this can be done by sorting by 'property'. Properties can be loaded to the recording channels either manually (using the `set_channel_property` method, or by using a probe file. In this example we will create a 16 channel recording and split it in four tetrodes."
   ]
  },
  {
   "cell_type": "code",
   "execution_count": null,
   "metadata": {},
   "outputs": [],
   "source": [
    "recording_tetrodes, sorting_true = se.example_datasets.toy_example(duration=60, num_channels=16)\n",
    "\n",
    "# initially there is no group information\n",
    "print(recording_tetrodes.get_channel_property_names())"
   ]
  },
  {
   "cell_type": "code",
   "execution_count": null,
   "metadata": {},
   "outputs": [],
   "source": [
    "# working in linux only\n",
    "!cat tetrode_16.prb"
   ]
  },
  {
   "cell_type": "code",
   "execution_count": null,
   "metadata": {},
   "outputs": [],
   "source": [
    "# load probe file to add group information\n",
    "recording_tetrodes = se.load_probe_file(recording_tetrodes, 'tetrode_16.prb')\n",
    "print(recording_tetrodes.get_channel_property_names())"
   ]
  },
  {
   "cell_type": "markdown",
   "metadata": {},
   "source": [
    "We can now use the launcher to spike sort by the property 'group'. The different groups can also be sorted in parallel, and the output sorting extractor will have the same property used for sorting. Running in parallel can speed up the computations."
   ]
  },
  {
   "cell_type": "code",
   "execution_count": null,
   "metadata": {},
   "outputs": [],
   "source": [
    "t_start = time.time()\n",
    "sorting_tetrodes = st.sorters.run_sorter('klusta', recording_tetrodes, output_folder='tmp_tetrodes', \n",
    "                                         grouping_property='group', parallel=False)\n",
    "print('Elapsed time: ', time.time() - t_start)"
   ]
  },
  {
   "cell_type": "code",
   "execution_count": null,
   "metadata": {},
   "outputs": [],
   "source": [
    "t_start = time.time()\n",
    "sorting_tetrodes_p = st.sorters.run_sorter('klusta', recording_tetrodes, output_folder='tmp_tetrodes', \n",
    "                                           grouping_property='group', parallel=True)\n",
    "print('Elapsed time parallel: ', time.time() - t_start)"
   ]
  },
  {
   "cell_type": "code",
   "execution_count": null,
   "metadata": {},
   "outputs": [],
   "source": [
    "print('Units non parallel: ', sorting_tetrodes.get_unit_ids())\n",
    "print('Units parallel: ', sorting_tetrodes_p.get_unit_ids())"
   ]
  },
  {
   "cell_type": "markdown",
   "metadata": {},
   "source": [
    "Now that spike sorting is done, it's time to do some postprocessing, comparison, and validation of the results!"
   ]
  }
 ],
 "metadata": {
  "kernelspec": {
   "display_name": "Python 3",
   "language": "python",
   "name": "python3"
  },
  "language_info": {
   "codemirror_mode": {
    "name": "ipython",
    "version": 3
   },
   "file_extension": ".py",
   "mimetype": "text/x-python",
   "name": "python",
   "nbconvert_exporter": "python",
   "pygments_lexer": "ipython3",
   "version": "3.6.6"
  }
 },
 "nbformat": 4,
 "nbformat_minor": 2
}
