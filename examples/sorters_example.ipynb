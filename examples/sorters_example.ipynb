{
 "cells": [
  {
   "cell_type": "code",
   "execution_count": 1,
   "metadata": {},
   "outputs": [],
   "source": [
    "# For development purposes, reload imported modules when source changes\n",
    "%load_ext autoreload\n",
    "%autoreload 2\n",
    "\n",
    "import spikeextractors as se\n",
    "import spiketoolkit as st\n",
    "import os"
   ]
  },
  {
   "cell_type": "code",
   "execution_count": 5,
   "metadata": {},
   "outputs": [
    {
     "name": "stdout",
     "output_type": "stream",
     "text": [
      "Help on class KlustaSorter in module spiketoolkit.sorters.klusta.klusta:\n",
      "\n",
      "class KlustaSorter(spiketoolkit.sorters.basesorter.BaseSorter)\n",
      " |  KlustaSorter(**kargs)\n",
      " |  \n",
      " |  Parameters\n",
      " |  ----------\n",
      " |  \n",
      " |  \n",
      " |  probe_file\n",
      " |  file_name\n",
      " |  threshold_strong_std_factor\n",
      " |  threshold_weak_std_factor\n",
      " |  detect_sign\n",
      " |  extract_s_before\n",
      " |  extract_s_after\n",
      " |  n_features_per_channel\n",
      " |  pca_n_waveforms_max\n",
      " |  num_starting_clusters\n",
      " |  \n",
      " |  Method resolution order:\n",
      " |      KlustaSorter\n",
      " |      spiketoolkit.sorters.basesorter.BaseSorter\n",
      " |      builtins.object\n",
      " |  \n",
      " |  Methods defined here:\n",
      " |  \n",
      " |  __init__(self, **kargs)\n",
      " |      Initialize self.  See help(type(self)) for accurate signature.\n",
      " |  \n",
      " |  ----------------------------------------------------------------------\n",
      " |  Static methods defined here:\n",
      " |  \n",
      " |  get_result_from_folder(output_folder)\n",
      " |  \n",
      " |  ----------------------------------------------------------------------\n",
      " |  Data and other attributes defined here:\n",
      " |  \n",
      " |  installation_mesg = '\\n       >>> pip install click Cython\\n       >>>...\n",
      " |  \n",
      " |  installed = False\n",
      " |  \n",
      " |  sorter_name = 'klusta'\n",
      " |  \n",
      " |  ----------------------------------------------------------------------\n",
      " |  Methods inherited from spiketoolkit.sorters.basesorter.BaseSorter:\n",
      " |  \n",
      " |  get_params_for_particular_recording(self, rec_name)\n",
      " |      this is speculative an nee to be discussed\n",
      " |  \n",
      " |  get_result(self)\n",
      " |  \n",
      " |  get_result_list(self)\n",
      " |  \n",
      " |  run(self)\n",
      " |  \n",
      " |  set_params(self, **params)\n",
      " |  \n",
      " |  ----------------------------------------------------------------------\n",
      " |  Class methods inherited from spiketoolkit.sorters.basesorter.BaseSorter:\n",
      " |  \n",
      " |  default_params() from builtins.type\n",
      " |  \n",
      " |  ----------------------------------------------------------------------\n",
      " |  Data descriptors inherited from spiketoolkit.sorters.basesorter.BaseSorter:\n",
      " |  \n",
      " |  __dict__\n",
      " |      dictionary for instance variables (if defined)\n",
      " |  \n",
      " |  __weakref__\n",
      " |      list of weak references to the object (if defined)\n",
      " |  \n",
      " |  ----------------------------------------------------------------------\n",
      " |  Data and other attributes inherited from spiketoolkit.sorters.basesorter.BaseSorter:\n",
      " |  \n",
      " |  SortingExtractor_Class = None\n",
      "\n"
     ]
    }
   ],
   "source": [
    "help(st.sorters.KlustaSorter)"
   ]
  },
  {
   "cell_type": "code",
   "execution_count": null,
   "metadata": {},
   "outputs": [],
   "source": [
    "# Create a toy example dataset\n",
    "recording, sorting_true=se.example_datasets.toy_example(duration=60)"
   ]
  },
  {
   "cell_type": "code",
   "execution_count": null,
   "metadata": {},
   "outputs": [],
   "source": [
    "# View the filtered timeseries data\n",
    "filt=st.preprocessing.bandpass_filter(recording,freq_min=300,freq_max=6000)\n"
   ]
  },
  {
   "cell_type": "code",
   "execution_count": null,
   "metadata": {},
   "outputs": [],
   "source": [
    "# Create a temporary working directory if needed\n",
    "if not os.path.exists('tmp'): \n",
    "    os.mkdir('tmp')"
   ]
  },
  {
   "cell_type": "code",
   "execution_count": null,
   "metadata": {},
   "outputs": [],
   "source": [
    "# Mountainsort4 spike sorting\n",
    "sorting_MS4 = st.sorters.run_mountainsort4(recording=recording, detect_sign=-1, adjacency_radius=-1, \n",
    "                                           output_folder='tmp_MS4')"
   ]
  },
  {
   "cell_type": "code",
   "execution_count": null,
   "metadata": {},
   "outputs": [],
   "source": [
    "# SpyKING Circus spike sorting\n",
    "sorting_SC = st.sorters.run_spykingcircus(recording, adjacency_radius=50, detect_sign=-1, output_folder='tmp_SC')"
   ]
  },
  {
   "cell_type": "code",
   "execution_count": null,
   "metadata": {},
   "outputs": [],
   "source": [
    "# KiloSort spike sorting (KILOSORT_PATH and NPY_MATLAB_PATH can be set as environment variables)\n",
    "sorting_KS = st.sorters.run_kilosort(recording, output_folder='tmp_KS')"
   ]
  },
  {
   "cell_type": "code",
   "execution_count": null,
   "metadata": {},
   "outputs": [],
   "source": [
    "# Kilosort2 spike sorting (KILOSORT2_PATH and NPY_MATLAB_PATH can be set as environment variables)\n",
    "sorting_KS2 = st.sorters.run_kilosort2(recording, output_folder='tmp_KS2')"
   ]
  },
  {
   "cell_type": "code",
   "execution_count": null,
   "metadata": {},
   "outputs": [],
   "source": [
    "# Klusta spike sorting\n",
    "sorting_KL = st.sorters.run_klusta(recording, output_folder='tmp_KL')"
   ]
  },
  {
   "cell_type": "code",
   "execution_count": null,
   "metadata": {},
   "outputs": [],
   "source": [
    "# IronClust spike sorting (IRONCLUST_PATH can be set as environment variables)\n",
    "sorting_IC = st.sorters.run_ironclust(recording, detect_sign=-1, adjacency_radius=-1,\n",
    "                                      prm_template_name='tetrode_template.prm')"
   ]
  },
  {
   "cell_type": "code",
   "execution_count": null,
   "metadata": {},
   "outputs": [],
   "source": [
    "# Tridesclous\n",
    "sorting_TDC = st.sorters.run_tridesclous(recording, output_folder='tmp_TDC')\n"
   ]
  },
  {
   "cell_type": "code",
   "execution_count": null,
   "metadata": {},
   "outputs": [],
   "source": [
    "### MOVE THIS TO COMPARISON/VALIDATION example"
   ]
  },
  {
   "cell_type": "code",
   "execution_count": null,
   "metadata": {},
   "outputs": [],
   "source": [
    "# Compute SNRs of true units\n",
    "snrs=st.compute_unit_SNR(recording=filt, sorting=sorting_true, unit_ids=sorting_true.get_unit_ids(), max_num_waveforms=100)\n",
    "sorting_true.set_units_property(property_name='SNR',values=snrs)"
   ]
  },
  {
   "cell_type": "code",
   "execution_count": null,
   "metadata": {},
   "outputs": [],
   "source": [
    "# Comparison MountainSort4 vs truth\n",
    "comparison_MS4=st.comparison.SortingComparison(sorting_true,sorting_MS4)\n",
    "sw.SortingAccuracyWidget(sorting_comparison=comparison_MS4, property_name='SNR').plot()"
   ]
  },
  {
   "cell_type": "code",
   "execution_count": null,
   "metadata": {},
   "outputs": [],
   "source": [
    "# Comparison KiloSort vs truth\n",
    "comparison_KS=st.comparison.SortingComparison(sorting_true,sorting_KS)\n",
    "sw.SortingAccuracyWidget(sorting_comparison=comparison_KS, property_name='SNR').plot()"
   ]
  },
  {
   "cell_type": "code",
   "execution_count": null,
   "metadata": {},
   "outputs": [],
   "source": [
    "# Comparison SpyKING Circus vs truth\n",
    "comparison_SC=st.comparison.SortingComparison(sorting_true,sorting_SC)\n",
    "sw.SortingAccuracyWidget(sorting_comparison=comparison_SC, property_name='SNR').plot()"
   ]
  },
  {
   "cell_type": "code",
   "execution_count": null,
   "metadata": {},
   "outputs": [],
   "source": [
    "# Comparison Klusta vs truth\n",
    "comparison_KL=st.comparison.SortingComparison(sorting_true,sorting_KL)\n",
    "sw.SortingAccuracyWidget(sorting_comparison=comparison_KL, property_name='SNR').plot()"
   ]
  },
  {
   "cell_type": "code",
   "execution_count": null,
   "metadata": {},
   "outputs": [],
   "source": [
    "# Comparison IronClust vs truth\n",
    "comparison_IC=st.comparison.SortingComparison(sorting_true,sorting_IC)\n",
    "sw.SortingAccuracyWidget(sorting_comparison=comparison_IC, property_name='SNR').plot()"
   ]
  },
  {
   "cell_type": "code",
   "execution_count": null,
   "metadata": {},
   "outputs": [],
   "source": [
    "# Comparison tridesclous vs truth\n",
    "comparison_TDC = st.comparison.SortingComparison(sorting_true,sorting_TDC)\n",
    "sw.SortingAccuracyWidget(sorting_comparison=comparison_IC, property_name='SNR').plot()"
   ]
  },
  {
   "cell_type": "code",
   "execution_count": null,
   "metadata": {},
   "outputs": [],
   "source": [
    "sw.SortingComparisonTable(comparison_MS4).display()"
   ]
  },
  {
   "cell_type": "code",
   "execution_count": null,
   "metadata": {},
   "outputs": [],
   "source": [
    "sw.SortingComparisonTable(comparison_KS).display()"
   ]
  },
  {
   "cell_type": "code",
   "execution_count": null,
   "metadata": {},
   "outputs": [],
   "source": [
    "sw.SortingComparisonTable(comparison_SC).display()"
   ]
  },
  {
   "cell_type": "code",
   "execution_count": null,
   "metadata": {},
   "outputs": [],
   "source": [
    "sw.SortingComparisonTable(comparison_KL).display()"
   ]
  },
  {
   "cell_type": "code",
   "execution_count": null,
   "metadata": {},
   "outputs": [],
   "source": [
    "sw.SortingComparisonTable(comparison_IC).display()"
   ]
  },
  {
   "cell_type": "code",
   "execution_count": null,
   "metadata": {},
   "outputs": [],
   "source": [
    "sw.SortingComparisonTable(comparison_TDC).display()"
   ]
  },
  {
   "cell_type": "code",
   "execution_count": null,
   "metadata": {},
   "outputs": [],
   "source": [
    "comparison_KL.plot_confusion_matrix()"
   ]
  },
  {
   "cell_type": "code",
   "execution_count": null,
   "metadata": {},
   "outputs": [],
   "source": [
    "# You can use Phy to manually curate the sorting output of any spike sorter\n",
    "st.postprocessing.export_to_phy(recording, sorting_true, output_folder='phy')"
   ]
  },
  {
   "cell_type": "code",
   "execution_count": null,
   "metadata": {},
   "outputs": [],
   "source": [
    "sorting_M4_curated = si.PhysortingExtractor('mountainsort/')"
   ]
  }
 ],
 "metadata": {
  "kernelspec": {
   "display_name": "Python 3",
   "language": "python",
   "name": "python3"
  },
  "language_info": {
   "codemirror_mode": {
    "name": "ipython",
    "version": 3
   },
   "file_extension": ".py",
   "mimetype": "text/x-python",
   "name": "python",
   "nbconvert_exporter": "python",
   "pygments_lexer": "ipython3",
   "version": "3.7.2"
  }
 },
 "nbformat": 4,
 "nbformat_minor": 2
}
