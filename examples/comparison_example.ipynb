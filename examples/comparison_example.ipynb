{
 "cells": [
  {
   "cell_type": "markdown",
   "metadata": {},
   "source": [
    "# COMPARISON MODULE\n",
    "\n",
    "This notebook shows how to use the spiketoolkit.comparison module to:\n",
    "- compare pair of spike sorters\n",
    "- compare multiple spike sorters\n",
    "- extract units in agreement with multiple sorters (consensus-based)\n",
    "- perform systematic performance comparisons on ground truth recordings"
   ]
  },
  {
   "cell_type": "code",
   "execution_count": 1,
   "metadata": {},
   "outputs": [
    {
     "name": "stderr",
     "output_type": "stream",
     "text": [
      "15:16:43 [I] klustakwik KlustaKwik2 version 0.2.6\n"
     ]
    }
   ],
   "source": [
    "import spiketoolkit as st\n",
    "import spikeextractors as se\n",
    "import pandas as pd\n",
    "import seaborn as sn\n",
    "import shutil\n",
    "import time\n",
    "import matplotlib.pyplot as plt\n",
    "%matplotlib notebook"
   ]
  },
  {
   "cell_type": "markdown",
   "metadata": {},
   "source": [
    "### Create a toy example dataset"
   ]
  },
  {
   "cell_type": "code",
   "execution_count": 2,
   "metadata": {},
   "outputs": [],
   "source": [
    "recording, sorting_true = se.example_datasets.toy_example(duration=60)"
   ]
  },
  {
   "cell_type": "markdown",
   "metadata": {},
   "source": [
    "## Compare two spike sorters\n",
    "\n",
    "First, we will run two spike sorters and compare their ouput."
   ]
  },
  {
   "cell_type": "code",
   "execution_count": 3,
   "metadata": {},
   "outputs": [
    {
     "name": "stdout",
     "output_type": "stream",
     "text": [
      "'group' property is not available and it will not be saved.\n",
      "Using 2 workers.\n",
      "Using tmpdir: /tmp/tmpi9ekv_jo\n",
      "Num. workers = 2\n",
      "Preparing /tmp/tmpi9ekv_jo/timeseries.hdf5...\n",
      "Preparing neighborhood sorters (M=4, N=1800000)...\n",
      "Neighboorhood of channel 1 has 4 channels.\n",
      "Neighboorhood of channel 0 has 4 channels.\n",
      "Detecting events on channel 1 (phase1)...\n",
      "Detecting events on channel 2 (phase1)...\n",
      "Elapsed time for detect on neighborhood: 0:00:00.286705\n",
      "Num events detected on channel 1 (phase1): 1285\n",
      "Elapsed time for detect on neighborhood: 0:00:00.285349\n",
      "Computing PCA features for channel 1 (phase1)...\n",
      "Num events detected on channel 2 (phase1): 1624\n",
      "Computing PCA features for channel 2 (phase1)...\n",
      "Clustering for channel 1 (phase1)...\n",
      "Clustering for channel 2 (phase1)...\n",
      "Found 6 clusters for channel 1 (phase1)...\n",
      "Computing templates for channel 1 (phase1)...\n",
      "Found 8 clusters for channel 2 (phase1)...\n",
      "Computing templates for channel 2 (phase1)...\n",
      "Re-assigning events for channel 1 (phase1)...\n",
      "Re-assigning 1 events from 1 to 3 with dt=-6 (k=5)\n",
      "Neighboorhood of channel 2 has 4 channels.\n",
      "Detecting events on channel 3 (phase1)...\n",
      "Re-assigning events for channel 2 (phase1)...\n",
      "Re-assigning 9 events from 2 to 4 with dt=-5 (k=5)\n",
      "Re-assigning 1 events from 2 to 3 with dt=-4 (k=7)\n",
      "Neighboorhood of channel 3 has 4 channels.\n",
      "Detecting events on channel 4 (phase1)...\n",
      "Elapsed time for detect on neighborhood: 0:00:00.404963\n",
      "Num events detected on channel 3 (phase1): 1877\n",
      "Computing PCA features for channel 3 (phase1)...\n",
      "Elapsed time for detect on neighborhood: 0:00:00.383661\n",
      "Num events detected on channel 4 (phase1): 2320\n",
      "Computing PCA features for channel 4 (phase1)...\n",
      "Clustering for channel 3 (phase1)...\n",
      "Clustering for channel 4 (phase1)...\n",
      "Found 11 clusters for channel 3 (phase1)...\n",
      "Computing templates for channel 3 (phase1)...\n",
      "Found 5 clusters for channel 4 (phase1)...\n",
      "Computing templates for channel 4 (phase1)...\n",
      "Re-assigning events for channel 3 (phase1)...\n",
      "Re-assigning 5 events from 3 to 2 with dt=-4 (k=2)\n",
      "Re-assigning 4 events from 3 to 4 with dt=-1 (k=9)\n",
      "Re-assigning 1 events from 3 to 2 with dt=0 (k=10)\n",
      "Re-assigning events for channel 4 (phase1)...\n",
      "Neighboorhood of channel 1 has 4 channels.\n",
      "Neighboorhood of channel 0 has 4 channels.\n",
      "Computing PCA features for channel 2 (phase2)...\n",
      "Computing PCA features for channel 1 (phase2)...\n",
      "No duplicate events found for channel 1 in phase2\n",
      "No duplicate events found for channel 0 in phase2\n",
      "Clustering for channel 1 (phase2)...\n",
      "Clustering for channel 2 (phase2)...\n",
      "Found 3 clusters for channel 1 (phase2)...\n",
      "Neighboorhood of channel 2 has 4 channels.\n",
      "Computing PCA features for channel 3 (phase2)...\n",
      "No duplicate events found for channel 2 in phase2\n",
      "Found 4 clusters for channel 2 (phase2)...\n",
      "Neighboorhood of channel 3 has 4 channels.\n",
      "Computing PCA features for channel 4 (phase2)...\n",
      "No duplicate events found for channel 3 in phase2\n",
      "Clustering for channel 4 (phase2)...\n",
      "Clustering for channel 3 (phase2)...\n",
      "Found 4 clusters for channel 4 (phase2)...\n",
      "Found 4 clusters for channel 3 (phase2)...\n",
      "Preparing output...\n",
      "Done with ms4alg.\n",
      "Cleaning tmpdir::::: /tmp/tmpi9ekv_jo\n"
     ]
    }
   ],
   "source": [
    "sorting_KL = st.sorters.run_klusta(recording)\n",
    "sorting_MS4 = st.sorters.run_mountainsort4(recording)"
   ]
  },
  {
   "cell_type": "markdown",
   "metadata": {},
   "source": [
    "The `compare_two_sorters` function allows us to compare the spike sorting output. It returns a `SortingComparison` object, with methods to inspect the comparison output easily."
   ]
  },
  {
   "cell_type": "code",
   "execution_count": null,
   "metadata": {},
   "outputs": [],
   "source": [
    "cmp_KL_MS4 = "
   ]
  },
  {
   "cell_type": "code",
   "execution_count": null,
   "metadata": {},
   "outputs": [],
   "source": []
  },
  {
   "cell_type": "code",
   "execution_count": null,
   "metadata": {},
   "outputs": [],
   "source": []
  },
  {
   "cell_type": "code",
   "execution_count": null,
   "metadata": {},
   "outputs": [],
   "source": []
  },
  {
   "cell_type": "code",
   "execution_count": null,
   "metadata": {},
   "outputs": [],
   "source": []
  },
  {
   "cell_type": "code",
   "execution_count": null,
   "metadata": {},
   "outputs": [],
   "source": []
  },
  {
   "cell_type": "code",
   "execution_count": null,
   "metadata": {},
   "outputs": [],
   "source": []
  },
  {
   "cell_type": "code",
   "execution_count": null,
   "metadata": {},
   "outputs": [],
   "source": []
  },
  {
   "cell_type": "markdown",
   "metadata": {},
   "source": [
    "# Several sorter comparison on several datatset with ground truth\n",
    "\n",
    "This simple notebook illustrate how to run several sorters on several dataset with ground truth.\n",
    "\n",
    "This will be done with mainly with 2 functions:\n",
    "  * **spiketoolkit.sorters.run_sorters** : this run several sorters on serevals dataset\n",
    "  * **spiketoolkit.comparison.gather_sorting_comparison** : this run several all possible comparison\n",
    "    with ground truth and results some metrics (accuracy, true positive rate, ..)\n",
    "\n"
   ]
  },
  {
   "cell_type": "markdown",
   "metadata": {},
   "source": [
    "## Step 1 : generate several dataset with \"toy_example\"\n",
    "\n"
   ]
  },
  {
   "cell_type": "code",
   "execution_count": 2,
   "metadata": {},
   "outputs": [],
   "source": [
    "rec0, gt_sorting0 = se.example_datasets.toy_example(num_channels=4, duration=30)\n",
    "rec1, gt_sorting1 = se.example_datasets.toy_example(num_channels=32, duration=30)"
   ]
  },
  {
   "cell_type": "code",
   "execution_count": 3,
   "metadata": {},
   "outputs": [
    {
     "data": {
      "text/plain": [
       "['herdingspikes',\n",
       " 'ironclust',\n",
       " 'kilosort',\n",
       " 'kilosort2',\n",
       " 'klusta',\n",
       " 'mountainsort4',\n",
       " 'spykingcircus',\n",
       " 'tridesclous']"
      ]
     },
     "execution_count": 3,
     "metadata": {},
     "output_type": "execute_result"
    }
   ],
   "source": [
    "st.sorters.available_sorters()"
   ]
  },
  {
   "cell_type": "markdown",
   "metadata": {},
   "source": [
    "## Step 2 : run all sorter on all dataset"
   ]
  },
  {
   "cell_type": "code",
   "execution_count": 4,
   "metadata": {},
   "outputs": [
    {
     "name": "stdout",
     "output_type": "stream",
     "text": [
      "('toy_tetrode', <spikeextractors.extractors.numpyextractors.numpyextractors.NumpyRecordingExtractor object at 0x7f5111354668>, 'klusta', PosixPath('comparison_example/working_folder/output_folders/toy_tetrode/klusta'), None, False, True)\n",
      "'group' property is not available and it will not be saved.\n",
      "('toy_tetrode', <spikeextractors.extractors.numpyextractors.numpyextractors.NumpyRecordingExtractor object at 0x7f5111354668>, 'tridesclous', PosixPath('comparison_example/working_folder/output_folders/toy_tetrode/tridesclous'), None, False, True)\n",
      "'group' property is not available and it will not be saved.\n",
      "probe allready in dir\n"
     ]
    },
    {
     "name": "stderr",
     "output_type": "stream",
     "text": [
      "/home/alessio/Documents/Codes/spike_sorting/tridesclous/tridesclous/dataio.py:215: ResourceWarning: unclosed file <_io.TextIOWrapper name='/home/alessio/Documents/Codes/spike_sorting/spiketoolkit/examples/comparison_example/working_folder/output_folders/toy_tetrode/tridesclous/default.prb' mode='r' encoding='UTF-8'>\n",
      "  exec(open(probe_filename).read(), None, d)\n",
      "/home/alessio/Documents/Codes/spike_sorting/tridesclous/tridesclous/dataio.py:215: ResourceWarning: unclosed file <_io.TextIOWrapper name='/home/alessio/Documents/Codes/spike_sorting/spiketoolkit/examples/comparison_example/working_folder/output_folders/toy_tetrode/tridesclous/probe.prb' mode='r' encoding='UTF-8'>\n",
      "  exec(open(probe_filename).read(), None, d)\n"
     ]
    },
    {
     "name": "stdout",
     "output_type": "stream",
     "text": [
      "order_clusters waveforms_rms\n",
      "make_catalogue 0.040502187999663875\n",
      "('toy_probe32', <spikeextractors.extractors.numpyextractors.numpyextractors.NumpyRecordingExtractor object at 0x7f510e798128>, 'klusta', PosixPath('comparison_example/working_folder/output_folders/toy_probe32/klusta'), None, False, True)\n",
      "'group' property is not available and it will not be saved.\n",
      "('toy_probe32', <spikeextractors.extractors.numpyextractors.numpyextractors.NumpyRecordingExtractor object at 0x7f510e798128>, 'tridesclous', PosixPath('comparison_example/working_folder/output_folders/toy_probe32/tridesclous'), None, False, True)\n",
      "'group' property is not available and it will not be saved.\n"
     ]
    },
    {
     "name": "stderr",
     "output_type": "stream",
     "text": [
      "/home/alessio/Documents/Codes/spike_sorting/tridesclous/tridesclous/dataio.py:215: ResourceWarning: unclosed file <_io.TextIOWrapper name='/home/alessio/Documents/Codes/spike_sorting/spiketoolkit/examples/comparison_example/working_folder/output_folders/toy_probe32/tridesclous/default.prb' mode='r' encoding='UTF-8'>\n",
      "  exec(open(probe_filename).read(), None, d)\n",
      "/home/alessio/Documents/Codes/spike_sorting/tridesclous/tridesclous/dataio.py:215: ResourceWarning: unclosed file <_io.TextIOWrapper name='/home/alessio/Documents/Codes/spike_sorting/spiketoolkit/examples/comparison_example/working_folder/output_folders/toy_probe32/tridesclous/probe.prb' mode='r' encoding='UTF-8'>\n",
      "  exec(open(probe_filename).read(), None, d)\n"
     ]
    },
    {
     "name": "stdout",
     "output_type": "stream",
     "text": [
      "probe allready in dir\n",
      "order_clusters waveforms_rms\n",
      "make_catalogue 0.11518473900014214\n",
      "Unable to extract clusters from /home/alessio/Documents/Codes/spike_sorting/spiketoolkit/examples/comparison_example/working_folder/output_folders/toy_tetrode/klusta/recording.kwik\n",
      "Unable to extract clusters from /home/alessio/Documents/Codes/spike_sorting/spiketoolkit/examples/comparison_example/working_folder/output_folders/toy_probe32/klusta/recording.kwik\n",
      "total run time 16.184670593999726\n"
     ]
    },
    {
     "name": "stderr",
     "output_type": "stream",
     "text": [
      "/home/alessio/Documents/Codes/spike_sorting/tridesclous/tridesclous/dataio.py:215: ResourceWarning: unclosed file <_io.TextIOWrapper name='comparison_example/working_folder/output_folders/toy_tetrode/tridesclous/probe.prb' mode='r' encoding='UTF-8'>\n",
      "  exec(open(probe_filename).read(), None, d)\n",
      "/home/alessio/Documents/Codes/spike_sorting/tridesclous/tridesclous/dataio.py:215: ResourceWarning: unclosed file <_io.TextIOWrapper name='comparison_example/working_folder/output_folders/toy_probe32/tridesclous/probe.prb' mode='r' encoding='UTF-8'>\n",
      "  exec(open(probe_filename).read(), None, d)\n"
     ]
    }
   ],
   "source": [
    "# this cell is really verbose due to some sorter so switch off output console\n",
    "\n",
    "recording_dict = {'toy_tetrode' : rec0, 'toy_probe32': rec1}\n",
    "sorter_list = ['klusta', 'tridesclous']\n",
    "path = 'comparison_example/'\n",
    "working_folder = path + '/working_folder'\n",
    "shutil.rmtree(working_folder)\n",
    "\n",
    "t0 = time.perf_counter()\n",
    "st.sorters.run_sorters(sorter_list, recording_dict, working_folder, engine=None)\n",
    "t1 = time.perf_counter()\n",
    "print('total run time', t1-t0)"
   ]
  },
  {
   "cell_type": "markdown",
   "metadata": {},
   "source": [
    "## Step3 : collect Datatframe of comparison"
   ]
  },
  {
   "cell_type": "code",
   "execution_count": null,
   "metadata": {},
   "outputs": [],
   "source": [
    "ground_truths = {'toy_tetrode': gt_sorting0, 'toy_probe32': gt_sorting1}\n",
    "\n",
    "comp_dataframes = st.comparison.gather_sorting_comparison(working_folder, ground_truths, use_multi_index=True)"
   ]
  },
  {
   "cell_type": "markdown",
   "metadata": {},
   "source": [
    "## Step 4 : display tables"
   ]
  },
  {
   "cell_type": "code",
   "execution_count": null,
   "metadata": {},
   "outputs": [],
   "source": [
    "comp_dataframes['performances']"
   ]
  },
  {
   "cell_type": "code",
   "execution_count": null,
   "metadata": {},
   "outputs": [],
   "source": [
    "comp_dataframes['run_times']"
   ]
  },
  {
   "cell_type": "markdown",
   "metadata": {},
   "source": [
    "## Step 5 : easy plot with seaborn"
   ]
  },
  {
   "cell_type": "code",
   "execution_count": null,
   "metadata": {},
   "outputs": [],
   "source": [
    "run_times = comp_dataframes['run_times'].reset_index()\n",
    "fig, ax = plt.subplots()\n",
    "sn.barplot(data=run_times, x='rec_name', y='run_time', hue='sorter_name', ax=ax)\n",
    "ax.set_title('Run times')"
   ]
  },
  {
   "cell_type": "code",
   "execution_count": null,
   "metadata": {},
   "outputs": [],
   "source": [
    "perfs = comp_dataframes['performances'].reset_index()\n",
    "fig, ax = plt.subplots()\n",
    "sn.barplot(data=perfs, x='rec_name', y='tp', hue='sorter_name', ax=ax)\n",
    "ax.set_title('True positive rate')\n",
    "ax.set_ylim(0, 100)"
   ]
  },
  {
   "cell_type": "code",
   "execution_count": null,
   "metadata": {},
   "outputs": [],
   "source": [
    "perfs = comp_dataframes['performances'].reset_index()\n",
    "fig, ax = plt.subplots()\n",
    "ax = sn.barplot(data=perfs, x='rec_name', y='accuracy', hue='sorter_name', ax=ax)\n",
    "ax.set_title('accuracy')\n",
    "ax.set_ylim(0, 100)"
   ]
  },
  {
   "cell_type": "markdown",
   "metadata": {},
   "source": [
    "## Et voilà!!"
   ]
  },
  {
   "cell_type": "code",
   "execution_count": null,
   "metadata": {},
   "outputs": [],
   "source": []
  }
 ],
 "metadata": {
  "kernelspec": {
   "display_name": "Python 3",
   "language": "python",
   "name": "python3"
  },
  "language_info": {
   "codemirror_mode": {
    "name": "ipython",
    "version": 3
   },
   "file_extension": ".py",
   "mimetype": "text/x-python",
   "name": "python",
   "nbconvert_exporter": "python",
   "pygments_lexer": "ipython3",
   "version": "3.6.6"
  }
 },
 "nbformat": 4,
 "nbformat_minor": 2
}
