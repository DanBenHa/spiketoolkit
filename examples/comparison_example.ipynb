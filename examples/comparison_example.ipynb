{
 "cells": [
  {
   "cell_type": "markdown",
   "metadata": {},
   "source": [
    "# COMPARISON MODULE\n",
    "\n",
    "This notebook shows how to use the spiketoolkit.comparison module to:\n",
    "  1. compare pair of spike sorters\n",
    "  2. compare multiple spike sorters\n",
    "  3. extract units in agreement with multiple sorters (consensus-based)\n",
    "  4. run systematic performance comparisons on ground truth recordings"
   ]
  },
  {
   "cell_type": "code",
   "execution_count": 1,
   "metadata": {},
   "outputs": [
    {
     "name": "stderr",
     "output_type": "stream",
     "text": [
      "10:48:28 [I] klustakwik KlustaKwik2 version 0.2.6\n",
      "/afs/inf.ed.ac.uk/user/s17/s1727843/miniconda3/envs/spikeinterface/lib/python3.7/site-packages/networkx-2.2-py3.7.egg/networkx/classes/reportviews.py:95: DeprecationWarning: Using or importing the ABCs from 'collections' instead of from 'collections.abc' is deprecated, and in 3.8 it will stop working\n",
      "  from collections import Mapping, Set, Iterable\n"
     ]
    }
   ],
   "source": [
    "import spiketoolkit as st\n",
    "import spikeextractors as se\n",
    "import numpy as np\n",
    "import pandas as pd\n",
    "import seaborn as sn\n",
    "import shutil\n",
    "import time\n",
    "from pathlib import Path\n",
    "import matplotlib.pyplot as plt\n",
    "%matplotlib notebook"
   ]
  },
  {
   "cell_type": "markdown",
   "metadata": {},
   "source": [
    "### Create a toy example dataset"
   ]
  },
  {
   "cell_type": "code",
   "execution_count": 2,
   "metadata": {},
   "outputs": [],
   "source": [
    "recording, sorting_true = se.example_datasets.toy_example(duration=60, seed=0)"
   ]
  },
  {
   "cell_type": "markdown",
   "metadata": {},
   "source": [
    "## 1) Compare two spike sorters\n",
    "\n",
    "First, we will run two spike sorters and compare their ouput."
   ]
  },
  {
   "cell_type": "code",
   "execution_count": 3,
   "metadata": {},
   "outputs": [
    {
     "name": "stdout",
     "output_type": "stream",
     "text": [
      "'group' property is not available and it will not be saved.\n",
      "{'detect_sign': -1, 'adjacency_radius': -1, 'freq_min': 300, 'freq_max': 6000, 'filter': False, 'curation': True, 'whiten': True, 'clip_size': 50, 'detect_threshold': 3, 'detect_interval': 10, 'noise_overlap_threshold': 0.15}\n",
      "Using 2 workers.\n",
      "Using tmpdir: /tmp/tmpqf9k0bwe\n",
      "Num. workers = 2\n",
      "Preparing /tmp/tmpqf9k0bwe/timeseries.hdf5...\n",
      "Preparing neighborhood sorters (M=4, N=1800000)...\n",
      "Neighboorhood of channel 0 has 4 channels.\n",
      "Neighboorhood of channel 1 has 4 channels.\n",
      "Detecting events on channel 2 (phase1)...\n",
      "Detecting events on channel 1 (phase1)...\n",
      "Elapsed time for detect on neighborhood: 0:00:00.686374\n",
      "Num events detected on channel 1 (phase1): 1622\n",
      "Computing PCA features for channel 1 (phase1)...\n",
      "Elapsed time for detect on neighborhood: 0:00:00.886737\n",
      "Num events detected on channel 2 (phase1): 1530\n",
      "Computing PCA features for channel 2 (phase1)...\n",
      "Clustering for channel 1 (phase1)...\n",
      "Clustering for channel 2 (phase1)...\n",
      "Found 9 clusters for channel 1 (phase1)...\n",
      "Computing templates for channel 1 (phase1)...\n",
      "Re-assigning events for channel 1 (phase1)...\n",
      "Re-assigning 5 events from 1 to 3 with dt=-7 (k=7)\n",
      "Neighboorhood of channel 2 has 4 channels.\n",
      "Detecting events on channel 3 (phase1)...\n",
      "Found 9 clusters for channel 2 (phase1)...\n",
      "Computing templates for channel 2 (phase1)...\n",
      "Re-assigning events for channel 2 (phase1)...\n",
      "Neighboorhood of channel 3 has 4 channels.\n",
      "Detecting events on channel 4 (phase1)...\n",
      "Elapsed time for detect on neighborhood: 0:00:00.708970\n",
      "Num events detected on channel 3 (phase1): 2030\n",
      "Computing PCA features for channel 3 (phase1)...\n",
      "Elapsed time for detect on neighborhood: 0:00:00.790475\n",
      "Num events detected on channel 4 (phase1): 1632\n",
      "Computing PCA features for channel 4 (phase1)...\n",
      "Clustering for channel 3 (phase1)...\n",
      "Clustering for channel 4 (phase1)...\n",
      "Found 6 clusters for channel 4 (phase1)...\n",
      "Found 10 clusters for channel 3 (phase1)...\n",
      "Computing templates for channel 3 (phase1)...\n",
      "Computing templates for channel 4 (phase1)...\n",
      "Re-assigning events for channel 4 (phase1)...\n",
      "Re-assigning 3 events from 4 to 3 with dt=-3 (k=5)\n",
      "Re-assigning 15 events from 4 to 3 with dt=0 (k=6)\n",
      "Re-assigning events for channel 3 (phase1)...\n",
      "Re-assigning 1 events from 3 to 2 with dt=-3 (k=2)\n",
      "Neighboorhood of channel 0 has 4 channels.\n",
      "Neighboorhood of channel 1 has 4 channels.\n",
      "Computing PCA features for channel 1 (phase2)...\n",
      "No duplicate events found for channel 0 in phase2\n",
      "Computing PCA features for channel 2 (phase2)...\n",
      "No duplicate events found for channel 1 in phase2\n",
      "Clustering for channel 2 (phase2)...\n",
      "Clustering for channel 1 (phase2)...\n",
      "Found 4 clusters for channel 2 (phase2)...\n",
      "Neighboorhood of channel 2 has 4 channels.\n",
      "Computing PCA features for channel 3 (phase2)...\n",
      "No duplicate events found for channel 2 in phase2\n",
      "Found 4 clusters for channel 1 (phase2)...\n",
      "Neighboorhood of channel 3 has 4 channels.\n",
      "Computing PCA features for channel 4 (phase2)...\n",
      "No duplicate events found for channel 3 in phase2\n",
      "Clustering for channel 3 (phase2)...\n",
      "Found 5 clusters for channel 3 (phase2)...\n",
      "Clustering for channel 4 (phase2)...\n",
      "Found 3 clusters for channel 4 (phase2)...\n",
      "Preparing output...\n",
      "Done with ms4alg.\n",
      "Cleaning tmpdir::::: /tmp/tmpqf9k0bwe\n",
      "Curating\n"
     ]
    }
   ],
   "source": [
    "sorting_KL = st.sorters.run_klusta(recording)\n",
    "sorting_MS4 = st.sorters.run_mountainsort4(recording)"
   ]
  },
  {
   "cell_type": "markdown",
   "metadata": {},
   "source": [
    "The `compare_two_sorters` function allows us to compare the spike sorting output. It returns a `SortingComparison` object, with methods to inspect the comparison output easily."
   ]
  },
  {
   "cell_type": "code",
   "execution_count": 4,
   "metadata": {},
   "outputs": [],
   "source": [
    "cmp_KL_MS4 = st.comparison.compare_two_sorters(sorting1=sorting_KL, sorting2=sorting_MS4, \n",
    "                                               sorting1_name='klusta', sorting2_name='ms4')"
   ]
  },
  {
   "cell_type": "markdown",
   "metadata": {},
   "source": [
    "In order to check which units were matched, the `get_mapped_sorting` methods can be used. If units are not matched they are listed as -1."
   ]
  },
  {
   "cell_type": "code",
   "execution_count": 5,
   "metadata": {},
   "outputs": [
    {
     "name": "stdout",
     "output_type": "stream",
     "text": [
      "Klusta units: [0, 2, 3, 4, 5, 6, 7, 8]\n",
      "Klusta mapped units: [-1, -1, -1, -1, 4, -1, 8, 15]\n",
      "Mountainsort units: [ 3  4  5  7  8  9 11 13 15]\n",
      "Mountainsort mapped units: [-1, 5, -1, -1, 7, -1, -1, -1, 8]\n"
     ]
    }
   ],
   "source": [
    "# units matched to klusta units\n",
    "mapped_sorting_klusta = cmp_KL_MS4.get_mapped_sorting1()\n",
    "print('Klusta units:', sorting_KL.get_unit_ids())\n",
    "print('Klusta mapped units:', mapped_sorting_klusta.get_mapped_unit_ids())\n",
    "\n",
    "# units matched to ms4 units\n",
    "mapped_sorting_ms4 = cmp_KL_MS4.get_mapped_sorting2()\n",
    "print('Mountainsort units:',sorting_MS4.get_unit_ids())\n",
    "print('Mountainsort mapped units:',mapped_sorting_ms4.get_mapped_unit_ids())"
   ]
  },
  {
   "cell_type": "markdown",
   "metadata": {},
   "source": [
    "The `get_unit_spike_train` returns the mapped spike train. We can use it to check the spike times."
   ]
  },
  {
   "cell_type": "code",
   "execution_count": 6,
   "metadata": {},
   "outputs": [
    {
     "name": "stdout",
     "output_type": "stream",
     "text": [
      "Klusta spike train: [  2377   4242  19418  25404  27643  49031  82028  89543  95559 136556]\n",
      "Mountainsort spike trains [  2377   4243  49031  82028  89543  95559 136556 136780 167029 168402]\n"
     ]
    },
    {
     "data": {
      "image/png": "[encoded data removed]",
      "text/plain": [
       "<Figure size 432x288 with 1 Axes>"
      ]
     },
     "metadata": {
      "needs_background": "light"
     },
     "output_type": "display_data"
    }
   ],
   "source": [
    "# check that matched spike trains correspond\n",
    "plt.plot(sorting_KL.get_unit_spike_train(7), \n",
    "         np.zeros(len(sorting_KL.get_unit_spike_train(7))), '|')\n",
    "plt.plot(mapped_sorting_klusta.get_unit_spike_train(7),\n",
    "         np.ones(len(mapped_sorting_klusta.get_unit_spike_train(7))), '|')\n",
    "\n",
    "print('Klusta spike train:', sorting_KL.get_unit_spike_train(8)[:10])\n",
    "print('Mountainsort spike trains', mapped_sorting_klusta.get_unit_spike_train(8)[:10])"
   ]
  },
  {
   "cell_type": "markdown",
   "metadata": {},
   "source": [
    "To get an overview of the performance, we can use the `get_performance` method. By default, it returns a pandas dataframe with the comparison measures. It can also pull the results by average and by sum."
   ]
  },
  {
   "cell_type": "code",
   "execution_count": 7,
   "metadata": {},
   "outputs": [
    {
     "data": {
      "text/html": [
       "<div>\n",
       "<style scoped>\n",
       "    .dataframe tbody tr th:only-of-type {\n",
       "        vertical-align: middle;\n",
       "    }\n",
       "\n",
       "    .dataframe tbody tr th {\n",
       "        vertical-align: top;\n",
       "    }\n",
       "\n",
       "    .dataframe thead th {\n",
       "        text-align: right;\n",
       "    }\n",
       "</style>\n",
       "<table border=\"1\" class=\"dataframe\">\n",
       "  <thead>\n",
       "    <tr style=\"text-align: right;\">\n",
       "      <th></th>\n",
       "      <th>tp_rate</th>\n",
       "      <th>fn_rate</th>\n",
       "      <th>cl_rate</th>\n",
       "      <th>fp_rate_st1</th>\n",
       "      <th>fp_rate_st2</th>\n",
       "      <th>accuracy</th>\n",
       "      <th>sensitivity</th>\n",
       "      <th>precision</th>\n",
       "      <th>miss_rate</th>\n",
       "      <th>false_discovery_rate</th>\n",
       "    </tr>\n",
       "  </thead>\n",
       "  <tbody>\n",
       "    <tr>\n",
       "      <th>0</th>\n",
       "      <td>0</td>\n",
       "      <td>100</td>\n",
       "      <td>0</td>\n",
       "      <td>0</td>\n",
       "      <td>NaN</td>\n",
       "      <td>0</td>\n",
       "      <td>0</td>\n",
       "      <td>NaN</td>\n",
       "      <td>100</td>\n",
       "      <td>NaN</td>\n",
       "    </tr>\n",
       "    <tr>\n",
       "      <th>2</th>\n",
       "      <td>0</td>\n",
       "      <td>100</td>\n",
       "      <td>0</td>\n",
       "      <td>0</td>\n",
       "      <td>NaN</td>\n",
       "      <td>0</td>\n",
       "      <td>0</td>\n",
       "      <td>NaN</td>\n",
       "      <td>100</td>\n",
       "      <td>NaN</td>\n",
       "    </tr>\n",
       "    <tr>\n",
       "      <th>3</th>\n",
       "      <td>0</td>\n",
       "      <td>100</td>\n",
       "      <td>0</td>\n",
       "      <td>0</td>\n",
       "      <td>NaN</td>\n",
       "      <td>0</td>\n",
       "      <td>0</td>\n",
       "      <td>NaN</td>\n",
       "      <td>100</td>\n",
       "      <td>NaN</td>\n",
       "    </tr>\n",
       "    <tr>\n",
       "      <th>4</th>\n",
       "      <td>0</td>\n",
       "      <td>100</td>\n",
       "      <td>0</td>\n",
       "      <td>0</td>\n",
       "      <td>NaN</td>\n",
       "      <td>0</td>\n",
       "      <td>0</td>\n",
       "      <td>NaN</td>\n",
       "      <td>100</td>\n",
       "      <td>NaN</td>\n",
       "    </tr>\n",
       "    <tr>\n",
       "      <th>5</th>\n",
       "      <td>100</td>\n",
       "      <td>0</td>\n",
       "      <td>100</td>\n",
       "      <td>56.9892</td>\n",
       "      <td>36.3014</td>\n",
       "      <td>63.6986</td>\n",
       "      <td>100</td>\n",
       "      <td>63.6986</td>\n",
       "      <td>0</td>\n",
       "      <td>36.3014</td>\n",
       "    </tr>\n",
       "    <tr>\n",
       "      <th>6</th>\n",
       "      <td>0</td>\n",
       "      <td>100</td>\n",
       "      <td>0</td>\n",
       "      <td>0</td>\n",
       "      <td>NaN</td>\n",
       "      <td>0</td>\n",
       "      <td>0</td>\n",
       "      <td>NaN</td>\n",
       "      <td>100</td>\n",
       "      <td>NaN</td>\n",
       "    </tr>\n",
       "    <tr>\n",
       "      <th>7</th>\n",
       "      <td>99.2481</td>\n",
       "      <td>0.75188</td>\n",
       "      <td>99.2481</td>\n",
       "      <td>6.01504</td>\n",
       "      <td>5.71429</td>\n",
       "      <td>93.617</td>\n",
       "      <td>99.2481</td>\n",
       "      <td>94.2857</td>\n",
       "      <td>0.75188</td>\n",
       "      <td>5.71429</td>\n",
       "    </tr>\n",
       "    <tr>\n",
       "      <th>8</th>\n",
       "      <td>53.0909</td>\n",
       "      <td>46.9091</td>\n",
       "      <td>53.0909</td>\n",
       "      <td>0.727273</td>\n",
       "      <td>1.35135</td>\n",
       "      <td>52.7076</td>\n",
       "      <td>53.0909</td>\n",
       "      <td>98.6486</td>\n",
       "      <td>46.9091</td>\n",
       "      <td>1.35135</td>\n",
       "    </tr>\n",
       "  </tbody>\n",
       "</table>\n",
       "</div>"
      ],
      "text/plain": [
       "   tp_rate  fn_rate  cl_rate fp_rate_st1 fp_rate_st2 accuracy sensitivity  \\\n",
       "0        0      100        0           0         NaN        0           0   \n",
       "2        0      100        0           0         NaN        0           0   \n",
       "3        0      100        0           0         NaN        0           0   \n",
       "4        0      100        0           0         NaN        0           0   \n",
       "5      100        0      100     56.9892     36.3014  63.6986         100   \n",
       "6        0      100        0           0         NaN        0           0   \n",
       "7  99.2481  0.75188  99.2481     6.01504     5.71429   93.617     99.2481   \n",
       "8  53.0909  46.9091  53.0909    0.727273     1.35135  52.7076     53.0909   \n",
       "\n",
       "  precision miss_rate false_discovery_rate  \n",
       "0       NaN       100                  NaN  \n",
       "2       NaN       100                  NaN  \n",
       "3       NaN       100                  NaN  \n",
       "4       NaN       100                  NaN  \n",
       "5   63.6986         0              36.3014  \n",
       "6       NaN       100                  NaN  \n",
       "7   94.2857   0.75188              5.71429  \n",
       "8   98.6486   46.9091              1.35135  "
      ]
     },
     "execution_count": 7,
     "metadata": {},
     "output_type": "execute_result"
    }
   ],
   "source": [
    "cmp_KL_MS4.get_performance()"
   ]
  },
  {
   "cell_type": "code",
   "execution_count": 8,
   "metadata": {},
   "outputs": [
    {
     "data": {
      "text/plain": [
       "tp_rate                 31.542379\n",
       "fn_rate                 68.457621\n",
       "cl_rate                 31.542379\n",
       "fp_rate_st1              7.966445\n",
       "fp_rate_st2             14.455669\n",
       "accuracy                26.252904\n",
       "sensitivity             31.542379\n",
       "precision               85.544331\n",
       "miss_rate               68.457621\n",
       "false_discovery_rate    14.455669\n",
       "dtype: float64"
      ]
     },
     "execution_count": 8,
     "metadata": {},
     "output_type": "execute_result"
    }
   ],
   "source": [
    "cmp_KL_MS4.get_performance(method='pooled_with_average')"
   ]
  },
  {
   "cell_type": "code",
   "execution_count": 9,
   "metadata": {},
   "outputs": [
    {
     "data": {
      "text/plain": [
       "tp_rate                 31.574468\n",
       "fn_rate                 68.425532\n",
       "cl_rate                  0.000000\n",
       "fp_rate_st1             77.787234\n",
       "fp_rate_st2             71.128405\n",
       "accuracy                17.759694\n",
       "sensitivity             31.574468\n",
       "precision               28.871595\n",
       "miss_rate               68.425532\n",
       "false_discovery_rate    71.128405\n",
       "dtype: float64"
      ]
     },
     "execution_count": 9,
     "metadata": {},
     "output_type": "execute_result"
    }
   ],
   "source": [
    "cmp_KL_MS4.get_performance(method='pooled_with_sum')"
   ]
  },
  {
   "cell_type": "markdown",
   "metadata": {},
   "source": [
    "## 2) Compare multiple spike sorters\n",
    "\n",
    "With 3 or more spike sorters, the comparison is implemented with a graph-based method. The multiple sorter comparison also allows to clean the output by applying a consensus-based method which only selects spike trains and spikes in agreement with multiple sorters."
   ]
  },
  {
   "cell_type": "code",
   "execution_count": 10,
   "metadata": {},
   "outputs": [
    {
     "name": "stdout",
     "output_type": "stream",
     "text": [
      "'group' property is not available and it will not be saved.\n"
     ]
    },
    {
     "name": "stderr",
     "output_type": "stream",
     "text": [
      "/afs/inf.ed.ac.uk/user/s17/s1727843/miniconda3/envs/spikeinterface/lib/python3.7/site-packages/tridesclous/dataio.py:215: ResourceWarning: unclosed file <_io.TextIOWrapper name='/afs/inf.ed.ac.uk/user/s17/s1727843/spiketoolkit/examples/test_tridesclous/default.prb' mode='r' encoding='UTF-8'>\n",
      "  exec(open(probe_filename).read(), None, d)\n",
      "/afs/inf.ed.ac.uk/user/s17/s1727843/miniconda3/envs/spikeinterface/lib/python3.7/site-packages/tridesclous/dataio.py:215: ResourceWarning: unclosed file <_io.TextIOWrapper name='/afs/inf.ed.ac.uk/user/s17/s1727843/spiketoolkit/examples/test_tridesclous/probe.prb' mode='r' encoding='UTF-8'>\n",
      "  exec(open(probe_filename).read(), None, d)\n"
     ]
    },
    {
     "name": "stdout",
     "output_type": "stream",
     "text": [
      "probe allready in dir\n",
      "order_clusters waveforms_rms\n",
      "make_catalogue 0.04634573496878147\n"
     ]
    },
    {
     "name": "stderr",
     "output_type": "stream",
     "text": [
      "/afs/inf.ed.ac.uk/user/s17/s1727843/miniconda3/envs/spikeinterface/lib/python3.7/site-packages/tridesclous/dataio.py:215: ResourceWarning: unclosed file <_io.TextIOWrapper name='/afs/inf.ed.ac.uk/user/s17/s1727843/spiketoolkit/examples/test_tridesclous/probe.prb' mode='r' encoding='UTF-8'>\n",
      "  exec(open(probe_filename).read(), None, d)\n"
     ]
    }
   ],
   "source": [
    "sorting_TDC = st.sorters.run_tridesclous(recording)"
   ]
  },
  {
   "cell_type": "code",
   "execution_count": 11,
   "metadata": {},
   "outputs": [
    {
     "name": "stdout",
     "output_type": "stream",
     "text": [
      "Comparing:  KL  and  MS4\n",
      "Matching...\n",
      "Comparing:  KL  and  TDC\n",
      "Matching...\n",
      "Comparing:  MS4  and  KL\n",
      "Matching...\n",
      "Comparing:  MS4  and  TDC\n",
      "Matching...\n",
      "Comparing:  TDC  and  KL\n",
      "Matching...\n",
      "Comparing:  TDC  and  MS4\n",
      "Matching...\n",
      "Adding edge:  KL_5 MS4_4\n",
      "Adding edge:  KL_5 TDC_0\n",
      "Adding edge:  KL_7 MS4_8\n",
      "Adding edge:  KL_8 MS4_15\n",
      "Adding edge:  KL_8 TDC_1\n",
      "Adding edge:  MS4_3 TDC_7\n",
      "Adding edge:  MS4_4 TDC_0\n",
      "Adding edge:  MS4_7 TDC_3\n",
      "Adding edge:  MS4_11 TDC_2\n",
      "Adding edge:  MS4_15 TDC_1\n"
     ]
    }
   ],
   "source": [
    "mcmp = st.comparison.compare_multiple_sorters(sorting_list=[sorting_KL, sorting_MS4, sorting_TDC], \n",
    "                                              name_list=['KL', 'MS4', 'TDC'], verbose=True)"
   ]
  },
  {
   "cell_type": "markdown",
   "metadata": {},
   "source": [
    "The multiple sorters comparison internally computes pairwise comparison, that can be accessed as follows:"
   ]
  },
  {
   "cell_type": "code",
   "execution_count": 12,
   "metadata": {},
   "outputs": [
    {
     "data": {
      "text/html": [
       "<div>\n",
       "<style scoped>\n",
       "    .dataframe tbody tr th:only-of-type {\n",
       "        vertical-align: middle;\n",
       "    }\n",
       "\n",
       "    .dataframe tbody tr th {\n",
       "        vertical-align: top;\n",
       "    }\n",
       "\n",
       "    .dataframe thead th {\n",
       "        text-align: right;\n",
       "    }\n",
       "</style>\n",
       "<table border=\"1\" class=\"dataframe\">\n",
       "  <thead>\n",
       "    <tr style=\"text-align: right;\">\n",
       "      <th></th>\n",
       "      <th>tp_rate</th>\n",
       "      <th>fn_rate</th>\n",
       "      <th>cl_rate</th>\n",
       "      <th>fp_rate_st1</th>\n",
       "      <th>fp_rate_st2</th>\n",
       "      <th>accuracy</th>\n",
       "      <th>sensitivity</th>\n",
       "      <th>precision</th>\n",
       "      <th>miss_rate</th>\n",
       "      <th>false_discovery_rate</th>\n",
       "    </tr>\n",
       "  </thead>\n",
       "  <tbody>\n",
       "    <tr>\n",
       "      <th>0</th>\n",
       "      <td>0</td>\n",
       "      <td>100</td>\n",
       "      <td>0</td>\n",
       "      <td>0</td>\n",
       "      <td>NaN</td>\n",
       "      <td>0</td>\n",
       "      <td>0</td>\n",
       "      <td>NaN</td>\n",
       "      <td>100</td>\n",
       "      <td>NaN</td>\n",
       "    </tr>\n",
       "    <tr>\n",
       "      <th>2</th>\n",
       "      <td>0</td>\n",
       "      <td>100</td>\n",
       "      <td>0</td>\n",
       "      <td>0</td>\n",
       "      <td>NaN</td>\n",
       "      <td>0</td>\n",
       "      <td>0</td>\n",
       "      <td>NaN</td>\n",
       "      <td>100</td>\n",
       "      <td>NaN</td>\n",
       "    </tr>\n",
       "    <tr>\n",
       "      <th>3</th>\n",
       "      <td>0</td>\n",
       "      <td>100</td>\n",
       "      <td>0</td>\n",
       "      <td>0</td>\n",
       "      <td>NaN</td>\n",
       "      <td>0</td>\n",
       "      <td>0</td>\n",
       "      <td>NaN</td>\n",
       "      <td>100</td>\n",
       "      <td>NaN</td>\n",
       "    </tr>\n",
       "    <tr>\n",
       "      <th>4</th>\n",
       "      <td>0</td>\n",
       "      <td>100</td>\n",
       "      <td>0</td>\n",
       "      <td>0</td>\n",
       "      <td>NaN</td>\n",
       "      <td>0</td>\n",
       "      <td>0</td>\n",
       "      <td>NaN</td>\n",
       "      <td>100</td>\n",
       "      <td>NaN</td>\n",
       "    </tr>\n",
       "    <tr>\n",
       "      <th>5</th>\n",
       "      <td>100</td>\n",
       "      <td>0</td>\n",
       "      <td>100</td>\n",
       "      <td>55.914</td>\n",
       "      <td>35.8621</td>\n",
       "      <td>64.1379</td>\n",
       "      <td>100</td>\n",
       "      <td>64.1379</td>\n",
       "      <td>0</td>\n",
       "      <td>35.8621</td>\n",
       "    </tr>\n",
       "    <tr>\n",
       "      <th>6</th>\n",
       "      <td>0</td>\n",
       "      <td>100</td>\n",
       "      <td>0</td>\n",
       "      <td>0</td>\n",
       "      <td>NaN</td>\n",
       "      <td>0</td>\n",
       "      <td>0</td>\n",
       "      <td>NaN</td>\n",
       "      <td>100</td>\n",
       "      <td>NaN</td>\n",
       "    </tr>\n",
       "    <tr>\n",
       "      <th>7</th>\n",
       "      <td>0</td>\n",
       "      <td>100</td>\n",
       "      <td>0</td>\n",
       "      <td>0</td>\n",
       "      <td>NaN</td>\n",
       "      <td>0</td>\n",
       "      <td>0</td>\n",
       "      <td>NaN</td>\n",
       "      <td>100</td>\n",
       "      <td>NaN</td>\n",
       "    </tr>\n",
       "    <tr>\n",
       "      <th>8</th>\n",
       "      <td>53.0909</td>\n",
       "      <td>46.9091</td>\n",
       "      <td>53.0909</td>\n",
       "      <td>0.727273</td>\n",
       "      <td>1.35135</td>\n",
       "      <td>52.7076</td>\n",
       "      <td>53.0909</td>\n",
       "      <td>98.6486</td>\n",
       "      <td>46.9091</td>\n",
       "      <td>1.35135</td>\n",
       "    </tr>\n",
       "  </tbody>\n",
       "</table>\n",
       "</div>"
      ],
      "text/plain": [
       "   tp_rate  fn_rate  cl_rate fp_rate_st1 fp_rate_st2 accuracy sensitivity  \\\n",
       "0        0      100        0           0         NaN        0           0   \n",
       "2        0      100        0           0         NaN        0           0   \n",
       "3        0      100        0           0         NaN        0           0   \n",
       "4        0      100        0           0         NaN        0           0   \n",
       "5      100        0      100      55.914     35.8621  64.1379         100   \n",
       "6        0      100        0           0         NaN        0           0   \n",
       "7        0      100        0           0         NaN        0           0   \n",
       "8  53.0909  46.9091  53.0909    0.727273     1.35135  52.7076     53.0909   \n",
       "\n",
       "  precision miss_rate false_discovery_rate  \n",
       "0       NaN       100                  NaN  \n",
       "2       NaN       100                  NaN  \n",
       "3       NaN       100                  NaN  \n",
       "4       NaN       100                  NaN  \n",
       "5   64.1379         0              35.8621  \n",
       "6       NaN       100                  NaN  \n",
       "7       NaN       100                  NaN  \n",
       "8   98.6486   46.9091              1.35135  "
      ]
     },
     "execution_count": 12,
     "metadata": {},
     "output_type": "execute_result"
    }
   ],
   "source": [
    "mcmp.sorting_comparisons['KL']['TDC'].get_performance()"
   ]
  },
  {
   "cell_type": "code",
   "execution_count": 13,
   "metadata": {},
   "outputs": [
    {
     "data": {
      "text/html": [
       "<div>\n",
       "<style scoped>\n",
       "    .dataframe tbody tr th:only-of-type {\n",
       "        vertical-align: middle;\n",
       "    }\n",
       "\n",
       "    .dataframe tbody tr th {\n",
       "        vertical-align: top;\n",
       "    }\n",
       "\n",
       "    .dataframe thead th {\n",
       "        text-align: right;\n",
       "    }\n",
       "</style>\n",
       "<table border=\"1\" class=\"dataframe\">\n",
       "  <thead>\n",
       "    <tr style=\"text-align: right;\">\n",
       "      <th></th>\n",
       "      <th>tp_rate</th>\n",
       "      <th>fn_rate</th>\n",
       "      <th>cl_rate</th>\n",
       "      <th>fp_rate_st1</th>\n",
       "      <th>fp_rate_st2</th>\n",
       "      <th>accuracy</th>\n",
       "      <th>sensitivity</th>\n",
       "      <th>precision</th>\n",
       "      <th>miss_rate</th>\n",
       "      <th>false_discovery_rate</th>\n",
       "    </tr>\n",
       "  </thead>\n",
       "  <tbody>\n",
       "    <tr>\n",
       "      <th>0</th>\n",
       "      <td>0</td>\n",
       "      <td>100</td>\n",
       "      <td>0</td>\n",
       "      <td>0</td>\n",
       "      <td>NaN</td>\n",
       "      <td>0</td>\n",
       "      <td>0</td>\n",
       "      <td>NaN</td>\n",
       "      <td>100</td>\n",
       "      <td>NaN</td>\n",
       "    </tr>\n",
       "    <tr>\n",
       "      <th>2</th>\n",
       "      <td>0</td>\n",
       "      <td>100</td>\n",
       "      <td>0</td>\n",
       "      <td>0</td>\n",
       "      <td>NaN</td>\n",
       "      <td>0</td>\n",
       "      <td>0</td>\n",
       "      <td>NaN</td>\n",
       "      <td>100</td>\n",
       "      <td>NaN</td>\n",
       "    </tr>\n",
       "    <tr>\n",
       "      <th>3</th>\n",
       "      <td>0</td>\n",
       "      <td>100</td>\n",
       "      <td>0</td>\n",
       "      <td>0</td>\n",
       "      <td>NaN</td>\n",
       "      <td>0</td>\n",
       "      <td>0</td>\n",
       "      <td>NaN</td>\n",
       "      <td>100</td>\n",
       "      <td>NaN</td>\n",
       "    </tr>\n",
       "    <tr>\n",
       "      <th>4</th>\n",
       "      <td>0</td>\n",
       "      <td>100</td>\n",
       "      <td>0</td>\n",
       "      <td>0</td>\n",
       "      <td>NaN</td>\n",
       "      <td>0</td>\n",
       "      <td>0</td>\n",
       "      <td>NaN</td>\n",
       "      <td>100</td>\n",
       "      <td>NaN</td>\n",
       "    </tr>\n",
       "    <tr>\n",
       "      <th>5</th>\n",
       "      <td>100</td>\n",
       "      <td>0</td>\n",
       "      <td>100</td>\n",
       "      <td>56.9892</td>\n",
       "      <td>36.3014</td>\n",
       "      <td>63.6986</td>\n",
       "      <td>100</td>\n",
       "      <td>63.6986</td>\n",
       "      <td>0</td>\n",
       "      <td>36.3014</td>\n",
       "    </tr>\n",
       "    <tr>\n",
       "      <th>6</th>\n",
       "      <td>0</td>\n",
       "      <td>100</td>\n",
       "      <td>0</td>\n",
       "      <td>0</td>\n",
       "      <td>NaN</td>\n",
       "      <td>0</td>\n",
       "      <td>0</td>\n",
       "      <td>NaN</td>\n",
       "      <td>100</td>\n",
       "      <td>NaN</td>\n",
       "    </tr>\n",
       "    <tr>\n",
       "      <th>7</th>\n",
       "      <td>99.2481</td>\n",
       "      <td>0.75188</td>\n",
       "      <td>99.2481</td>\n",
       "      <td>6.01504</td>\n",
       "      <td>5.71429</td>\n",
       "      <td>93.617</td>\n",
       "      <td>99.2481</td>\n",
       "      <td>94.2857</td>\n",
       "      <td>0.75188</td>\n",
       "      <td>5.71429</td>\n",
       "    </tr>\n",
       "    <tr>\n",
       "      <th>8</th>\n",
       "      <td>53.0909</td>\n",
       "      <td>46.9091</td>\n",
       "      <td>53.0909</td>\n",
       "      <td>0.727273</td>\n",
       "      <td>1.35135</td>\n",
       "      <td>52.7076</td>\n",
       "      <td>53.0909</td>\n",
       "      <td>98.6486</td>\n",
       "      <td>46.9091</td>\n",
       "      <td>1.35135</td>\n",
       "    </tr>\n",
       "  </tbody>\n",
       "</table>\n",
       "</div>"
      ],
      "text/plain": [
       "   tp_rate  fn_rate  cl_rate fp_rate_st1 fp_rate_st2 accuracy sensitivity  \\\n",
       "0        0      100        0           0         NaN        0           0   \n",
       "2        0      100        0           0         NaN        0           0   \n",
       "3        0      100        0           0         NaN        0           0   \n",
       "4        0      100        0           0         NaN        0           0   \n",
       "5      100        0      100     56.9892     36.3014  63.6986         100   \n",
       "6        0      100        0           0         NaN        0           0   \n",
       "7  99.2481  0.75188  99.2481     6.01504     5.71429   93.617     99.2481   \n",
       "8  53.0909  46.9091  53.0909    0.727273     1.35135  52.7076     53.0909   \n",
       "\n",
       "  precision miss_rate false_discovery_rate  \n",
       "0       NaN       100                  NaN  \n",
       "2       NaN       100                  NaN  \n",
       "3       NaN       100                  NaN  \n",
       "4       NaN       100                  NaN  \n",
       "5   63.6986         0              36.3014  \n",
       "6       NaN       100                  NaN  \n",
       "7   94.2857   0.75188              5.71429  \n",
       "8   98.6486   46.9091              1.35135  "
      ]
     },
     "execution_count": 13,
     "metadata": {},
     "output_type": "execute_result"
    }
   ],
   "source": [
    "mcmp.sorting_comparisons['KL']['MS4'].get_performance()"
   ]
  },
  {
   "cell_type": "code",
   "execution_count": 14,
   "metadata": {},
   "outputs": [
    {
     "data": {
      "text/html": [
       "<div>\n",
       "<style scoped>\n",
       "    .dataframe tbody tr th:only-of-type {\n",
       "        vertical-align: middle;\n",
       "    }\n",
       "\n",
       "    .dataframe tbody tr th {\n",
       "        vertical-align: top;\n",
       "    }\n",
       "\n",
       "    .dataframe thead th {\n",
       "        text-align: right;\n",
       "    }\n",
       "</style>\n",
       "<table border=\"1\" class=\"dataframe\">\n",
       "  <thead>\n",
       "    <tr style=\"text-align: right;\">\n",
       "      <th></th>\n",
       "      <th>tp_rate</th>\n",
       "      <th>fn_rate</th>\n",
       "      <th>cl_rate</th>\n",
       "      <th>fp_rate_st1</th>\n",
       "      <th>fp_rate_st2</th>\n",
       "      <th>accuracy</th>\n",
       "      <th>sensitivity</th>\n",
       "      <th>precision</th>\n",
       "      <th>miss_rate</th>\n",
       "      <th>false_discovery_rate</th>\n",
       "    </tr>\n",
       "  </thead>\n",
       "  <tbody>\n",
       "    <tr>\n",
       "      <th>3</th>\n",
       "      <td>97.1429</td>\n",
       "      <td>2.85714</td>\n",
       "      <td>97.1429</td>\n",
       "      <td>2.14286</td>\n",
       "      <td>2.15827</td>\n",
       "      <td>95.1049</td>\n",
       "      <td>97.1429</td>\n",
       "      <td>97.8417</td>\n",
       "      <td>2.85714</td>\n",
       "      <td>2.15827</td>\n",
       "    </tr>\n",
       "    <tr>\n",
       "      <th>4</th>\n",
       "      <td>99.3151</td>\n",
       "      <td>0.684932</td>\n",
       "      <td>99.3151</td>\n",
       "      <td>0</td>\n",
       "      <td>0</td>\n",
       "      <td>99.3151</td>\n",
       "      <td>99.3151</td>\n",
       "      <td>100</td>\n",
       "      <td>0.684932</td>\n",
       "      <td>0</td>\n",
       "    </tr>\n",
       "    <tr>\n",
       "      <th>5</th>\n",
       "      <td>0</td>\n",
       "      <td>100</td>\n",
       "      <td>0</td>\n",
       "      <td>0</td>\n",
       "      <td>NaN</td>\n",
       "      <td>0</td>\n",
       "      <td>0</td>\n",
       "      <td>NaN</td>\n",
       "      <td>100</td>\n",
       "      <td>NaN</td>\n",
       "    </tr>\n",
       "    <tr>\n",
       "      <th>7</th>\n",
       "      <td>99.2908</td>\n",
       "      <td>0.70922</td>\n",
       "      <td>99.2908</td>\n",
       "      <td>0</td>\n",
       "      <td>0</td>\n",
       "      <td>99.2908</td>\n",
       "      <td>99.2908</td>\n",
       "      <td>100</td>\n",
       "      <td>0.70922</td>\n",
       "      <td>0</td>\n",
       "    </tr>\n",
       "    <tr>\n",
       "      <th>8</th>\n",
       "      <td>0</td>\n",
       "      <td>100</td>\n",
       "      <td>0</td>\n",
       "      <td>0</td>\n",
       "      <td>NaN</td>\n",
       "      <td>0</td>\n",
       "      <td>0</td>\n",
       "      <td>NaN</td>\n",
       "      <td>100</td>\n",
       "      <td>NaN</td>\n",
       "    </tr>\n",
       "    <tr>\n",
       "      <th>9</th>\n",
       "      <td>0</td>\n",
       "      <td>100</td>\n",
       "      <td>0</td>\n",
       "      <td>0</td>\n",
       "      <td>NaN</td>\n",
       "      <td>0</td>\n",
       "      <td>0</td>\n",
       "      <td>NaN</td>\n",
       "      <td>100</td>\n",
       "      <td>NaN</td>\n",
       "    </tr>\n",
       "    <tr>\n",
       "      <th>11</th>\n",
       "      <td>100</td>\n",
       "      <td>0</td>\n",
       "      <td>100</td>\n",
       "      <td>2.83688</td>\n",
       "      <td>2.75862</td>\n",
       "      <td>97.2414</td>\n",
       "      <td>100</td>\n",
       "      <td>97.2414</td>\n",
       "      <td>0</td>\n",
       "      <td>2.75862</td>\n",
       "    </tr>\n",
       "    <tr>\n",
       "      <th>13</th>\n",
       "      <td>0</td>\n",
       "      <td>100</td>\n",
       "      <td>0</td>\n",
       "      <td>0</td>\n",
       "      <td>NaN</td>\n",
       "      <td>0</td>\n",
       "      <td>0</td>\n",
       "      <td>NaN</td>\n",
       "      <td>100</td>\n",
       "      <td>NaN</td>\n",
       "    </tr>\n",
       "    <tr>\n",
       "      <th>15</th>\n",
       "      <td>100</td>\n",
       "      <td>0</td>\n",
       "      <td>100</td>\n",
       "      <td>0</td>\n",
       "      <td>0</td>\n",
       "      <td>100</td>\n",
       "      <td>100</td>\n",
       "      <td>100</td>\n",
       "      <td>0</td>\n",
       "      <td>0</td>\n",
       "    </tr>\n",
       "  </tbody>\n",
       "</table>\n",
       "</div>"
      ],
      "text/plain": [
       "    tp_rate   fn_rate  cl_rate fp_rate_st1 fp_rate_st2 accuracy sensitivity  \\\n",
       "3   97.1429   2.85714  97.1429     2.14286     2.15827  95.1049     97.1429   \n",
       "4   99.3151  0.684932  99.3151           0           0  99.3151     99.3151   \n",
       "5         0       100        0           0         NaN        0           0   \n",
       "7   99.2908   0.70922  99.2908           0           0  99.2908     99.2908   \n",
       "8         0       100        0           0         NaN        0           0   \n",
       "9         0       100        0           0         NaN        0           0   \n",
       "11      100         0      100     2.83688     2.75862  97.2414         100   \n",
       "13        0       100        0           0         NaN        0           0   \n",
       "15      100         0      100           0           0      100         100   \n",
       "\n",
       "   precision miss_rate false_discovery_rate  \n",
       "3    97.8417   2.85714              2.15827  \n",
       "4        100  0.684932                    0  \n",
       "5        NaN       100                  NaN  \n",
       "7        100   0.70922                    0  \n",
       "8        NaN       100                  NaN  \n",
       "9        NaN       100                  NaN  \n",
       "11   97.2414         0              2.75862  \n",
       "13       NaN       100                  NaN  \n",
       "15       100         0                    0  "
      ]
     },
     "execution_count": 14,
     "metadata": {},
     "output_type": "execute_result"
    }
   ],
   "source": [
    "mcmp.sorting_comparisons['MS4']['TDC'].get_performance()"
   ]
  },
  {
   "cell_type": "markdown",
   "metadata": {},
   "source": [
    "We can see that there is a better agreement between tridesclous and mountainsort (5 units matched), while klusta only has two matched units with tridesclous, and three with mountainsort.\n",
    "\n",
    "\n",
    "\n",
    "## 3) Consensus-based method\n",
    "\n",
    "We can pull the units in agreement with different sorters using the `get_agreement_sorting` method. This allows to make spike sorting more robust by integrating the output of several algorithms. On the other hand, it might suffer from weak performance of single algorithms.\n",
    "\n",
    "When extracting the units in agreement, the spike trains are modified so that only the true positive spikes between the comparison with the best match are used."
   ]
  },
  {
   "cell_type": "code",
   "execution_count": 15,
   "metadata": {},
   "outputs": [
    {
     "name": "stdout",
     "output_type": "stream",
     "text": [
      "Units in agreement for all three sorters:  [4, 10]\n"
     ]
    }
   ],
   "source": [
    "agr_3 = mcmp.get_agreement_sorting(minimum_matching=3)\n",
    "print('Units in agreement for all three sorters: ', agr_3.get_unit_ids())"
   ]
  },
  {
   "cell_type": "code",
   "execution_count": 16,
   "metadata": {},
   "outputs": [
    {
     "name": "stdout",
     "output_type": "stream",
     "text": [
      "Units in agreement for at least sorters:  [4, 8, 10, 13, 16, 19]\n"
     ]
    }
   ],
   "source": [
    "agr_2 = mcmp.get_agreement_sorting(minimum_matching=2)\n",
    "print('Units in agreement for at least sorters: ', agr_2.get_unit_ids())"
   ]
  },
  {
   "cell_type": "code",
   "execution_count": 17,
   "metadata": {},
   "outputs": [
    {
     "name": "stdout",
     "output_type": "stream",
     "text": [
      "All units found:  [0, 1, 2, 3, 4, 7, 8, 10, 13, 15, 16, 18, 19, 21, 22, 23, 24]\n"
     ]
    }
   ],
   "source": [
    "agr_all = mcmp.get_agreement_sorting()\n",
    "print('All units found: ', agr_all.get_unit_ids())"
   ]
  },
  {
   "cell_type": "markdown",
   "metadata": {},
   "source": [
    "Spike trains are cleaned so that only true positives remain. For example, we can see from the Klusta-Tridesclous performance that Klusta unit 4 has many false positives. Let's see which Mountainsort and Tridesclus unit it corresponds to:"
   ]
  },
  {
   "cell_type": "code",
   "execution_count": 18,
   "metadata": {},
   "outputs": [
    {
     "name": "stdout",
     "output_type": "stream",
     "text": [
      "MS4 unit:  -1\n",
      "TDC unit:  -1\n"
     ]
    }
   ],
   "source": [
    "print('MS4 unit: ', mcmp.sorting_comparisons['KL']['MS4'].get_mapped_sorting1().get_mapped_unit_ids(4))\n",
    "print('TDC unit: ', mcmp.sorting_comparisons['KL']['TDC'].get_mapped_sorting1().get_mapped_unit_ids(4))"
   ]
  },
  {
   "cell_type": "markdown",
   "metadata": {},
   "source": [
    "The unit index of the different sorters can also be retrieved from the agreement sorting object (`agr_3`) property `sorter_unit_ids`."
   ]
  },
  {
   "cell_type": "code",
   "execution_count": 19,
   "metadata": {},
   "outputs": [
    {
     "name": "stdout",
     "output_type": "stream",
     "text": [
      "['avg_agreement', 'matched_number', 'sorter_unit_ids']\n"
     ]
    }
   ],
   "source": [
    "print(agr_3.get_unit_property_names())"
   ]
  },
  {
   "cell_type": "code",
   "execution_count": 20,
   "metadata": {},
   "outputs": [
    {
     "name": "stdout",
     "output_type": "stream",
     "text": [
      "{'KL': 5, 'MS4': 4, 'TDC': 0}\n"
     ]
    }
   ],
   "source": [
    "print(agr_3.get_unit_property(4, 'sorter_unit_ids'))"
   ]
  },
  {
   "cell_type": "markdown",
   "metadata": {},
   "source": [
    "Now that we found our unit, we can plot a rasters with the spike trains of the single sorters and the one from the consensus based method."
   ]
  },
  {
   "cell_type": "code",
   "execution_count": 21,
   "metadata": {},
   "outputs": [
    {
     "name": "stdout",
     "output_type": "stream",
     "text": [
      "Klusta spike train length 93\n",
      "Mountainsort spike train length 146\n",
      "Tridesclous spike train length 145\n",
      "Agreement spike train length 141\n"
     ]
    },
    {
     "data": {
      "image/png": "[encoded data removed]",
      "text/plain": [
       "<Figure size 432x288 with 1 Axes>"
      ]
     },
     "metadata": {
      "needs_background": "light"
     },
     "output_type": "display_data"
    }
   ],
   "source": [
    "plt.figure()\n",
    "plt.plot(sorting_KL.get_unit_spike_train(5), \n",
    "         0*np.ones(len(sorting_KL.get_unit_spike_train(5))), '|')\n",
    "plt.plot(sorting_MS4.get_unit_spike_train(4), \n",
    "         1*np.ones(len(sorting_MS4.get_unit_spike_train(4))), '|')\n",
    "plt.plot(sorting_TDC.get_unit_spike_train(0), \n",
    "         2*np.ones(len(sorting_TDC.get_unit_spike_train(0))), '|')\n",
    "plt.plot(agr_3.get_unit_spike_train(4), \n",
    "         3*np.ones(len(agr_3.get_unit_spike_train(4))), '|')\n",
    "\n",
    "print('Klusta spike train length', len(sorting_KL.get_unit_spike_train(5)))\n",
    "print('Mountainsort spike train length', len(sorting_MS4.get_unit_spike_train(4)))\n",
    "print('Tridesclous spike train length', len(sorting_TDC.get_unit_spike_train(0)))\n",
    "print('Agreement spike train length', len(agr_3.get_unit_spike_train(4)))"
   ]
  },
  {
   "cell_type": "markdown",
   "metadata": {},
   "source": [
    "As we can see, the best match is between Mountainsort and Tridesclous, but only the true positive spikes make up the agreement spike train"
   ]
  },
  {
   "cell_type": "markdown",
   "metadata": {},
   "source": [
    "## 4) Run systematic performance comparison\n",
    "\n",
    "This part of the notebook illustrates how to run systematic performance comparisons on ground truth recordings\n",
    "\n",
    "This will be done with mainly with 2 functions:\n",
    "  * **spiketoolkit.sorters.run_sorters** : this run several sorters on serevals dataset\n",
    "  * **spiketoolkit.comparison.gather_sorting_comparison** : this run several all possible comparison\n",
    "    with ground truth and results some metrics (accuracy, true positive rate, ..)\n",
    "\n"
   ]
  },
  {
   "cell_type": "markdown",
   "metadata": {},
   "source": [
    "### 4.1 Generate several dataset with \"toy_example\"\n",
    "\n",
    "We first generate two recordings to be compared."
   ]
  },
  {
   "cell_type": "code",
   "execution_count": 22,
   "metadata": {},
   "outputs": [],
   "source": [
    "rec0, gt_sorting0 = se.example_datasets.toy_example(num_channels=4, duration=30, seed=10)\n",
    "rec1, gt_sorting1 = se.example_datasets.toy_example(num_channels=32, duration=30, seed=20)"
   ]
  },
  {
   "cell_type": "markdown",
   "metadata": {},
   "source": [
    "To check which spike sorters are available, we can run:"
   ]
  },
  {
   "cell_type": "code",
   "execution_count": 23,
   "metadata": {},
   "outputs": [
    {
     "data": {
      "text/plain": [
       "['herdingspikes',\n",
       " 'ironclust',\n",
       " 'kilosort',\n",
       " 'kilosort2',\n",
       " 'klusta',\n",
       " 'mountainsort4',\n",
       " 'spykingcircus',\n",
       " 'tridesclous']"
      ]
     },
     "execution_count": 23,
     "metadata": {},
     "output_type": "execute_result"
    }
   ],
   "source": [
    "st.sorters.available_sorters()"
   ]
  },
  {
   "cell_type": "markdown",
   "metadata": {},
   "source": [
    "### 4.2 Run several sorters on all datasets"
   ]
  },
  {
   "cell_type": "code",
   "execution_count": 24,
   "metadata": {},
   "outputs": [
    {
     "name": "stdout",
     "output_type": "stream",
     "text": [
      "'group' property is not available and it will not be saved.\n"
     ]
    },
    {
     "ename": "AssertionError",
     "evalue": "This sorter spykingcircus is not installed.\n        Please install it with:  \n\n        >>> pip install spyking-circus\n        \n        Need OpenMPI working, for ubuntu do: \n            sudo apt install libopenmpi-dev\"\n        \n        More information on Spyking-Circus at: \"\n            https://spyking-circus.readthedocs.io/en/latest/\n     ",
     "output_type": "error",
     "traceback": [
      "\u001b[0;31m---------------------------------------------------------------------------\u001b[0m",
      "\u001b[0;31mAssertionError\u001b[0m                            Traceback (most recent call last)",
      "\u001b[0;32m<ipython-input-24-8727a66e0a51>\u001b[0m in \u001b[0;36m<module>\u001b[0;34m\u001b[0m\n\u001b[1;32m      9\u001b[0m \u001b[0;34m\u001b[0m\u001b[0m\n\u001b[1;32m     10\u001b[0m \u001b[0mt0\u001b[0m \u001b[0;34m=\u001b[0m \u001b[0mtime\u001b[0m\u001b[0;34m.\u001b[0m\u001b[0mperf_counter\u001b[0m\u001b[0;34m(\u001b[0m\u001b[0;34m)\u001b[0m\u001b[0;34m\u001b[0m\u001b[0;34m\u001b[0m\u001b[0m\n\u001b[0;32m---> 11\u001b[0;31m \u001b[0mst\u001b[0m\u001b[0;34m.\u001b[0m\u001b[0msorters\u001b[0m\u001b[0;34m.\u001b[0m\u001b[0mrun_sorters\u001b[0m\u001b[0;34m(\u001b[0m\u001b[0msorter_list\u001b[0m\u001b[0;34m,\u001b[0m \u001b[0mrecording_dict\u001b[0m\u001b[0;34m,\u001b[0m \u001b[0mworking_folder\u001b[0m\u001b[0;34m,\u001b[0m \u001b[0mengine\u001b[0m\u001b[0;34m=\u001b[0m\u001b[0;32mNone\u001b[0m\u001b[0;34m)\u001b[0m\u001b[0;34m\u001b[0m\u001b[0;34m\u001b[0m\u001b[0m\n\u001b[0m\u001b[1;32m     12\u001b[0m \u001b[0mt1\u001b[0m \u001b[0;34m=\u001b[0m \u001b[0mtime\u001b[0m\u001b[0;34m.\u001b[0m\u001b[0mperf_counter\u001b[0m\u001b[0;34m(\u001b[0m\u001b[0;34m)\u001b[0m\u001b[0;34m\u001b[0m\u001b[0;34m\u001b[0m\u001b[0m\n\u001b[1;32m     13\u001b[0m \u001b[0mprint\u001b[0m\u001b[0;34m(\u001b[0m\u001b[0;34m'total run time'\u001b[0m\u001b[0;34m,\u001b[0m \u001b[0mt1\u001b[0m\u001b[0;34m-\u001b[0m\u001b[0mt0\u001b[0m\u001b[0;34m)\u001b[0m\u001b[0;34m\u001b[0m\u001b[0;34m\u001b[0m\u001b[0m\n",
      "\u001b[0;32m~/miniconda3/envs/spikeinterface/lib/python3.7/site-packages/spiketoolkit-0.2.0-py3.7.egg/spiketoolkit/sorters/launcher.py\u001b[0m in \u001b[0;36mrun_sorters\u001b[0;34m(sorter_list, recording_dict_or_list, working_folder, grouping_property, shared_binary_copy, engine, engine_kargs, debug, write_log)\u001b[0m\n\u001b[1;32m    155\u001b[0m         \u001b[0;32mfor\u001b[0m \u001b[0marg_list\u001b[0m \u001b[0;32min\u001b[0m \u001b[0mtask_list\u001b[0m\u001b[0;34m:\u001b[0m\u001b[0;34m\u001b[0m\u001b[0;34m\u001b[0m\u001b[0m\n\u001b[1;32m    156\u001b[0m             \u001b[0;31m# print(arg_list)\u001b[0m\u001b[0;34m\u001b[0m\u001b[0;34m\u001b[0m\u001b[0;34m\u001b[0m\u001b[0m\n\u001b[0;32m--> 157\u001b[0;31m             \u001b[0m_run_one\u001b[0m\u001b[0;34m(\u001b[0m\u001b[0marg_list\u001b[0m\u001b[0;34m)\u001b[0m\u001b[0;34m\u001b[0m\u001b[0;34m\u001b[0m\u001b[0m\n\u001b[0m\u001b[1;32m    158\u001b[0m \u001b[0;34m\u001b[0m\u001b[0m\n\u001b[1;32m    159\u001b[0m     \u001b[0;32melif\u001b[0m \u001b[0mengine\u001b[0m \u001b[0;34m==\u001b[0m \u001b[0;34m'multiprocessing'\u001b[0m\u001b[0;34m:\u001b[0m\u001b[0;34m\u001b[0m\u001b[0;34m\u001b[0m\u001b[0m\n",
      "\u001b[0;32m~/miniconda3/envs/spikeinterface/lib/python3.7/site-packages/spiketoolkit-0.2.0-py3.7.egg/spiketoolkit/sorters/launcher.py\u001b[0m in \u001b[0;36m_run_one\u001b[0;34m(arg_list)\u001b[0m\n\u001b[1;32m     21\u001b[0m         \u001b[0mSorterClass\u001b[0m \u001b[0;34m=\u001b[0m \u001b[0msorter_dict\u001b[0m\u001b[0;34m[\u001b[0m\u001b[0msorter_name\u001b[0m\u001b[0;34m]\u001b[0m\u001b[0;34m\u001b[0m\u001b[0;34m\u001b[0m\u001b[0m\n\u001b[1;32m     22\u001b[0m         sorter = SorterClass(recording=recording, output_folder=output_folder, grouping_property=grouping_property,\n\u001b[0;32m---> 23\u001b[0;31m                             parallel=True, debug=debug, delete_output_folder=False)\n\u001b[0m\u001b[1;32m     24\u001b[0m         \u001b[0mparams\u001b[0m \u001b[0;34m=\u001b[0m \u001b[0mSorterClass\u001b[0m\u001b[0;34m.\u001b[0m\u001b[0mdefault_params\u001b[0m\u001b[0;34m(\u001b[0m\u001b[0;34m)\u001b[0m\u001b[0;34m\u001b[0m\u001b[0;34m\u001b[0m\u001b[0m\n\u001b[1;32m     25\u001b[0m         \u001b[0msorter\u001b[0m\u001b[0;34m.\u001b[0m\u001b[0mset_params\u001b[0m\u001b[0;34m(\u001b[0m\u001b[0;34m**\u001b[0m\u001b[0mparams\u001b[0m\u001b[0;34m)\u001b[0m\u001b[0;34m\u001b[0m\u001b[0;34m\u001b[0m\u001b[0m\n",
      "\u001b[0;32m~/miniconda3/envs/spikeinterface/lib/python3.7/site-packages/spiketoolkit-0.2.0-py3.7.egg/spiketoolkit/sorters/spyking_circus/spyking_circus.py\u001b[0m in \u001b[0;36m__init__\u001b[0;34m(self, **kargs)\u001b[0m\n\u001b[1;32m     48\u001b[0m \u001b[0;34m\u001b[0m\u001b[0m\n\u001b[1;32m     49\u001b[0m     \u001b[0;32mdef\u001b[0m \u001b[0m__init__\u001b[0m\u001b[0;34m(\u001b[0m\u001b[0mself\u001b[0m\u001b[0;34m,\u001b[0m \u001b[0;34m**\u001b[0m\u001b[0mkargs\u001b[0m\u001b[0;34m)\u001b[0m\u001b[0;34m:\u001b[0m\u001b[0;34m\u001b[0m\u001b[0;34m\u001b[0m\u001b[0m\n\u001b[0;32m---> 50\u001b[0;31m         \u001b[0mBaseSorter\u001b[0m\u001b[0;34m.\u001b[0m\u001b[0m__init__\u001b[0m\u001b[0;34m(\u001b[0m\u001b[0mself\u001b[0m\u001b[0;34m,\u001b[0m \u001b[0;34m**\u001b[0m\u001b[0mkargs\u001b[0m\u001b[0;34m)\u001b[0m\u001b[0;34m\u001b[0m\u001b[0;34m\u001b[0m\u001b[0m\n\u001b[0m\u001b[1;32m     51\u001b[0m \u001b[0;34m\u001b[0m\u001b[0m\n\u001b[1;32m     52\u001b[0m     \u001b[0;32mdef\u001b[0m \u001b[0m_setup_recording\u001b[0m\u001b[0;34m(\u001b[0m\u001b[0mself\u001b[0m\u001b[0;34m,\u001b[0m \u001b[0mrecording\u001b[0m\u001b[0;34m,\u001b[0m \u001b[0moutput_folder\u001b[0m\u001b[0;34m)\u001b[0m\u001b[0;34m:\u001b[0m\u001b[0;34m\u001b[0m\u001b[0;34m\u001b[0m\u001b[0m\n",
      "\u001b[0;32m~/miniconda3/envs/spikeinterface/lib/python3.7/site-packages/spiketoolkit-0.2.0-py3.7.egg/spiketoolkit/sorters/basesorter.py\u001b[0m in \u001b[0;36m__init__\u001b[0;34m(self, recording, output_folder, debug, grouping_property, parallel, delete_output_folder)\u001b[0m\n\u001b[1;32m     40\u001b[0m \u001b[0;34m\u001b[0m\u001b[0m\n\u001b[1;32m     41\u001b[0m         assert self.installed, \"\"\"This sorter {} is not installed.\n\u001b[0;32m---> 42\u001b[0;31m         Please install it with:  \\n{} \"\"\".format(self.sorter_name, self.installation_mesg)\n\u001b[0m\u001b[1;32m     43\u001b[0m \u001b[0;34m\u001b[0m\u001b[0m\n\u001b[1;32m     44\u001b[0m         \u001b[0mself\u001b[0m\u001b[0;34m.\u001b[0m\u001b[0mdebug\u001b[0m \u001b[0;34m=\u001b[0m \u001b[0mdebug\u001b[0m\u001b[0;34m\u001b[0m\u001b[0;34m\u001b[0m\u001b[0m\n",
      "\u001b[0;31mAssertionError\u001b[0m: This sorter spykingcircus is not installed.\n        Please install it with:  \n\n        >>> pip install spyking-circus\n        \n        Need OpenMPI working, for ubuntu do: \n            sudo apt install libopenmpi-dev\"\n        \n        More information on Spyking-Circus at: \"\n            https://spyking-circus.readthedocs.io/en/latest/\n     "
     ]
    }
   ],
   "source": [
    "# this cell is really verbose due to some sorter so switch off output console\n",
    "\n",
    "recording_dict = {'toy_tetrode' : rec0, 'toy_probe32': rec1}\n",
    "sorter_list = ['klusta', 'spykingcircus', 'tridesclous', 'herdingspikes']\n",
    "path = Path('comparison_example')\n",
    "working_folder = path / 'working_folder'\n",
    "if working_folder.is_dir():\n",
    "    shutil.rmtree(str(working_folder))\n",
    "\n",
    "t0 = time.perf_counter()\n",
    "st.sorters.run_sorters(sorter_list, recording_dict, working_folder, engine=None)\n",
    "t1 = time.perf_counter()\n",
    "print('total run time', t1-t0)"
   ]
  },
  {
   "cell_type": "markdown",
   "metadata": {},
   "source": [
    "### 4.3 Collect dataframes for comparison\n",
    "\n",
    "As shown previously, the performance is returned as a pandas dataframe. The `gather_sorting_comparison` function, gathers all the outputs in the working folder and merges them in a single dataframe."
   ]
  },
  {
   "cell_type": "code",
   "execution_count": null,
   "metadata": {},
   "outputs": [],
   "source": [
    "ground_truths = {'toy_tetrode': gt_sorting0, 'toy_probe32': gt_sorting1}\n",
    "\n",
    "comp, dataframes = st.comparison.gather_sorting_comparison(working_folder, ground_truths, use_multi_index=True)"
   ]
  },
  {
   "cell_type": "markdown",
   "metadata": {},
   "source": [
    "### 4.4 Display comparison tables\n",
    "\n",
    "Pandas dataframes can be nicely displayed as tables in the notebook."
   ]
  },
  {
   "cell_type": "code",
   "execution_count": null,
   "metadata": {},
   "outputs": [],
   "source": [
    "dataframes.keys()"
   ]
  },
  {
   "cell_type": "code",
   "execution_count": null,
   "metadata": {},
   "outputs": [],
   "source": [
    "dataframes['perf_pooled_with_sum']"
   ]
  },
  {
   "cell_type": "code",
   "execution_count": null,
   "metadata": {},
   "outputs": [],
   "source": [
    "dataframes['perf_pooled_with_average']"
   ]
  },
  {
   "cell_type": "code",
   "execution_count": null,
   "metadata": {},
   "outputs": [],
   "source": [
    "dataframes['run_times']"
   ]
  },
  {
   "cell_type": "markdown",
   "metadata": {},
   "source": [
    "### 4.5 Easy plot with seaborn\n",
    "\n",
    "Seaborn allows to easily plot pandas dataframes. Let's see some examples."
   ]
  },
  {
   "cell_type": "code",
   "execution_count": null,
   "metadata": {},
   "outputs": [],
   "source": [
    "run_times = dataframes['run_times'].reset_index()\n",
    "fig, ax = plt.subplots()\n",
    "sn.barplot(data=run_times, x='rec_name', y='run_time', hue='sorter_name', ax=ax)\n",
    "ax.set_title('Run times')"
   ]
  },
  {
   "cell_type": "code",
   "execution_count": null,
   "metadata": {},
   "outputs": [],
   "source": [
    "perfs = dataframes['perf_pooled_with_average'].reset_index()\n",
    "fig, ax = plt.subplots()\n",
    "sn.barplot(data=perfs, x='rec_name', y='tp_rate', hue='sorter_name', ax=ax)\n",
    "ax.set_title('True positive rate')\n",
    "ax.set_ylim(0, 100)"
   ]
  },
  {
   "cell_type": "code",
   "execution_count": null,
   "metadata": {},
   "outputs": [],
   "source": [
    "perfs = dataframes['perf_pooled_with_sum'].reset_index()\n",
    "fig, ax = plt.subplots()\n",
    "ax = sn.barplot(data=perfs, x='rec_name', y='accuracy', hue='sorter_name', ax=ax)\n",
    "ax.set_title('accuracy')\n",
    "ax.set_ylim(0, 100)"
   ]
  },
  {
   "cell_type": "markdown",
   "metadata": {},
   "source": [
    "This notebook showed the capabilities of `spiketoolkit` to perform pair-wise comparisons between spike sorting outputs, comparisons among multiple sorters and consensus-based spike sorting, and systematic comparisons for grount-truth data."
   ]
  }
 ],
 "metadata": {
  "kernelspec": {
   "display_name": "Python [conda env:spikeinterface]",
   "language": "python",
   "name": "conda-env-spikeinterface-py"
  },
  "language_info": {
   "codemirror_mode": {
    "name": "ipython",
    "version": 3
   },
   "file_extension": ".py",
   "mimetype": "text/x-python",
   "name": "python",
   "nbconvert_exporter": "python",
   "pygments_lexer": "ipython3",
   "version": "3.7.1"
  }
 },
 "nbformat": 4,
 "nbformat_minor": 2
}
