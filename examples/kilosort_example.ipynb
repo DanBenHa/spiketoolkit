{
 "cells": [
  {
   "cell_type": "code",
   "execution_count": null,
   "metadata": {},
   "outputs": [],
   "source": [
    "%load_ext autoreload\n",
    "%autoreload 2\n",
    "\n",
    "import spikeinterface as si\n",
    "import spiketoolkit as st\n",
    "import spikewidgets as sw\n",
    "import os"
   ]
  },
  {
   "cell_type": "code",
   "execution_count": null,
   "metadata": {},
   "outputs": [],
   "source": [
    "# Create a synthetic example\n",
    "recording,sorting_true=sw.example_datasets.toy_example1(duration=600)\n",
    "\n",
    "# Create a synthetic example\n",
    "# recording,sorting_true=sw.example_datasets.toy_example1(duration=600)\n",
    "\n",
    "# MEArec\n",
    "rec_folder = '/home/alessiob/Documents/Codes/MEArec/data/recordings/recordings_20cells_Neuronexus-32_30.0_10.0uV_12-10-2018:15:18'\n",
    "recording = si.MEArecRecordingExtractor(rec_folder)\n",
    "sorting_true = si.MEArecSortingExtractor(rec_folder)"
   ]
  },
  {
   "cell_type": "code",
   "execution_count": null,
   "metadata": {},
   "outputs": [],
   "source": [
    "kilosort_path='/home/alessiob/Documents/Codes/spike_sorting/KiloSort'\n",
    "npy_matlab_path='/home/alessiob/Documents/Codes/npy-matlab'"
   ]
  },
  {
   "cell_type": "code",
   "execution_count": null,
   "metadata": {},
   "outputs": [],
   "source": [
    "cd /home/alessiob/Documents/Codes/spike_sorting/spiketoolkit/examples"
   ]
  },
  {
   "cell_type": "code",
   "execution_count": null,
   "metadata": {},
   "outputs": [],
   "source": [
    "sorting=st.sorters.kilosort(\n",
    "        recording,\n",
    "        kilosort_path,\n",
    "        npy_matlab_path,\n",
    "        electrode_dimensions=[1,2]\n",
    "    )"
   ]
  },
  {
   "cell_type": "code",
   "execution_count": null,
   "metadata": {},
   "outputs": [],
   "source": [
    "sorting.getUnitIds()\n",
    "sorting_true.getUnitIds()"
   ]
  },
  {
   "cell_type": "code",
   "execution_count": null,
   "metadata": {},
   "outputs": [],
   "source": [
    "# Compare with ground truth\n",
    "SC=sw.SortingComparison(sorting_true,sorting)\n",
    "sw.SortingComparisonTable(SC).display()"
   ]
  }
 ],
 "metadata": {
  "kernelspec": {
   "display_name": "Python 3",
   "language": "python",
   "name": "python3"
  },
  "language_info": {
   "codemirror_mode": {
    "name": "ipython",
    "version": 3
   },
   "file_extension": ".py",
   "mimetype": "text/x-python",
   "name": "python",
   "nbconvert_exporter": "python",
   "pygments_lexer": "ipython3",
   "version": "3.6.6"
  }
 },
 "nbformat": 4,
 "nbformat_minor": 2
}
