{
 "cells": [
  {
   "cell_type": "code",
   "execution_count": null,
   "metadata": {},
   "outputs": [],
   "source": [
    "import spikeinterface as si\n",
    "import spiketoolkit as st\n",
    "import spikewidgets as sw"
   ]
  },
  {
   "cell_type": "code",
   "execution_count": null,
   "metadata": {},
   "outputs": [],
   "source": [
    "# Create a synthetic example\n",
    "recording,sorting_true=sw.example_datasets.toy_example1(duration=600)\n",
    "\n",
    "# MEArec\n",
    "rec_folder = '/home/alessiob/Documents/Codes/MEArec/data/recordings/recordings_20cells_Neuronexus-32_30.0_10.0uV_12-10-2018:15:18'\n",
    "recording = si.MEArecRecordingExtractor(rec_folder)\n",
    "sorting_true = si.MEArecSortingExtractor(rec_folder)"
   ]
  },
  {
   "cell_type": "code",
   "execution_count": null,
   "metadata": {},
   "outputs": [],
   "source": [
    "# Do the spike sorting\n",
    "# Note -- you should enable scrolling of the output for this cell\n",
    "sorting=st.sorters.klusta(\n",
    "        recording, # The recording extractor\n",
    "        output_folder=None,\n",
    "        probe_file=None,\n",
    "        file_name=None,\n",
    "        threshold_strong_std_factor=5,\n",
    "        threshold_weak_std_factor=2,\n",
    "        detect_spikes='negative',\n",
    "        extract_s_before=16,\n",
    "        extract_s_after=32,\n",
    "        n_features_per_channel=3,\n",
    "        pca_n_waveforms_max=10000,\n",
    "        num_starting_clusters=50\n",
    "        )"
   ]
  },
  {
   "cell_type": "code",
   "execution_count": null,
   "metadata": {},
   "outputs": [],
   "source": [
    "# Compare with ground truth\n",
    "SC=sw.SortingComparison(sorting_true,sorting)\n",
    "sw.SortingComparisonTable(SC).display()"
   ]
  },
  {
   "cell_type": "code",
   "execution_count": null,
   "metadata": {},
   "outputs": [],
   "source": []
  }
 ],
 "metadata": {
  "kernelspec": {
   "display_name": "Python 3",
   "language": "python",
   "name": "python3"
  },
  "language_info": {
   "codemirror_mode": {
    "name": "ipython",
    "version": 3
   },
   "file_extension": ".py",
   "mimetype": "text/x-python",
   "name": "python",
   "nbconvert_exporter": "python",
   "pygments_lexer": "ipython3",
   "version": "3.7.0"
  }
 },
 "nbformat": 4,
 "nbformat_minor": 2
}
