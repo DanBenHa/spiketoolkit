{
 "cells": [
  {
   "cell_type": "code",
   "execution_count": null,
   "metadata": {},
   "outputs": [],
   "source": [
    "%load_ext autoreload\n",
    "%autoreload 2"
   ]
  },
  {
   "cell_type": "code",
   "execution_count": null,
   "metadata": {},
   "outputs": [],
   "source": [
    "import spikeinterface as si\n",
    "import spiketoolkit as st\n",
    "import spikewidgets as sw"
   ]
  },
  {
   "cell_type": "code",
   "execution_count": null,
   "metadata": {},
   "outputs": [],
   "source": [
    "# Create a synthetic example\n",
    "recording,sorting_true=sw.example_datasets.toy_example1(duration=600)\n",
    "\n",
    "# MEArec\n",
    "#rec_folder = '/home/alessio/Documents/Codes/MEArec/data/recordings/recordings_20cells_Neuronexus-32_10.0_10.0uV_15-10-2018:21:52'\n",
    "#recording = si.MEArecRecordingExtractor(rec_folder)\n",
    "#sorting_true = si.MEArecSortingExtractor(rec_folder)"
   ]
  },
  {
   "cell_type": "code",
   "execution_count": null,
   "metadata": {},
   "outputs": [],
   "source": [
    "# Do the spike sorting\n",
    "# Note -- you should enable scrolling of the output for this cell\n",
    "sorting=st.sorters.mountainsort4(\n",
    "    freq_min=300,\n",
    "    freq_max=6000,\n",
    "    whiten=True,\n",
    "    recording=recording,\n",
    "    detect_sign=-1,\n",
    "    adjacency_radius=-1,\n",
    "    detect_threshold=3,\n",
    "    noise_overlap_threshold=0.15\n",
    ")"
   ]
  },
  {
   "cell_type": "code",
   "execution_count": null,
   "metadata": {},
   "outputs": [],
   "source": [
    "# Compare with ground truth\n",
    "SC=st.comparison.SortingComparison(sorting, sorting_true, delta_tp=10)"
   ]
  },
  {
   "cell_type": "code",
   "execution_count": null,
   "metadata": {},
   "outputs": [],
   "source": [
    "sw.SortingComparisonTable(SC).display()"
   ]
  },
  {
   "cell_type": "code",
   "execution_count": null,
   "metadata": {},
   "outputs": [],
   "source": [
    "sw.SortingComparisonTable(SC, reference=2).display()"
   ]
  },
  {
   "cell_type": "code",
   "execution_count": null,
   "metadata": {},
   "outputs": [],
   "source": [
    "SC.getMappedSorting1().getMappedUnitIds()"
   ]
  },
  {
   "cell_type": "code",
   "execution_count": null,
   "metadata": {},
   "outputs": [],
   "source": [
    "sw.UnitWaveformsWidget(recording=recording, sorting=sorting_true).plot()"
   ]
  },
  {
   "cell_type": "code",
   "execution_count": null,
   "metadata": {},
   "outputs": [],
   "source": [
    "sw.UnitWaveformsWidget(recording=recording, sorting=SC.getMappedSorting2()).plot()"
   ]
  },
  {
   "cell_type": "code",
   "execution_count": null,
   "metadata": {},
   "outputs": [],
   "source": [
    "performance = st.comparison.compute_performance(SC)"
   ]
  },
  {
   "cell_type": "code",
   "execution_count": null,
   "metadata": {},
   "outputs": [],
   "source": [
    "ax = SC.plotConfusionMatrix()"
   ]
  },
  {
   "cell_type": "code",
   "execution_count": null,
   "metadata": {},
   "outputs": [],
   "source": []
  }
 ],
 "metadata": {
  "kernelspec": {
   "display_name": "Python 3",
   "language": "python",
   "name": "python3"
  },
  "language_info": {
   "codemirror_mode": {
    "name": "ipython",
    "version": 3
   },
   "file_extension": ".py",
   "mimetype": "text/x-python",
   "name": "python",
   "nbconvert_exporter": "python",
   "pygments_lexer": "ipython3",
   "version": "3.6.6"
  }
 },
 "nbformat": 4,
 "nbformat_minor": 2
}
